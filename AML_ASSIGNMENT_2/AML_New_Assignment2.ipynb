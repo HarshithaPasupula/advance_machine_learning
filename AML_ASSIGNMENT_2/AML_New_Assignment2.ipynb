{
  "nbformat": 4,
  "nbformat_minor": 0,
  "metadata": {
    "colab": {
      "provenance": [],
      "gpuType": "V100"
    },
    "kernelspec": {
      "name": "python3",
      "display_name": "Python 3"
    },
    "language_info": {
      "name": "python"
    },
    "accelerator": "GPU"
  },
  "cells": [
    {
      "cell_type": "code",
      "execution_count": null,
      "metadata": {
        "colab": {
          "base_uri": "https://localhost:8080/",
          "height": 90
        },
        "id": "AiBFUGziI9MN",
        "outputId": "39492aba-3da6-4d6f-c168-965d4c4ad505"
      },
      "outputs": [
        {
          "output_type": "display_data",
          "data": {
            "text/plain": [
              "<IPython.core.display.HTML object>"
            ],
            "text/html": [
              "\n",
              "     <input type=\"file\" id=\"files-4632a02a-9e28-4b7e-a3fb-7c80306e0b4b\" name=\"files[]\" multiple disabled\n",
              "        style=\"border:none\" />\n",
              "     <output id=\"result-4632a02a-9e28-4b7e-a3fb-7c80306e0b4b\">\n",
              "      Upload widget is only available when the cell has been executed in the\n",
              "      current browser session. Please rerun this cell to enable.\n",
              "      </output>\n",
              "      <script>// Copyright 2017 Google LLC\n",
              "//\n",
              "// Licensed under the Apache License, Version 2.0 (the \"License\");\n",
              "// you may not use this file except in compliance with the License.\n",
              "// You may obtain a copy of the License at\n",
              "//\n",
              "//      http://www.apache.org/licenses/LICENSE-2.0\n",
              "//\n",
              "// Unless required by applicable law or agreed to in writing, software\n",
              "// distributed under the License is distributed on an \"AS IS\" BASIS,\n",
              "// WITHOUT WARRANTIES OR CONDITIONS OF ANY KIND, either express or implied.\n",
              "// See the License for the specific language governing permissions and\n",
              "// limitations under the License.\n",
              "\n",
              "/**\n",
              " * @fileoverview Helpers for google.colab Python module.\n",
              " */\n",
              "(function(scope) {\n",
              "function span(text, styleAttributes = {}) {\n",
              "  const element = document.createElement('span');\n",
              "  element.textContent = text;\n",
              "  for (const key of Object.keys(styleAttributes)) {\n",
              "    element.style[key] = styleAttributes[key];\n",
              "  }\n",
              "  return element;\n",
              "}\n",
              "\n",
              "// Max number of bytes which will be uploaded at a time.\n",
              "const MAX_PAYLOAD_SIZE = 100 * 1024;\n",
              "\n",
              "function _uploadFiles(inputId, outputId) {\n",
              "  const steps = uploadFilesStep(inputId, outputId);\n",
              "  const outputElement = document.getElementById(outputId);\n",
              "  // Cache steps on the outputElement to make it available for the next call\n",
              "  // to uploadFilesContinue from Python.\n",
              "  outputElement.steps = steps;\n",
              "\n",
              "  return _uploadFilesContinue(outputId);\n",
              "}\n",
              "\n",
              "// This is roughly an async generator (not supported in the browser yet),\n",
              "// where there are multiple asynchronous steps and the Python side is going\n",
              "// to poll for completion of each step.\n",
              "// This uses a Promise to block the python side on completion of each step,\n",
              "// then passes the result of the previous step as the input to the next step.\n",
              "function _uploadFilesContinue(outputId) {\n",
              "  const outputElement = document.getElementById(outputId);\n",
              "  const steps = outputElement.steps;\n",
              "\n",
              "  const next = steps.next(outputElement.lastPromiseValue);\n",
              "  return Promise.resolve(next.value.promise).then((value) => {\n",
              "    // Cache the last promise value to make it available to the next\n",
              "    // step of the generator.\n",
              "    outputElement.lastPromiseValue = value;\n",
              "    return next.value.response;\n",
              "  });\n",
              "}\n",
              "\n",
              "/**\n",
              " * Generator function which is called between each async step of the upload\n",
              " * process.\n",
              " * @param {string} inputId Element ID of the input file picker element.\n",
              " * @param {string} outputId Element ID of the output display.\n",
              " * @return {!Iterable<!Object>} Iterable of next steps.\n",
              " */\n",
              "function* uploadFilesStep(inputId, outputId) {\n",
              "  const inputElement = document.getElementById(inputId);\n",
              "  inputElement.disabled = false;\n",
              "\n",
              "  const outputElement = document.getElementById(outputId);\n",
              "  outputElement.innerHTML = '';\n",
              "\n",
              "  const pickedPromise = new Promise((resolve) => {\n",
              "    inputElement.addEventListener('change', (e) => {\n",
              "      resolve(e.target.files);\n",
              "    });\n",
              "  });\n",
              "\n",
              "  const cancel = document.createElement('button');\n",
              "  inputElement.parentElement.appendChild(cancel);\n",
              "  cancel.textContent = 'Cancel upload';\n",
              "  const cancelPromise = new Promise((resolve) => {\n",
              "    cancel.onclick = () => {\n",
              "      resolve(null);\n",
              "    };\n",
              "  });\n",
              "\n",
              "  // Wait for the user to pick the files.\n",
              "  const files = yield {\n",
              "    promise: Promise.race([pickedPromise, cancelPromise]),\n",
              "    response: {\n",
              "      action: 'starting',\n",
              "    }\n",
              "  };\n",
              "\n",
              "  cancel.remove();\n",
              "\n",
              "  // Disable the input element since further picks are not allowed.\n",
              "  inputElement.disabled = true;\n",
              "\n",
              "  if (!files) {\n",
              "    return {\n",
              "      response: {\n",
              "        action: 'complete',\n",
              "      }\n",
              "    };\n",
              "  }\n",
              "\n",
              "  for (const file of files) {\n",
              "    const li = document.createElement('li');\n",
              "    li.append(span(file.name, {fontWeight: 'bold'}));\n",
              "    li.append(span(\n",
              "        `(${file.type || 'n/a'}) - ${file.size} bytes, ` +\n",
              "        `last modified: ${\n",
              "            file.lastModifiedDate ? file.lastModifiedDate.toLocaleDateString() :\n",
              "                                    'n/a'} - `));\n",
              "    const percent = span('0% done');\n",
              "    li.appendChild(percent);\n",
              "\n",
              "    outputElement.appendChild(li);\n",
              "\n",
              "    const fileDataPromise = new Promise((resolve) => {\n",
              "      const reader = new FileReader();\n",
              "      reader.onload = (e) => {\n",
              "        resolve(e.target.result);\n",
              "      };\n",
              "      reader.readAsArrayBuffer(file);\n",
              "    });\n",
              "    // Wait for the data to be ready.\n",
              "    let fileData = yield {\n",
              "      promise: fileDataPromise,\n",
              "      response: {\n",
              "        action: 'continue',\n",
              "      }\n",
              "    };\n",
              "\n",
              "    // Use a chunked sending to avoid message size limits. See b/62115660.\n",
              "    let position = 0;\n",
              "    do {\n",
              "      const length = Math.min(fileData.byteLength - position, MAX_PAYLOAD_SIZE);\n",
              "      const chunk = new Uint8Array(fileData, position, length);\n",
              "      position += length;\n",
              "\n",
              "      const base64 = btoa(String.fromCharCode.apply(null, chunk));\n",
              "      yield {\n",
              "        response: {\n",
              "          action: 'append',\n",
              "          file: file.name,\n",
              "          data: base64,\n",
              "        },\n",
              "      };\n",
              "\n",
              "      let percentDone = fileData.byteLength === 0 ?\n",
              "          100 :\n",
              "          Math.round((position / fileData.byteLength) * 100);\n",
              "      percent.textContent = `${percentDone}% done`;\n",
              "\n",
              "    } while (position < fileData.byteLength);\n",
              "  }\n",
              "\n",
              "  // All done.\n",
              "  yield {\n",
              "    response: {\n",
              "      action: 'complete',\n",
              "    }\n",
              "  };\n",
              "}\n",
              "\n",
              "scope.google = scope.google || {};\n",
              "scope.google.colab = scope.google.colab || {};\n",
              "scope.google.colab._files = {\n",
              "  _uploadFiles,\n",
              "  _uploadFilesContinue,\n",
              "};\n",
              "})(self);\n",
              "</script> "
            ]
          },
          "metadata": {}
        },
        {
          "output_type": "stream",
          "name": "stdout",
          "text": [
            "Saving kaggle.json to kaggle.json\n"
          ]
        },
        {
          "output_type": "execute_result",
          "data": {
            "text/plain": [
              "{'kaggle.json': b'{\"username\":\"harshikutty\",\"key\":\"18db70790316a26eb1a34aa1e79a33a1\"}'}"
            ]
          },
          "metadata": {},
          "execution_count": 3
        }
      ],
      "source": [
        "\n",
        "# To upload the kaggle.json file\n",
        "from google.colab import files\n",
        "files.upload()"
      ]
    },
    {
      "cell_type": "code",
      "source": [
        "!mkdir ~/.kaggle\n",
        "\n",
        "# Changing the prath to the .kaggle folder\n",
        "!cp kaggle.json ~/.kaggle/\n",
        "#  Changing the permissions to perform read and write access\n",
        "!chmod 600 ~/.kaggle/kaggle.json"
      ],
      "metadata": {
        "id": "hZIRZgGOJJVe"
      },
      "execution_count": null,
      "outputs": []
    },
    {
      "cell_type": "code",
      "source": [
        "# to Download the dogs-vs-cats dataset\n",
        "!kaggle competitions download -c dogs-vs-cats"
      ],
      "metadata": {
        "colab": {
          "base_uri": "https://localhost:8080/"
        },
        "id": "HzPKdPpJJVTG",
        "outputId": "02f1512a-ff20-4798-fa3b-68b7218e13a9"
      },
      "execution_count": null,
      "outputs": [
        {
          "output_type": "stream",
          "name": "stdout",
          "text": [
            "Downloading dogs-vs-cats.zip to /content\n",
            "100% 811M/812M [00:25<00:00, 36.9MB/s]\n",
            "100% 812M/812M [00:25<00:00, 33.6MB/s]\n"
          ]
        }
      ]
    },
    {
      "cell_type": "code",
      "source": [
        "# Unzipping dogs-vs-cats dataset file\n",
        "!unzip -qq dogs-vs-cats.zip\n",
        "\n"
      ],
      "metadata": {
        "id": "27rD_zpgLNrA"
      },
      "execution_count": null,
      "outputs": []
    },
    {
      "cell_type": "code",
      "source": [
        "# Unzipping train sample\n",
        "!unzip -qq train.zip"
      ],
      "metadata": {
        "id": "UWwDX8YiLWOd"
      },
      "execution_count": null,
      "outputs": []
    },
    {
      "cell_type": "code",
      "source": [
        "!pip install tensorflow==2.12"
      ],
      "metadata": {
        "colab": {
          "base_uri": "https://localhost:8080/"
        },
        "id": "HSzaRkBsLbQp",
        "outputId": "bdf60b4d-f0f2-4257-8a98-f0d8d20565ca"
      },
      "execution_count": null,
      "outputs": [
        {
          "output_type": "stream",
          "name": "stdout",
          "text": [
            "Collecting tensorflow==2.12\n",
            "  Downloading tensorflow-2.12.0-cp310-cp310-manylinux_2_17_x86_64.manylinux2014_x86_64.whl (585.9 MB)\n",
            "\u001b[2K     \u001b[90m━━━━━━━━━━━━━━━━━━━━━━━━━━━━━━━━━━━━━━━━\u001b[0m \u001b[32m585.9/585.9 MB\u001b[0m \u001b[31m3.0 MB/s\u001b[0m eta \u001b[36m0:00:00\u001b[0m\n",
            "\u001b[?25hRequirement already satisfied: absl-py>=1.0.0 in /usr/local/lib/python3.10/dist-packages (from tensorflow==2.12) (1.4.0)\n",
            "Requirement already satisfied: astunparse>=1.6.0 in /usr/local/lib/python3.10/dist-packages (from tensorflow==2.12) (1.6.3)\n",
            "Requirement already satisfied: flatbuffers>=2.0 in /usr/local/lib/python3.10/dist-packages (from tensorflow==2.12) (23.5.26)\n",
            "Collecting gast<=0.4.0,>=0.2.1 (from tensorflow==2.12)\n",
            "  Downloading gast-0.4.0-py3-none-any.whl (9.8 kB)\n",
            "Requirement already satisfied: google-pasta>=0.1.1 in /usr/local/lib/python3.10/dist-packages (from tensorflow==2.12) (0.2.0)\n",
            "Requirement already satisfied: grpcio<2.0,>=1.24.3 in /usr/local/lib/python3.10/dist-packages (from tensorflow==2.12) (1.59.0)\n",
            "Requirement already satisfied: h5py>=2.9.0 in /usr/local/lib/python3.10/dist-packages (from tensorflow==2.12) (3.9.0)\n",
            "Requirement already satisfied: jax>=0.3.15 in /usr/local/lib/python3.10/dist-packages (from tensorflow==2.12) (0.4.16)\n",
            "Collecting keras<2.13,>=2.12.0 (from tensorflow==2.12)\n",
            "  Downloading keras-2.12.0-py2.py3-none-any.whl (1.7 MB)\n",
            "\u001b[2K     \u001b[90m━━━━━━━━━━━━━━━━━━━━━━━━━━━━━━━━━━━━━━━━\u001b[0m \u001b[32m1.7/1.7 MB\u001b[0m \u001b[31m73.7 MB/s\u001b[0m eta \u001b[36m0:00:00\u001b[0m\n",
            "\u001b[?25hRequirement already satisfied: libclang>=13.0.0 in /usr/local/lib/python3.10/dist-packages (from tensorflow==2.12) (16.0.6)\n",
            "Requirement already satisfied: numpy<1.24,>=1.22 in /usr/local/lib/python3.10/dist-packages (from tensorflow==2.12) (1.23.5)\n",
            "Requirement already satisfied: opt-einsum>=2.3.2 in /usr/local/lib/python3.10/dist-packages (from tensorflow==2.12) (3.3.0)\n",
            "Requirement already satisfied: packaging in /usr/local/lib/python3.10/dist-packages (from tensorflow==2.12) (23.2)\n",
            "Requirement already satisfied: protobuf!=4.21.0,!=4.21.1,!=4.21.2,!=4.21.3,!=4.21.4,!=4.21.5,<5.0.0dev,>=3.20.3 in /usr/local/lib/python3.10/dist-packages (from tensorflow==2.12) (3.20.3)\n",
            "Requirement already satisfied: setuptools in /usr/local/lib/python3.10/dist-packages (from tensorflow==2.12) (67.7.2)\n",
            "Requirement already satisfied: six>=1.12.0 in /usr/local/lib/python3.10/dist-packages (from tensorflow==2.12) (1.16.0)\n",
            "Collecting tensorboard<2.13,>=2.12 (from tensorflow==2.12)\n",
            "  Downloading tensorboard-2.12.3-py3-none-any.whl (5.6 MB)\n",
            "\u001b[2K     \u001b[90m━━━━━━━━━━━━━━━━━━━━━━━━━━━━━━━━━━━━━━━━\u001b[0m \u001b[32m5.6/5.6 MB\u001b[0m \u001b[31m84.2 MB/s\u001b[0m eta \u001b[36m0:00:00\u001b[0m\n",
            "\u001b[?25hCollecting tensorflow-estimator<2.13,>=2.12.0 (from tensorflow==2.12)\n",
            "  Downloading tensorflow_estimator-2.12.0-py2.py3-none-any.whl (440 kB)\n",
            "\u001b[2K     \u001b[90m━━━━━━━━━━━━━━━━━━━━━━━━━━━━━━━━━━━━━━━━\u001b[0m \u001b[32m440.7/440.7 kB\u001b[0m \u001b[31m38.9 MB/s\u001b[0m eta \u001b[36m0:00:00\u001b[0m\n",
            "\u001b[?25hRequirement already satisfied: termcolor>=1.1.0 in /usr/local/lib/python3.10/dist-packages (from tensorflow==2.12) (2.3.0)\n",
            "Requirement already satisfied: typing-extensions>=3.6.6 in /usr/local/lib/python3.10/dist-packages (from tensorflow==2.12) (4.5.0)\n",
            "Requirement already satisfied: wrapt<1.15,>=1.11.0 in /usr/local/lib/python3.10/dist-packages (from tensorflow==2.12) (1.14.1)\n",
            "Requirement already satisfied: tensorflow-io-gcs-filesystem>=0.23.1 in /usr/local/lib/python3.10/dist-packages (from tensorflow==2.12) (0.34.0)\n",
            "Requirement already satisfied: wheel<1.0,>=0.23.0 in /usr/local/lib/python3.10/dist-packages (from astunparse>=1.6.0->tensorflow==2.12) (0.41.2)\n",
            "Requirement already satisfied: ml-dtypes>=0.2.0 in /usr/local/lib/python3.10/dist-packages (from jax>=0.3.15->tensorflow==2.12) (0.2.0)\n",
            "Requirement already satisfied: scipy>=1.7 in /usr/local/lib/python3.10/dist-packages (from jax>=0.3.15->tensorflow==2.12) (1.11.3)\n",
            "Requirement already satisfied: google-auth<3,>=1.6.3 in /usr/local/lib/python3.10/dist-packages (from tensorboard<2.13,>=2.12->tensorflow==2.12) (2.17.3)\n",
            "Requirement already satisfied: google-auth-oauthlib<1.1,>=0.5 in /usr/local/lib/python3.10/dist-packages (from tensorboard<2.13,>=2.12->tensorflow==2.12) (1.0.0)\n",
            "Requirement already satisfied: markdown>=2.6.8 in /usr/local/lib/python3.10/dist-packages (from tensorboard<2.13,>=2.12->tensorflow==2.12) (3.5)\n",
            "Requirement already satisfied: requests<3,>=2.21.0 in /usr/local/lib/python3.10/dist-packages (from tensorboard<2.13,>=2.12->tensorflow==2.12) (2.31.0)\n",
            "Requirement already satisfied: tensorboard-data-server<0.8.0,>=0.7.0 in /usr/local/lib/python3.10/dist-packages (from tensorboard<2.13,>=2.12->tensorflow==2.12) (0.7.2)\n",
            "Requirement already satisfied: werkzeug>=1.0.1 in /usr/local/lib/python3.10/dist-packages (from tensorboard<2.13,>=2.12->tensorflow==2.12) (3.0.1)\n",
            "Requirement already satisfied: cachetools<6.0,>=2.0.0 in /usr/local/lib/python3.10/dist-packages (from google-auth<3,>=1.6.3->tensorboard<2.13,>=2.12->tensorflow==2.12) (5.3.2)\n",
            "Requirement already satisfied: pyasn1-modules>=0.2.1 in /usr/local/lib/python3.10/dist-packages (from google-auth<3,>=1.6.3->tensorboard<2.13,>=2.12->tensorflow==2.12) (0.3.0)\n",
            "Requirement already satisfied: rsa<5,>=3.1.4 in /usr/local/lib/python3.10/dist-packages (from google-auth<3,>=1.6.3->tensorboard<2.13,>=2.12->tensorflow==2.12) (4.9)\n",
            "Requirement already satisfied: requests-oauthlib>=0.7.0 in /usr/local/lib/python3.10/dist-packages (from google-auth-oauthlib<1.1,>=0.5->tensorboard<2.13,>=2.12->tensorflow==2.12) (1.3.1)\n",
            "Requirement already satisfied: charset-normalizer<4,>=2 in /usr/local/lib/python3.10/dist-packages (from requests<3,>=2.21.0->tensorboard<2.13,>=2.12->tensorflow==2.12) (3.3.1)\n",
            "Requirement already satisfied: idna<4,>=2.5 in /usr/local/lib/python3.10/dist-packages (from requests<3,>=2.21.0->tensorboard<2.13,>=2.12->tensorflow==2.12) (3.4)\n",
            "Requirement already satisfied: urllib3<3,>=1.21.1 in /usr/local/lib/python3.10/dist-packages (from requests<3,>=2.21.0->tensorboard<2.13,>=2.12->tensorflow==2.12) (2.0.7)\n",
            "Requirement already satisfied: certifi>=2017.4.17 in /usr/local/lib/python3.10/dist-packages (from requests<3,>=2.21.0->tensorboard<2.13,>=2.12->tensorflow==2.12) (2023.7.22)\n",
            "Requirement already satisfied: MarkupSafe>=2.1.1 in /usr/local/lib/python3.10/dist-packages (from werkzeug>=1.0.1->tensorboard<2.13,>=2.12->tensorflow==2.12) (2.1.3)\n",
            "Requirement already satisfied: pyasn1<0.6.0,>=0.4.6 in /usr/local/lib/python3.10/dist-packages (from pyasn1-modules>=0.2.1->google-auth<3,>=1.6.3->tensorboard<2.13,>=2.12->tensorflow==2.12) (0.5.0)\n",
            "Requirement already satisfied: oauthlib>=3.0.0 in /usr/local/lib/python3.10/dist-packages (from requests-oauthlib>=0.7.0->google-auth-oauthlib<1.1,>=0.5->tensorboard<2.13,>=2.12->tensorflow==2.12) (3.2.2)\n",
            "Installing collected packages: tensorflow-estimator, keras, gast, tensorboard, tensorflow\n",
            "  Attempting uninstall: tensorflow-estimator\n",
            "    Found existing installation: tensorflow-estimator 2.14.0\n",
            "    Uninstalling tensorflow-estimator-2.14.0:\n",
            "      Successfully uninstalled tensorflow-estimator-2.14.0\n",
            "  Attempting uninstall: keras\n",
            "    Found existing installation: keras 2.14.0\n",
            "    Uninstalling keras-2.14.0:\n",
            "      Successfully uninstalled keras-2.14.0\n",
            "  Attempting uninstall: gast\n",
            "    Found existing installation: gast 0.5.4\n",
            "    Uninstalling gast-0.5.4:\n",
            "      Successfully uninstalled gast-0.5.4\n",
            "  Attempting uninstall: tensorboard\n",
            "    Found existing installation: tensorboard 2.14.1\n",
            "    Uninstalling tensorboard-2.14.1:\n",
            "      Successfully uninstalled tensorboard-2.14.1\n",
            "  Attempting uninstall: tensorflow\n",
            "    Found existing installation: tensorflow 2.14.0\n",
            "    Uninstalling tensorflow-2.14.0:\n",
            "      Successfully uninstalled tensorflow-2.14.0\n",
            "Successfully installed gast-0.4.0 keras-2.12.0 tensorboard-2.12.3 tensorflow-2.12.0 tensorflow-estimator-2.12.0\n"
          ]
        }
      ]
    },
    {
      "cell_type": "code",
      "source": [
        "# to create the directories and assigning the subset of the cat and dog images for the traing validation and testing.\n",
        "import os, shutil, pathlib\n",
        "\n",
        "#shutil.rmtree(\"cats_vs_dogs_small\")\n",
        "\n",
        "original_dir = pathlib.Path(\"train\")\n",
        "new_base_dir = pathlib.Path(\"cats_vs_dogs_small\")\n",
        "\n",
        "def make_subset(subset_name, start_index, end_index):\n",
        "    for category in (\"cat\", \"dog\"):\n",
        "        dir = new_base_dir / subset_name / category\n",
        "        os.makedirs(dir)\n",
        "        fnames = [f\"{category}.{i}.jpg\" for i in range(start_index, end_index)]\n",
        "        for fname in fnames:\n",
        "            shutil.copyfile(src=original_dir / fname,\n",
        "                            dst=dir / fname)\n",
        "\n",
        "make_subset(\"train\", start_index=0, end_index=1000)\n",
        "make_subset(\"validation\", start_index=1000, end_index=1500)\n",
        "make_subset(\"test\", start_index=1500, end_index=2500)"
      ],
      "metadata": {
        "id": "IwP_jokAMR2D"
      },
      "execution_count": null,
      "outputs": []
    },
    {
      "cell_type": "code",
      "source": [
        "#Building the Model.\n",
        "from tensorflow import keras\n",
        "from tensorflow.keras import layers\n",
        "\n",
        "inputs = keras.Input(shape=(180, 180, 3))\n",
        "x = layers.Rescaling(1./255)(inputs)\n",
        "x = layers.Conv2D(filters=32, kernel_size=3, activation=\"relu\")(x)\n",
        "x = layers.MaxPooling2D(pool_size=2)(x)\n",
        "x = layers.Conv2D(filters=64, kernel_size=3, activation=\"relu\")(x)\n",
        "x = layers.MaxPooling2D(pool_size=2)(x)\n",
        "x = layers.Conv2D(filters=128, kernel_size=3, activation=\"relu\")(x)\n",
        "x = layers.MaxPooling2D(pool_size=2)(x)\n",
        "x = layers.Conv2D(filters=256, kernel_size=3, activation=\"relu\")(x)\n",
        "x = layers.MaxPooling2D(pool_size=2)(x)\n",
        "x = layers.Conv2D(filters=256, kernel_size=3, activation=\"relu\")(x)\n",
        "x = layers.Flatten()(x)\n",
        "outputs = layers.Dense(1, activation=\"sigmoid\")(x)\n",
        "model = keras.Model(inputs=inputs, outputs=outputs)\n",
        "#Running the summary of the model.\n",
        "model.summary()"
      ],
      "metadata": {
        "colab": {
          "base_uri": "https://localhost:8080/"
        },
        "id": "6xWU_8-NNTBE",
        "outputId": "d6ec7ff5-6c94-4f92-f6a1-c91b8a70ab6e"
      },
      "execution_count": null,
      "outputs": [
        {
          "output_type": "stream",
          "name": "stdout",
          "text": [
            "Model: \"model_1\"\n",
            "_________________________________________________________________\n",
            " Layer (type)                Output Shape              Param #   \n",
            "=================================================================\n",
            " input_2 (InputLayer)        [(None, 180, 180, 3)]     0         \n",
            "                                                                 \n",
            " rescaling_1 (Rescaling)     (None, 180, 180, 3)       0         \n",
            "                                                                 \n",
            " conv2d_5 (Conv2D)           (None, 178, 178, 32)      896       \n",
            "                                                                 \n",
            " max_pooling2d_4 (MaxPooling  (None, 89, 89, 32)       0         \n",
            " 2D)                                                             \n",
            "                                                                 \n",
            " conv2d_6 (Conv2D)           (None, 87, 87, 64)        18496     \n",
            "                                                                 \n",
            " max_pooling2d_5 (MaxPooling  (None, 43, 43, 64)       0         \n",
            " 2D)                                                             \n",
            "                                                                 \n",
            " conv2d_7 (Conv2D)           (None, 41, 41, 128)       73856     \n",
            "                                                                 \n",
            " max_pooling2d_6 (MaxPooling  (None, 20, 20, 128)      0         \n",
            " 2D)                                                             \n",
            "                                                                 \n",
            " conv2d_8 (Conv2D)           (None, 18, 18, 256)       295168    \n",
            "                                                                 \n",
            " max_pooling2d_7 (MaxPooling  (None, 9, 9, 256)        0         \n",
            " 2D)                                                             \n",
            "                                                                 \n",
            " conv2d_9 (Conv2D)           (None, 7, 7, 256)         590080    \n",
            "                                                                 \n",
            " flatten_1 (Flatten)         (None, 12544)             0         \n",
            "                                                                 \n",
            " dense_1 (Dense)             (None, 1)                 12545     \n",
            "                                                                 \n",
            "=================================================================\n",
            "Total params: 991,041\n",
            "Trainable params: 991,041\n",
            "Non-trainable params: 0\n",
            "_________________________________________________________________\n"
          ]
        }
      ]
    },
    {
      "cell_type": "code",
      "source": [
        "# to Compile the model.\n",
        "model.compile(loss=\"binary_crossentropy\",\n",
        "              optimizer=\"rmsprop\",\n",
        "              metrics=[\"accuracy\"])"
      ],
      "metadata": {
        "id": "Y2EDuQIaNYl7"
      },
      "execution_count": null,
      "outputs": []
    },
    {
      "cell_type": "code",
      "source": [
        "#to create the image datasets from directories for training, validation, and testing, each with specified image size and batch size.\n",
        "from tensorflow.keras.utils import image_dataset_from_directory\n",
        "\n",
        "train_dataset = image_dataset_from_directory(\n",
        "    new_base_dir / \"train\",\n",
        "    image_size=(180, 180),\n",
        "    batch_size=32)\n",
        "validation_dataset = image_dataset_from_directory(\n",
        "    new_base_dir / \"validation\",\n",
        "    image_size=(180, 180),\n",
        "    batch_size=32)\n",
        "test_dataset = image_dataset_from_directory(\n",
        "    new_base_dir / \"test\",\n",
        "    image_size=(180, 180),\n",
        "    batch_size=32)"
      ],
      "metadata": {
        "colab": {
          "base_uri": "https://localhost:8080/"
        },
        "id": "tzt1uhz7Nect",
        "outputId": "8986589e-6857-4f5b-ba0c-1d124ebad04a"
      },
      "execution_count": null,
      "outputs": [
        {
          "output_type": "stream",
          "name": "stdout",
          "text": [
            "Found 2000 files belonging to 2 classes.\n",
            "Found 1000 files belonging to 2 classes.\n",
            "Found 2000 files belonging to 2 classes.\n"
          ]
        }
      ]
    },
    {
      "cell_type": "code",
      "source": [
        "# to use the callbacks function to monitor validation loss and running the model\n",
        "callbacks = [\n",
        "    keras.callbacks.ModelCheckpoint(\n",
        "        filepath=\"convolutionnetwork_from_scratchmodel.keras\",\n",
        "        save_best_only=True,\n",
        "        monitor=\"val_loss\")\n",
        "]\n",
        "history = model.fit(\n",
        "    train_dataset,\n",
        "    epochs=30,\n",
        "    validation_data=validation_dataset,\n",
        "    callbacks=callbacks)"
      ],
      "metadata": {
        "colab": {
          "base_uri": "https://localhost:8080/"
        },
        "id": "nRiWeX7COOBn",
        "outputId": "305ee261-8842-4e61-e3fa-354dc11b358f"
      },
      "execution_count": null,
      "outputs": [
        {
          "output_type": "stream",
          "name": "stdout",
          "text": [
            "Epoch 1/30\n",
            "63/63 [==============================] - 18s 89ms/step - loss: 0.7058 - accuracy: 0.5005 - val_loss: 0.6924 - val_accuracy: 0.5030\n",
            "Epoch 2/30\n",
            "63/63 [==============================] - 6s 85ms/step - loss: 0.6906 - accuracy: 0.5260 - val_loss: 0.6867 - val_accuracy: 0.5740\n",
            "Epoch 3/30\n",
            "63/63 [==============================] - 4s 61ms/step - loss: 0.6824 - accuracy: 0.5820 - val_loss: 0.6702 - val_accuracy: 0.5940\n",
            "Epoch 4/30\n",
            "63/63 [==============================] - 7s 110ms/step - loss: 0.6416 - accuracy: 0.6360 - val_loss: 0.7350 - val_accuracy: 0.5570\n",
            "Epoch 5/30\n",
            "63/63 [==============================] - 7s 105ms/step - loss: 0.6109 - accuracy: 0.6690 - val_loss: 0.6055 - val_accuracy: 0.6660\n",
            "Epoch 6/30\n",
            "63/63 [==============================] - 4s 59ms/step - loss: 0.5742 - accuracy: 0.6930 - val_loss: 0.6619 - val_accuracy: 0.6360\n",
            "Epoch 7/30\n",
            "63/63 [==============================] - 4s 60ms/step - loss: 0.5387 - accuracy: 0.7315 - val_loss: 0.6570 - val_accuracy: 0.6890\n",
            "Epoch 8/30\n",
            "63/63 [==============================] - 6s 88ms/step - loss: 0.5155 - accuracy: 0.7535 - val_loss: 0.6370 - val_accuracy: 0.6770\n",
            "Epoch 9/30\n",
            "63/63 [==============================] - 4s 61ms/step - loss: 0.4797 - accuracy: 0.7715 - val_loss: 0.5855 - val_accuracy: 0.7200\n",
            "Epoch 10/30\n",
            "63/63 [==============================] - 5s 81ms/step - loss: 0.4558 - accuracy: 0.7895 - val_loss: 0.5978 - val_accuracy: 0.6900\n",
            "Epoch 11/30\n",
            "63/63 [==============================] - 4s 60ms/step - loss: 0.4351 - accuracy: 0.7970 - val_loss: 0.5696 - val_accuracy: 0.7250\n",
            "Epoch 12/30\n",
            "63/63 [==============================] - 5s 81ms/step - loss: 0.3768 - accuracy: 0.8405 - val_loss: 0.6541 - val_accuracy: 0.7050\n",
            "Epoch 13/30\n",
            "63/63 [==============================] - 6s 84ms/step - loss: 0.3279 - accuracy: 0.8570 - val_loss: 0.6557 - val_accuracy: 0.7370\n",
            "Epoch 14/30\n",
            "63/63 [==============================] - 5s 80ms/step - loss: 0.2828 - accuracy: 0.8835 - val_loss: 0.7090 - val_accuracy: 0.7320\n",
            "Epoch 15/30\n",
            "63/63 [==============================] - 6s 86ms/step - loss: 0.2290 - accuracy: 0.9075 - val_loss: 0.8537 - val_accuracy: 0.7360\n",
            "Epoch 16/30\n",
            "63/63 [==============================] - 4s 58ms/step - loss: 0.2154 - accuracy: 0.9175 - val_loss: 0.7183 - val_accuracy: 0.7430\n",
            "Epoch 17/30\n",
            "63/63 [==============================] - 4s 58ms/step - loss: 0.1372 - accuracy: 0.9460 - val_loss: 1.0304 - val_accuracy: 0.7290\n",
            "Epoch 18/30\n",
            "63/63 [==============================] - 6s 99ms/step - loss: 0.1308 - accuracy: 0.9455 - val_loss: 1.0109 - val_accuracy: 0.7510\n",
            "Epoch 19/30\n",
            "63/63 [==============================] - 4s 62ms/step - loss: 0.1106 - accuracy: 0.9600 - val_loss: 1.2151 - val_accuracy: 0.7480\n",
            "Epoch 20/30\n",
            "63/63 [==============================] - 4s 58ms/step - loss: 0.0954 - accuracy: 0.9650 - val_loss: 1.4138 - val_accuracy: 0.7080\n",
            "Epoch 21/30\n",
            "63/63 [==============================] - 7s 106ms/step - loss: 0.0799 - accuracy: 0.9740 - val_loss: 1.3892 - val_accuracy: 0.7450\n",
            "Epoch 22/30\n",
            "63/63 [==============================] - 4s 58ms/step - loss: 0.1026 - accuracy: 0.9670 - val_loss: 1.1984 - val_accuracy: 0.7650\n",
            "Epoch 23/30\n",
            "63/63 [==============================] - 4s 58ms/step - loss: 0.0691 - accuracy: 0.9780 - val_loss: 1.6302 - val_accuracy: 0.7410\n",
            "Epoch 24/30\n",
            "63/63 [==============================] - 6s 96ms/step - loss: 0.0621 - accuracy: 0.9805 - val_loss: 1.7448 - val_accuracy: 0.7470\n",
            "Epoch 25/30\n",
            "63/63 [==============================] - 4s 59ms/step - loss: 0.0534 - accuracy: 0.9795 - val_loss: 1.8172 - val_accuracy: 0.7300\n",
            "Epoch 26/30\n",
            "63/63 [==============================] - 4s 58ms/step - loss: 0.0439 - accuracy: 0.9860 - val_loss: 1.6005 - val_accuracy: 0.7480\n",
            "Epoch 27/30\n",
            "63/63 [==============================] - 6s 97ms/step - loss: 0.0499 - accuracy: 0.9840 - val_loss: 1.6651 - val_accuracy: 0.7330\n",
            "Epoch 28/30\n",
            "63/63 [==============================] - 4s 59ms/step - loss: 0.0528 - accuracy: 0.9815 - val_loss: 1.9998 - val_accuracy: 0.7190\n",
            "Epoch 29/30\n",
            "63/63 [==============================] - 6s 94ms/step - loss: 0.0451 - accuracy: 0.9820 - val_loss: 2.0350 - val_accuracy: 0.7530\n",
            "Epoch 30/30\n",
            "63/63 [==============================] - 5s 71ms/step - loss: 0.0279 - accuracy: 0.9920 - val_loss: 2.3551 - val_accuracy: 0.7280\n"
          ]
        }
      ]
    },
    {
      "cell_type": "code",
      "source": [
        "# To test the model\n",
        "test_model = keras.models.load_model(\"convolutionnetwork_from_scratchmodel.keras\")\n",
        "test_loss, test_acc = test_model.evaluate(test_dataset)\n",
        "print(f\"Test accuracy: {test_acc:.3f}\")"
      ],
      "metadata": {
        "colab": {
          "base_uri": "https://localhost:8080/"
        },
        "id": "j58KeWyMPt11",
        "outputId": "f38c668e-19f9-438e-ab14-8a334f608b50"
      },
      "execution_count": null,
      "outputs": [
        {
          "output_type": "stream",
          "name": "stdout",
          "text": [
            "63/63 [==============================] - 3s 40ms/step - loss: 0.5667 - accuracy: 0.7170\n",
            "Test accuracy: 0.717\n"
          ]
        }
      ]
    },
    {
      "cell_type": "code",
      "source": [
        "# To declare the Data Augumentation\n",
        "data_augmentation = keras.Sequential(\n",
        "    [\n",
        "        layers.RandomFlip(\"horizontal\"),\n",
        "        layers.RandomRotation(0.1),\n",
        "        layers.RandomZoom(0.2),\n",
        "    ]\n",
        ")"
      ],
      "metadata": {
        "id": "snLrQbB7P2MM"
      },
      "execution_count": null,
      "outputs": []
    },
    {
      "cell_type": "code",
      "source": [
        "#Building the model and compiling it.\n",
        "inputs = keras.Input(shape=(180, 180, 3))\n",
        "x = data_augmentation(inputs)\n",
        "x = layers.Rescaling(1./255)(x)\n",
        "x = layers.Conv2D(filters=32, kernel_size=3, activation=\"relu\")(x)\n",
        "x = layers.MaxPooling2D(pool_size=2)(x)\n",
        "x = layers.Conv2D(filters=64, kernel_size=3, activation=\"relu\")(x)\n",
        "x = layers.MaxPooling2D(pool_size=2)(x)\n",
        "x = layers.Conv2D(filters=128, kernel_size=3, activation=\"relu\")(x)\n",
        "x = layers.MaxPooling2D(pool_size=2)(x)\n",
        "x = layers.Conv2D(filters=256, kernel_size=3, activation=\"relu\")(x)\n",
        "x = layers.MaxPooling2D(pool_size=2)(x)\n",
        "x = layers.Conv2D(filters=256, kernel_size=3, activation=\"relu\")(x)\n",
        "x = layers.Flatten()(x)\n",
        "x = layers.Dropout(0.5)(x)\n",
        "outputs = layers.Dense(1, activation=\"sigmoid\")(x)\n",
        "model = keras.Model(inputs=inputs, outputs=outputs)\n",
        "\n",
        "model.compile(loss=\"binary_crossentropy\",\n",
        "              optimizer=\"rmsprop\",\n",
        "              metrics=[\"accuracy\"])"
      ],
      "metadata": {
        "id": "QRs8ZLdbQTJN"
      },
      "execution_count": null,
      "outputs": []
    },
    {
      "cell_type": "code",
      "source": [
        "#Using the callback function to save the model checkpoint with the best validation loss and also training the model while monitoring the validation loss\n",
        "callbacks = [\n",
        "    keras.callbacks.ModelCheckpoint(\n",
        "        filepath=\"convolutionnetwork_from_scratch_with_augmentation.keras\",\n",
        "        save_best_only=True,\n",
        "        monitor=\"val_loss\")\n",
        "]\n",
        "history = model.fit(\n",
        "    train_dataset,\n",
        "    epochs=100,\n",
        "    validation_data=validation_dataset,\n",
        "    callbacks=callbacks\n",
        ")"
      ],
      "metadata": {
        "colab": {
          "base_uri": "https://localhost:8080/"
        },
        "id": "SfHbhSHmQhIh",
        "outputId": "9989a8cd-2238-422e-b1b5-bd4b7fe92f94"
      },
      "execution_count": null,
      "outputs": [
        {
          "output_type": "stream",
          "name": "stdout",
          "text": [
            "Epoch 1/100\n",
            "63/63 [==============================] - 11s 123ms/step - loss: 0.7032 - accuracy: 0.5160 - val_loss: 0.6924 - val_accuracy: 0.5140\n",
            "Epoch 2/100\n",
            "63/63 [==============================] - 5s 76ms/step - loss: 0.6939 - accuracy: 0.5160 - val_loss: 0.6926 - val_accuracy: 0.5240\n",
            "Epoch 3/100\n",
            "63/63 [==============================] - 4s 59ms/step - loss: 0.6990 - accuracy: 0.5170 - val_loss: 0.6895 - val_accuracy: 0.5640\n",
            "Epoch 4/100\n",
            "63/63 [==============================] - 5s 71ms/step - loss: 0.6885 - accuracy: 0.5660 - val_loss: 0.6814 - val_accuracy: 0.5730\n",
            "Epoch 5/100\n",
            "63/63 [==============================] - 6s 90ms/step - loss: 0.6700 - accuracy: 0.5945 - val_loss: 0.6612 - val_accuracy: 0.6110\n",
            "Epoch 6/100\n",
            "63/63 [==============================] - 4s 60ms/step - loss: 0.6523 - accuracy: 0.6090 - val_loss: 0.6443 - val_accuracy: 0.6100\n",
            "Epoch 7/100\n",
            "63/63 [==============================] - 5s 83ms/step - loss: 0.6414 - accuracy: 0.6400 - val_loss: 0.6273 - val_accuracy: 0.6500\n",
            "Epoch 8/100\n",
            "63/63 [==============================] - 6s 85ms/step - loss: 0.6310 - accuracy: 0.6495 - val_loss: 0.6186 - val_accuracy: 0.6420\n",
            "Epoch 9/100\n",
            "63/63 [==============================] - 4s 60ms/step - loss: 0.6332 - accuracy: 0.6500 - val_loss: 0.6370 - val_accuracy: 0.6260\n",
            "Epoch 10/100\n",
            "63/63 [==============================] - 4s 58ms/step - loss: 0.6148 - accuracy: 0.6685 - val_loss: 0.6914 - val_accuracy: 0.6240\n",
            "Epoch 11/100\n",
            "63/63 [==============================] - 7s 112ms/step - loss: 0.6156 - accuracy: 0.6720 - val_loss: 0.6498 - val_accuracy: 0.6420\n",
            "Epoch 12/100\n",
            "63/63 [==============================] - 4s 61ms/step - loss: 0.5998 - accuracy: 0.6860 - val_loss: 0.6309 - val_accuracy: 0.6670\n",
            "Epoch 13/100\n",
            "63/63 [==============================] - 5s 84ms/step - loss: 0.5851 - accuracy: 0.7055 - val_loss: 0.5446 - val_accuracy: 0.7220\n",
            "Epoch 14/100\n",
            "63/63 [==============================] - 6s 84ms/step - loss: 0.5523 - accuracy: 0.7175 - val_loss: 0.5233 - val_accuracy: 0.7390\n",
            "Epoch 15/100\n",
            "63/63 [==============================] - 4s 59ms/step - loss: 0.5520 - accuracy: 0.7245 - val_loss: 0.5659 - val_accuracy: 0.6980\n",
            "Epoch 16/100\n",
            "63/63 [==============================] - 4s 60ms/step - loss: 0.5382 - accuracy: 0.7270 - val_loss: 0.5273 - val_accuracy: 0.7230\n",
            "Epoch 17/100\n",
            "63/63 [==============================] - 7s 109ms/step - loss: 0.5351 - accuracy: 0.7250 - val_loss: 0.5172 - val_accuracy: 0.7450\n",
            "Epoch 18/100\n",
            "63/63 [==============================] - 4s 59ms/step - loss: 0.5142 - accuracy: 0.7480 - val_loss: 0.5969 - val_accuracy: 0.7300\n",
            "Epoch 19/100\n",
            "63/63 [==============================] - 5s 81ms/step - loss: 0.5118 - accuracy: 0.7455 - val_loss: 0.5308 - val_accuracy: 0.7550\n",
            "Epoch 20/100\n",
            "63/63 [==============================] - 6s 85ms/step - loss: 0.4893 - accuracy: 0.7630 - val_loss: 0.5173 - val_accuracy: 0.7530\n",
            "Epoch 21/100\n",
            "63/63 [==============================] - 4s 59ms/step - loss: 0.4954 - accuracy: 0.7645 - val_loss: 0.4578 - val_accuracy: 0.7780\n",
            "Epoch 22/100\n",
            "63/63 [==============================] - 4s 60ms/step - loss: 0.4767 - accuracy: 0.7805 - val_loss: 0.4985 - val_accuracy: 0.7630\n",
            "Epoch 23/100\n",
            "63/63 [==============================] - 8s 117ms/step - loss: 0.4715 - accuracy: 0.7750 - val_loss: 0.5510 - val_accuracy: 0.7280\n",
            "Epoch 24/100\n",
            "63/63 [==============================] - 5s 74ms/step - loss: 0.4580 - accuracy: 0.7920 - val_loss: 0.5408 - val_accuracy: 0.7130\n",
            "Epoch 25/100\n",
            "63/63 [==============================] - 4s 60ms/step - loss: 0.4642 - accuracy: 0.7780 - val_loss: 0.4924 - val_accuracy: 0.7610\n",
            "Epoch 26/100\n",
            "63/63 [==============================] - 5s 74ms/step - loss: 0.4610 - accuracy: 0.7820 - val_loss: 0.4346 - val_accuracy: 0.7830\n",
            "Epoch 27/100\n",
            "63/63 [==============================] - 6s 89ms/step - loss: 0.4367 - accuracy: 0.7950 - val_loss: 0.4471 - val_accuracy: 0.7930\n",
            "Epoch 28/100\n",
            "63/63 [==============================] - 4s 60ms/step - loss: 0.4290 - accuracy: 0.8090 - val_loss: 0.4258 - val_accuracy: 0.8220\n",
            "Epoch 29/100\n",
            "63/63 [==============================] - 6s 93ms/step - loss: 0.4227 - accuracy: 0.8090 - val_loss: 0.5716 - val_accuracy: 0.7460\n",
            "Epoch 30/100\n",
            "63/63 [==============================] - 4s 63ms/step - loss: 0.4116 - accuracy: 0.8155 - val_loss: 0.4476 - val_accuracy: 0.8000\n",
            "Epoch 31/100\n",
            "63/63 [==============================] - 4s 60ms/step - loss: 0.4152 - accuracy: 0.8080 - val_loss: 0.5105 - val_accuracy: 0.8000\n",
            "Epoch 32/100\n",
            "63/63 [==============================] - 7s 103ms/step - loss: 0.3874 - accuracy: 0.8165 - val_loss: 0.5454 - val_accuracy: 0.7680\n",
            "Epoch 33/100\n",
            "63/63 [==============================] - 4s 59ms/step - loss: 0.3887 - accuracy: 0.8230 - val_loss: 0.8469 - val_accuracy: 0.7230\n",
            "Epoch 34/100\n",
            "63/63 [==============================] - 4s 61ms/step - loss: 0.3878 - accuracy: 0.8310 - val_loss: 0.4554 - val_accuracy: 0.8060\n",
            "Epoch 35/100\n",
            "63/63 [==============================] - 7s 108ms/step - loss: 0.3777 - accuracy: 0.8325 - val_loss: 0.5180 - val_accuracy: 0.7880\n",
            "Epoch 36/100\n",
            "63/63 [==============================] - 7s 95ms/step - loss: 0.3616 - accuracy: 0.8455 - val_loss: 0.5175 - val_accuracy: 0.7910\n",
            "Epoch 37/100\n",
            "63/63 [==============================] - 7s 106ms/step - loss: 0.3714 - accuracy: 0.8345 - val_loss: 0.4251 - val_accuracy: 0.8140\n",
            "Epoch 38/100\n",
            "63/63 [==============================] - 4s 59ms/step - loss: 0.3551 - accuracy: 0.8425 - val_loss: 0.5847 - val_accuracy: 0.7730\n",
            "Epoch 39/100\n",
            "63/63 [==============================] - 5s 70ms/step - loss: 0.3337 - accuracy: 0.8595 - val_loss: 0.5978 - val_accuracy: 0.8030\n",
            "Epoch 40/100\n",
            "63/63 [==============================] - 6s 88ms/step - loss: 0.3428 - accuracy: 0.8530 - val_loss: 0.4986 - val_accuracy: 0.7970\n",
            "Epoch 41/100\n",
            "63/63 [==============================] - 4s 61ms/step - loss: 0.3267 - accuracy: 0.8490 - val_loss: 0.4481 - val_accuracy: 0.8160\n",
            "Epoch 42/100\n",
            "63/63 [==============================] - 8s 115ms/step - loss: 0.3116 - accuracy: 0.8650 - val_loss: 0.5070 - val_accuracy: 0.7940\n",
            "Epoch 43/100\n",
            "63/63 [==============================] - 4s 60ms/step - loss: 0.3214 - accuracy: 0.8635 - val_loss: 0.6510 - val_accuracy: 0.7900\n",
            "Epoch 44/100\n",
            "63/63 [==============================] - 4s 62ms/step - loss: 0.3129 - accuracy: 0.8690 - val_loss: 0.4219 - val_accuracy: 0.8440\n",
            "Epoch 45/100\n",
            "63/63 [==============================] - 8s 114ms/step - loss: 0.3052 - accuracy: 0.8670 - val_loss: 0.4376 - val_accuracy: 0.8240\n",
            "Epoch 46/100\n",
            "63/63 [==============================] - 4s 58ms/step - loss: 0.2872 - accuracy: 0.8765 - val_loss: 0.4996 - val_accuracy: 0.8060\n",
            "Epoch 47/100\n",
            "63/63 [==============================] - 4s 61ms/step - loss: 0.2744 - accuracy: 0.8815 - val_loss: 0.4832 - val_accuracy: 0.8170\n",
            "Epoch 48/100\n",
            "63/63 [==============================] - 6s 91ms/step - loss: 0.2840 - accuracy: 0.8865 - val_loss: 0.4412 - val_accuracy: 0.8270\n",
            "Epoch 49/100\n",
            "63/63 [==============================] - 4s 59ms/step - loss: 0.2770 - accuracy: 0.8850 - val_loss: 0.5183 - val_accuracy: 0.8230\n",
            "Epoch 50/100\n",
            "63/63 [==============================] - 4s 60ms/step - loss: 0.2556 - accuracy: 0.8955 - val_loss: 0.7457 - val_accuracy: 0.7660\n",
            "Epoch 51/100\n",
            "63/63 [==============================] - 7s 105ms/step - loss: 0.2631 - accuracy: 0.8955 - val_loss: 0.4400 - val_accuracy: 0.8350\n",
            "Epoch 52/100\n",
            "63/63 [==============================] - 4s 61ms/step - loss: 0.2582 - accuracy: 0.8830 - val_loss: 0.4680 - val_accuracy: 0.8140\n",
            "Epoch 53/100\n",
            "63/63 [==============================] - 5s 81ms/step - loss: 0.2579 - accuracy: 0.8930 - val_loss: 0.4604 - val_accuracy: 0.8370\n",
            "Epoch 54/100\n",
            "63/63 [==============================] - 4s 61ms/step - loss: 0.2519 - accuracy: 0.8945 - val_loss: 0.4802 - val_accuracy: 0.8020\n",
            "Epoch 55/100\n",
            "63/63 [==============================] - 7s 104ms/step - loss: 0.2523 - accuracy: 0.8990 - val_loss: 0.7149 - val_accuracy: 0.7700\n",
            "Epoch 56/100\n",
            "63/63 [==============================] - 4s 59ms/step - loss: 0.2535 - accuracy: 0.8985 - val_loss: 0.5929 - val_accuracy: 0.8250\n",
            "Epoch 57/100\n",
            "63/63 [==============================] - 4s 59ms/step - loss: 0.2247 - accuracy: 0.9070 - val_loss: 0.5371 - val_accuracy: 0.8180\n",
            "Epoch 58/100\n",
            "63/63 [==============================] - 6s 84ms/step - loss: 0.2306 - accuracy: 0.9095 - val_loss: 0.6591 - val_accuracy: 0.8180\n",
            "Epoch 59/100\n",
            "63/63 [==============================] - 6s 82ms/step - loss: 0.2394 - accuracy: 0.9000 - val_loss: 0.6348 - val_accuracy: 0.8070\n",
            "Epoch 60/100\n",
            "63/63 [==============================] - 5s 82ms/step - loss: 0.2315 - accuracy: 0.9030 - val_loss: 0.5273 - val_accuracy: 0.8360\n",
            "Epoch 61/100\n",
            "63/63 [==============================] - 6s 84ms/step - loss: 0.2332 - accuracy: 0.9055 - val_loss: 0.4898 - val_accuracy: 0.8440\n",
            "Epoch 62/100\n",
            "63/63 [==============================] - 4s 62ms/step - loss: 0.2190 - accuracy: 0.9135 - val_loss: 0.5283 - val_accuracy: 0.8470\n",
            "Epoch 63/100\n",
            "63/63 [==============================] - 4s 59ms/step - loss: 0.2412 - accuracy: 0.9060 - val_loss: 0.4355 - val_accuracy: 0.8460\n",
            "Epoch 64/100\n",
            "63/63 [==============================] - 7s 107ms/step - loss: 0.2210 - accuracy: 0.9105 - val_loss: 0.4452 - val_accuracy: 0.8340\n",
            "Epoch 65/100\n",
            "63/63 [==============================] - 4s 60ms/step - loss: 0.1945 - accuracy: 0.9195 - val_loss: 0.5788 - val_accuracy: 0.8500\n",
            "Epoch 66/100\n",
            "63/63 [==============================] - 4s 61ms/step - loss: 0.2299 - accuracy: 0.9130 - val_loss: 0.4837 - val_accuracy: 0.8490\n",
            "Epoch 67/100\n",
            "63/63 [==============================] - 7s 109ms/step - loss: 0.2093 - accuracy: 0.9135 - val_loss: 0.5047 - val_accuracy: 0.8430\n",
            "Epoch 68/100\n",
            "63/63 [==============================] - 4s 60ms/step - loss: 0.1851 - accuracy: 0.9295 - val_loss: 0.8994 - val_accuracy: 0.8000\n",
            "Epoch 69/100\n",
            "63/63 [==============================] - 6s 84ms/step - loss: 0.1694 - accuracy: 0.9380 - val_loss: 1.1258 - val_accuracy: 0.7670\n",
            "Epoch 70/100\n",
            "63/63 [==============================] - 8s 118ms/step - loss: 0.2027 - accuracy: 0.9240 - val_loss: 0.7653 - val_accuracy: 0.7810\n",
            "Epoch 71/100\n",
            "63/63 [==============================] - 5s 70ms/step - loss: 0.2005 - accuracy: 0.9245 - val_loss: 0.5285 - val_accuracy: 0.8400\n",
            "Epoch 72/100\n",
            "63/63 [==============================] - 4s 62ms/step - loss: 0.1746 - accuracy: 0.9285 - val_loss: 0.6684 - val_accuracy: 0.8050\n",
            "Epoch 73/100\n",
            "63/63 [==============================] - 5s 76ms/step - loss: 0.1745 - accuracy: 0.9315 - val_loss: 1.0026 - val_accuracy: 0.7740\n",
            "Epoch 74/100\n",
            "63/63 [==============================] - 6s 88ms/step - loss: 0.1960 - accuracy: 0.9285 - val_loss: 0.6610 - val_accuracy: 0.8230\n",
            "Epoch 75/100\n",
            "63/63 [==============================] - 4s 59ms/step - loss: 0.1772 - accuracy: 0.9380 - val_loss: 0.6326 - val_accuracy: 0.8440\n",
            "Epoch 76/100\n",
            "63/63 [==============================] - 4s 61ms/step - loss: 0.1890 - accuracy: 0.9270 - val_loss: 0.5865 - val_accuracy: 0.8470\n",
            "Epoch 77/100\n",
            "63/63 [==============================] - 8s 117ms/step - loss: 0.1640 - accuracy: 0.9325 - val_loss: 0.5572 - val_accuracy: 0.8560\n",
            "Epoch 78/100\n",
            "63/63 [==============================] - 4s 61ms/step - loss: 0.1730 - accuracy: 0.9365 - val_loss: 0.6074 - val_accuracy: 0.8530\n",
            "Epoch 79/100\n",
            "63/63 [==============================] - 4s 61ms/step - loss: 0.2217 - accuracy: 0.9195 - val_loss: 0.5971 - val_accuracy: 0.8090\n",
            "Epoch 80/100\n",
            "63/63 [==============================] - 6s 93ms/step - loss: 0.1720 - accuracy: 0.9420 - val_loss: 0.5124 - val_accuracy: 0.8480\n",
            "Epoch 81/100\n",
            "63/63 [==============================] - 5s 74ms/step - loss: 0.1658 - accuracy: 0.9365 - val_loss: 0.9675 - val_accuracy: 0.8220\n",
            "Epoch 82/100\n",
            "63/63 [==============================] - 4s 61ms/step - loss: 0.1792 - accuracy: 0.9300 - val_loss: 0.6371 - val_accuracy: 0.8410\n",
            "Epoch 83/100\n",
            "63/63 [==============================] - 5s 82ms/step - loss: 0.1646 - accuracy: 0.9410 - val_loss: 0.4551 - val_accuracy: 0.8460\n",
            "Epoch 84/100\n",
            "63/63 [==============================] - 6s 83ms/step - loss: 0.1684 - accuracy: 0.9370 - val_loss: 0.6334 - val_accuracy: 0.8330\n",
            "Epoch 85/100\n",
            "63/63 [==============================] - 4s 62ms/step - loss: 0.1816 - accuracy: 0.9325 - val_loss: 0.5658 - val_accuracy: 0.8400\n",
            "Epoch 86/100\n",
            "63/63 [==============================] - 5s 83ms/step - loss: 0.1532 - accuracy: 0.9440 - val_loss: 0.6193 - val_accuracy: 0.8460\n",
            "Epoch 87/100\n",
            "63/63 [==============================] - 4s 60ms/step - loss: 0.1521 - accuracy: 0.9465 - val_loss: 0.7174 - val_accuracy: 0.8070\n",
            "Epoch 88/100\n",
            "63/63 [==============================] - 5s 83ms/step - loss: 0.1597 - accuracy: 0.9380 - val_loss: 0.8424 - val_accuracy: 0.8370\n",
            "Epoch 89/100\n",
            "63/63 [==============================] - 4s 61ms/step - loss: 0.1891 - accuracy: 0.9290 - val_loss: 0.5613 - val_accuracy: 0.8410\n",
            "Epoch 90/100\n",
            "63/63 [==============================] - 8s 116ms/step - loss: 0.1490 - accuracy: 0.9490 - val_loss: 0.5895 - val_accuracy: 0.8330\n",
            "Epoch 91/100\n",
            "63/63 [==============================] - 7s 101ms/step - loss: 0.1667 - accuracy: 0.9425 - val_loss: 0.7206 - val_accuracy: 0.8300\n",
            "Epoch 92/100\n",
            "63/63 [==============================] - 4s 61ms/step - loss: 0.1309 - accuracy: 0.9510 - val_loss: 0.6405 - val_accuracy: 0.8440\n",
            "Epoch 93/100\n",
            "63/63 [==============================] - 4s 62ms/step - loss: 0.1532 - accuracy: 0.9500 - val_loss: 0.6621 - val_accuracy: 0.8240\n",
            "Epoch 94/100\n",
            "63/63 [==============================] - 7s 103ms/step - loss: 0.1451 - accuracy: 0.9480 - val_loss: 0.8278 - val_accuracy: 0.8270\n",
            "Epoch 95/100\n",
            "63/63 [==============================] - 5s 64ms/step - loss: 0.1678 - accuracy: 0.9410 - val_loss: 0.8635 - val_accuracy: 0.8060\n",
            "Epoch 96/100\n",
            "63/63 [==============================] - 4s 61ms/step - loss: 0.1782 - accuracy: 0.9430 - val_loss: 0.6876 - val_accuracy: 0.8220\n",
            "Epoch 97/100\n",
            "63/63 [==============================] - 6s 85ms/step - loss: 0.1580 - accuracy: 0.9480 - val_loss: 1.1988 - val_accuracy: 0.7850\n",
            "Epoch 98/100\n",
            "63/63 [==============================] - 6s 83ms/step - loss: 0.1447 - accuracy: 0.9460 - val_loss: 0.6519 - val_accuracy: 0.8440\n",
            "Epoch 99/100\n",
            "63/63 [==============================] - 4s 60ms/step - loss: 0.1638 - accuracy: 0.9465 - val_loss: 0.6027 - val_accuracy: 0.8540\n",
            "Epoch 100/100\n",
            "63/63 [==============================] - 4s 62ms/step - loss: 0.1800 - accuracy: 0.9400 - val_loss: 0.6945 - val_accuracy: 0.8240\n"
          ]
        }
      ]
    },
    {
      "cell_type": "code",
      "source": [
        "#Testing the model accuracy.\n",
        "test_model = keras.models.load_model(\n",
        "    \"convolutionnetwork_from_scratch_with_augmentation.keras\")\n",
        "test_loss, test_acc = test_model.evaluate(test_dataset)\n",
        "print(f\"Test accuracy: {test_acc:.3f}\")"
      ],
      "metadata": {
        "colab": {
          "base_uri": "https://localhost:8080/"
        },
        "id": "9bjcQoqNUYz7",
        "outputId": "3abcf55d-75bc-439c-fa8b-16200e6bfb53"
      },
      "execution_count": null,
      "outputs": [
        {
          "output_type": "stream",
          "name": "stdout",
          "text": [
            "63/63 [==============================] - 5s 65ms/step - loss: 0.4938 - accuracy: 0.8255\n",
            "Test accuracy: 0.826\n"
          ]
        }
      ]
    },
    {
      "cell_type": "markdown",
      "source": [
        "Question 2"
      ],
      "metadata": {
        "id": "Uj5BjWduUm3J"
      }
    },
    {
      "cell_type": "code",
      "source": [
        "# Creating directories and assiging images to training, validation and test directories\n",
        "# Increasing the training sample from 2000 to 3500\n",
        "import os\n",
        "import shutil\n",
        "import pathlib\n",
        "\n",
        "#shutil.rmtree(\"cats_vs_dogs_small_IncreasedTrainSample\")\n",
        "original_dir = pathlib.Path(\"train\")\n",
        "new_base_dir = pathlib.Path(\"cats_vs_dogs_small_IncreasedTrainSample\")\n",
        "\n",
        "def make_subset(subset_name, start_index, end_index):\n",
        "    for category in (\"cat\", \"dog\"):\n",
        "        dir = new_base_dir / subset_name / category\n",
        "        os.makedirs(dir)\n",
        "        fnames = [f\"{category}.{i}.jpg\" for i in range(start_index, end_index)]\n",
        "        for fname in fnames:\n",
        "            shutil.copyfile(src=original_dir / fname, dst=dir / fname)\n",
        "\n",
        "# Training has 2000 samples, test has 1000 samples, and validation has 500 samples\n",
        "make_subset(\"train\", start_index=0, end_index=3500)\n",
        "make_subset(\"validation\", start_index=3500, end_index=4000)\n",
        "make_subset(\"test\", start_index=4000, end_index=5000)"
      ],
      "metadata": {
        "id": "viqQnspnUtYP"
      },
      "execution_count": null,
      "outputs": []
    },
    {
      "cell_type": "code",
      "source": [
        "# Building the model\n",
        "from tensorflow import keras\n",
        "from tensorflow.keras import layers\n",
        "\n",
        "inputs = keras.Input(shape=(180, 180, 3))\n",
        "x = layers.Rescaling(1./255)(inputs)\n",
        "x = layers.Conv2D(filters=32, kernel_size=3, activation=\"relu\")(x)\n",
        "x = layers.MaxPooling2D(pool_size=2)(x)\n",
        "x = layers.Conv2D(filters=64, kernel_size=3, activation=\"relu\")(x)\n",
        "x = layers.MaxPooling2D(pool_size=2)(x)\n",
        "x = layers.Conv2D(filters=128, kernel_size=3, activation=\"relu\")(x)\n",
        "x = layers.MaxPooling2D(pool_size=2)(x)\n",
        "x = layers.Conv2D(filters=256, kernel_size=3, activation=\"relu\")(x)\n",
        "x = layers.MaxPooling2D(pool_size=2)(x)\n",
        "x = layers.Conv2D(filters=256, kernel_size=3, activation=\"relu\")(x)\n",
        "x = layers.Flatten()(x)\n",
        "outputs = layers.Dense(1, activation=\"sigmoid\")(x)\n",
        "model = keras.Model(inputs=inputs, outputs=outputs)"
      ],
      "metadata": {
        "id": "gLHGZDtdU4pG"
      },
      "execution_count": null,
      "outputs": []
    },
    {
      "cell_type": "code",
      "source": [
        "# to configure the model\n",
        "model.compile(loss=\"binary_crossentropy\",\n",
        "              optimizer=\"rmsprop\",\n",
        "              metrics=[\"accuracy\"])"
      ],
      "metadata": {
        "id": "6ypmDxffU9Im"
      },
      "execution_count": null,
      "outputs": []
    },
    {
      "cell_type": "code",
      "source": [
        "# to use the callbacks function to monitor validation loss and running the model\n",
        "callbacks = [\n",
        "    keras.callbacks.ModelCheckpoint(\n",
        "        filepath=\"convolutionnetwork_from_scratchmodel.keras\",\n",
        "        save_best_only=True,\n",
        "        monitor=\"val_loss\")\n",
        "]\n",
        "history = model.fit(\n",
        "    train_dataset,\n",
        "    epochs=30,\n",
        "    validation_data=validation_dataset,\n",
        "    callbacks=callbacks)"
      ],
      "metadata": {
        "colab": {
          "base_uri": "https://localhost:8080/"
        },
        "id": "jJu_wqRJVEKo",
        "outputId": "a62db04a-b9b8-47f3-f5bb-f295b9201ed3"
      },
      "execution_count": null,
      "outputs": [
        {
          "output_type": "stream",
          "name": "stdout",
          "text": [
            "Epoch 1/30\n",
            "63/63 [==============================] - 7s 83ms/step - loss: 0.6960 - accuracy: 0.5070 - val_loss: 0.6927 - val_accuracy: 0.5960\n",
            "Epoch 2/30\n",
            "63/63 [==============================] - 4s 61ms/step - loss: 0.6937 - accuracy: 0.5285 - val_loss: 0.6898 - val_accuracy: 0.5860\n",
            "Epoch 3/30\n",
            "63/63 [==============================] - 4s 62ms/step - loss: 0.6792 - accuracy: 0.5640 - val_loss: 0.7675 - val_accuracy: 0.5180\n",
            "Epoch 4/30\n",
            "63/63 [==============================] - 6s 90ms/step - loss: 0.6332 - accuracy: 0.6655 - val_loss: 0.6505 - val_accuracy: 0.5940\n",
            "Epoch 5/30\n",
            "63/63 [==============================] - 4s 59ms/step - loss: 0.6100 - accuracy: 0.6645 - val_loss: 0.6113 - val_accuracy: 0.6530\n",
            "Epoch 6/30\n",
            "63/63 [==============================] - 7s 104ms/step - loss: 0.5707 - accuracy: 0.7060 - val_loss: 0.5912 - val_accuracy: 0.6810\n",
            "Epoch 7/30\n",
            "63/63 [==============================] - 4s 60ms/step - loss: 0.5616 - accuracy: 0.7125 - val_loss: 0.6155 - val_accuracy: 0.6540\n",
            "Epoch 8/30\n",
            "63/63 [==============================] - 6s 86ms/step - loss: 0.5341 - accuracy: 0.7240 - val_loss: 0.6856 - val_accuracy: 0.6510\n",
            "Epoch 9/30\n",
            "63/63 [==============================] - 8s 114ms/step - loss: 0.5123 - accuracy: 0.7505 - val_loss: 0.6372 - val_accuracy: 0.7040\n",
            "Epoch 10/30\n",
            "63/63 [==============================] - 4s 59ms/step - loss: 0.4675 - accuracy: 0.7690 - val_loss: 0.5955 - val_accuracy: 0.7040\n",
            "Epoch 11/30\n",
            "63/63 [==============================] - 4s 59ms/step - loss: 0.4339 - accuracy: 0.7980 - val_loss: 0.6017 - val_accuracy: 0.7300\n",
            "Epoch 12/30\n",
            "63/63 [==============================] - 5s 79ms/step - loss: 0.4072 - accuracy: 0.8115 - val_loss: 0.6590 - val_accuracy: 0.6890\n",
            "Epoch 13/30\n",
            "63/63 [==============================] - 7s 104ms/step - loss: 0.3532 - accuracy: 0.8405 - val_loss: 0.7056 - val_accuracy: 0.6920\n",
            "Epoch 14/30\n",
            "63/63 [==============================] - 4s 60ms/step - loss: 0.3027 - accuracy: 0.8655 - val_loss: 0.6866 - val_accuracy: 0.7280\n",
            "Epoch 15/30\n",
            "63/63 [==============================] - 7s 101ms/step - loss: 0.2616 - accuracy: 0.8935 - val_loss: 0.7953 - val_accuracy: 0.7380\n",
            "Epoch 16/30\n",
            "63/63 [==============================] - 4s 60ms/step - loss: 0.2475 - accuracy: 0.8985 - val_loss: 0.7991 - val_accuracy: 0.7240\n",
            "Epoch 17/30\n",
            "63/63 [==============================] - 7s 102ms/step - loss: 0.1860 - accuracy: 0.9250 - val_loss: 0.7738 - val_accuracy: 0.7480\n",
            "Epoch 18/30\n",
            "63/63 [==============================] - 4s 58ms/step - loss: 0.1299 - accuracy: 0.9555 - val_loss: 0.9848 - val_accuracy: 0.7140\n",
            "Epoch 19/30\n",
            "63/63 [==============================] - 5s 81ms/step - loss: 0.1210 - accuracy: 0.9555 - val_loss: 0.9556 - val_accuracy: 0.7410\n",
            "Epoch 20/30\n",
            "63/63 [==============================] - 6s 84ms/step - loss: 0.0989 - accuracy: 0.9650 - val_loss: 0.9852 - val_accuracy: 0.7530\n",
            "Epoch 21/30\n",
            "63/63 [==============================] - 5s 81ms/step - loss: 0.0879 - accuracy: 0.9690 - val_loss: 1.0510 - val_accuracy: 0.7610\n",
            "Epoch 22/30\n",
            "63/63 [==============================] - 8s 115ms/step - loss: 0.0864 - accuracy: 0.9710 - val_loss: 1.2370 - val_accuracy: 0.7550\n",
            "Epoch 23/30\n",
            "63/63 [==============================] - 4s 58ms/step - loss: 0.0799 - accuracy: 0.9680 - val_loss: 1.0377 - val_accuracy: 0.7440\n",
            "Epoch 24/30\n",
            "63/63 [==============================] - 5s 82ms/step - loss: 0.0632 - accuracy: 0.9840 - val_loss: 1.2709 - val_accuracy: 0.7390\n",
            "Epoch 25/30\n",
            "63/63 [==============================] - 6s 81ms/step - loss: 0.0494 - accuracy: 0.9840 - val_loss: 1.2632 - val_accuracy: 0.7600\n",
            "Epoch 26/30\n",
            "63/63 [==============================] - 4s 57ms/step - loss: 0.0408 - accuracy: 0.9870 - val_loss: 1.7021 - val_accuracy: 0.7380\n",
            "Epoch 27/30\n",
            "63/63 [==============================] - 4s 60ms/step - loss: 0.0781 - accuracy: 0.9805 - val_loss: 1.5001 - val_accuracy: 0.7460\n",
            "Epoch 28/30\n",
            "63/63 [==============================] - 7s 102ms/step - loss: 0.0486 - accuracy: 0.9840 - val_loss: 1.4433 - val_accuracy: 0.7530\n",
            "Epoch 29/30\n",
            "63/63 [==============================] - 4s 59ms/step - loss: 0.0357 - accuracy: 0.9880 - val_loss: 1.7956 - val_accuracy: 0.7560\n",
            "Epoch 30/30\n",
            "63/63 [==============================] - 5s 80ms/step - loss: 0.0497 - accuracy: 0.9845 - val_loss: 1.7352 - val_accuracy: 0.7520\n"
          ]
        }
      ]
    },
    {
      "cell_type": "code",
      "source": [
        "# to test the model\n",
        "test_model = keras.models.load_model(\"convolutionnetwork_from_scratchmodel.keras\")\n",
        "test_loss, test_acc = test_model.evaluate(test_dataset)\n",
        "print(f\"Test accuracy: {test_acc:.3f}\")"
      ],
      "metadata": {
        "colab": {
          "base_uri": "https://localhost:8080/"
        },
        "id": "tdPipOXtV0Ty",
        "outputId": "7ed77a95-1793-43e0-e7a7-df6fc3b32b48"
      },
      "execution_count": null,
      "outputs": [
        {
          "output_type": "stream",
          "name": "stdout",
          "text": [
            "63/63 [==============================] - 3s 45ms/step - loss: 0.6068 - accuracy: 0.6745\n",
            "Test accuracy: 0.674\n"
          ]
        }
      ]
    },
    {
      "cell_type": "markdown",
      "source": [
        "Question 3\n"
      ],
      "metadata": {
        "id": "nGn0PuDQV8kJ"
      }
    },
    {
      "cell_type": "code",
      "source": [
        "# Creating directories and assiging images to training, validation and test directories\n",
        "# Increasing the training sample from 3500 to 4500\n",
        "import os\n",
        "import shutil\n",
        "import pathlib\n",
        "original_dir = pathlib.Path(\"train\")\n",
        "new_base_dir = pathlib.Path(\"cats_vs_dogs_small_OptimalTrainSamples1\")\n",
        "\n",
        "def make_subset(subset_name, start_index, end_index):\n",
        "    for category in (\"cat\", \"dog\"):\n",
        "        dir = new_base_dir / subset_name / category\n",
        "        os.makedirs(dir,exist_ok=True)\n",
        "        fnames = [f\"{category}.{i}.jpg\" for i in range(start_index, end_index)]\n",
        "        for fname in fnames:\n",
        "            shutil.copyfile(src=original_dir / fname, dst=dir / fname)\n",
        "\n",
        "# Training has 1500 samples, test has 1000 samples, and validation has 500 samples\n",
        "\n",
        "make_subset(\"train\", start_index=0, end_index=4500)\n",
        "make_subset(\"validation\", start_index=4500, end_index=5000)\n",
        "make_subset(\"test\", start_index=5000, end_index=6000)"
      ],
      "metadata": {
        "id": "rXLGsiq4V_LF"
      },
      "execution_count": null,
      "outputs": []
    },
    {
      "cell_type": "code",
      "source": [
        "# Building the model\n",
        "from tensorflow import keras\n",
        "from tensorflow.keras import layers\n",
        "\n",
        "inputs = keras.Input(shape=(180, 180, 3))\n",
        "x = layers.Rescaling(1./255)(inputs)\n",
        "x = layers.Conv2D(filters=32, kernel_size=3, activation=\"relu\")(x)\n",
        "x = layers.MaxPooling2D(pool_size=2)(x)\n",
        "x = layers.Conv2D(filters=64, kernel_size=3, activation=\"relu\")(x)\n",
        "x = layers.MaxPooling2D(pool_size=2)(x)\n",
        "x = layers.Conv2D(filters=128, kernel_size=3, activation=\"relu\")(x)\n",
        "x = layers.MaxPooling2D(pool_size=2)(x)\n",
        "x = layers.Conv2D(filters=256, kernel_size=3, activation=\"relu\")(x)\n",
        "x = layers.MaxPooling2D(pool_size=2)(x)\n",
        "x = layers.Conv2D(filters=256, kernel_size=3, activation=\"relu\")(x)\n",
        "x = layers.Flatten()(x)\n",
        "outputs = layers.Dense(1, activation=\"sigmoid\")(x)\n",
        "model = keras.Model(inputs=inputs, outputs=outputs)"
      ],
      "metadata": {
        "id": "eTudaEXnWGyc"
      },
      "execution_count": null,
      "outputs": []
    },
    {
      "cell_type": "code",
      "source": [
        "#  the model\n",
        "model.compile(loss=\"binary_crossentropy\",\n",
        "              optimizer=\"rmsprop\",\n",
        "              metrics=[\"accuracy\"])"
      ],
      "metadata": {
        "id": "qrJ3kvHFWIaj"
      },
      "execution_count": null,
      "outputs": []
    },
    {
      "cell_type": "code",
      "source": [
        "# to use the callbacks function to monitor validation loss and running the model\n",
        "callbacks = [\n",
        "    keras.callbacks.ModelCheckpoint(\n",
        "        filepath=\"convolutionnetwork_from_scratchmodel.keras\",\n",
        "        save_best_only=True,\n",
        "        monitor=\"val_loss\")\n",
        "]\n",
        "history = model.fit(\n",
        "    train_dataset,\n",
        "    epochs=30,\n",
        "    validation_data=validation_dataset,\n",
        "    callbacks=callbacks)"
      ],
      "metadata": {
        "colab": {
          "base_uri": "https://localhost:8080/"
        },
        "id": "JGJ4k5hel1YM",
        "outputId": "cfcfde51-3d06-4c5e-ccb3-63dd446c1077"
      },
      "execution_count": null,
      "outputs": [
        {
          "output_type": "stream",
          "name": "stdout",
          "text": [
            "Epoch 1/30\n",
            "63/63 [==============================] - 7s 61ms/step - loss: 0.7012 - accuracy: 0.5050 - val_loss: 0.6918 - val_accuracy: 0.5010\n",
            "Epoch 2/30\n",
            "63/63 [==============================] - 4s 61ms/step - loss: 0.6946 - accuracy: 0.5125 - val_loss: 0.6907 - val_accuracy: 0.5450\n",
            "Epoch 3/30\n",
            "63/63 [==============================] - 7s 103ms/step - loss: 0.6889 - accuracy: 0.5495 - val_loss: 0.6897 - val_accuracy: 0.5130\n",
            "Epoch 4/30\n",
            "63/63 [==============================] - 4s 61ms/step - loss: 0.6690 - accuracy: 0.5885 - val_loss: 0.6599 - val_accuracy: 0.5730\n",
            "Epoch 5/30\n",
            "63/63 [==============================] - 4s 59ms/step - loss: 0.6239 - accuracy: 0.6580 - val_loss: 0.6056 - val_accuracy: 0.6650\n",
            "Epoch 6/30\n",
            "63/63 [==============================] - 7s 95ms/step - loss: 0.5950 - accuracy: 0.6890 - val_loss: 0.6403 - val_accuracy: 0.6360\n",
            "Epoch 7/30\n",
            "63/63 [==============================] - 4s 60ms/step - loss: 0.5635 - accuracy: 0.7105 - val_loss: 0.5771 - val_accuracy: 0.7040\n",
            "Epoch 8/30\n",
            "63/63 [==============================] - 4s 57ms/step - loss: 0.5306 - accuracy: 0.7395 - val_loss: 0.6682 - val_accuracy: 0.6460\n",
            "Epoch 9/30\n",
            "63/63 [==============================] - 7s 103ms/step - loss: 0.5070 - accuracy: 0.7520 - val_loss: 0.7993 - val_accuracy: 0.6660\n",
            "Epoch 10/30\n",
            "63/63 [==============================] - 4s 59ms/step - loss: 0.4780 - accuracy: 0.7810 - val_loss: 0.6108 - val_accuracy: 0.7020\n",
            "Epoch 11/30\n",
            "63/63 [==============================] - 5s 71ms/step - loss: 0.4342 - accuracy: 0.8010 - val_loss: 0.8876 - val_accuracy: 0.6550\n",
            "Epoch 12/30\n",
            "63/63 [==============================] - 6s 87ms/step - loss: 0.3956 - accuracy: 0.8210 - val_loss: 0.7902 - val_accuracy: 0.6580\n",
            "Epoch 13/30\n",
            "63/63 [==============================] - 4s 60ms/step - loss: 0.3633 - accuracy: 0.8310 - val_loss: 0.5395 - val_accuracy: 0.7390\n",
            "Epoch 14/30\n",
            "63/63 [==============================] - 4s 58ms/step - loss: 0.3109 - accuracy: 0.8650 - val_loss: 0.6780 - val_accuracy: 0.7220\n",
            "Epoch 15/30\n",
            "63/63 [==============================] - 7s 101ms/step - loss: 0.2472 - accuracy: 0.8920 - val_loss: 0.8291 - val_accuracy: 0.7180\n",
            "Epoch 16/30\n",
            "63/63 [==============================] - 4s 61ms/step - loss: 0.2204 - accuracy: 0.9195 - val_loss: 0.8181 - val_accuracy: 0.7370\n",
            "Epoch 17/30\n",
            "63/63 [==============================] - 4s 59ms/step - loss: 0.1611 - accuracy: 0.9380 - val_loss: 0.7913 - val_accuracy: 0.7160\n",
            "Epoch 18/30\n",
            "63/63 [==============================] - 6s 91ms/step - loss: 0.1329 - accuracy: 0.9540 - val_loss: 0.9969 - val_accuracy: 0.7340\n",
            "Epoch 19/30\n",
            "63/63 [==============================] - 5s 73ms/step - loss: 0.1203 - accuracy: 0.9495 - val_loss: 1.1801 - val_accuracy: 0.7160\n",
            "Epoch 20/30\n",
            "63/63 [==============================] - 4s 57ms/step - loss: 0.0752 - accuracy: 0.9710 - val_loss: 1.4833 - val_accuracy: 0.7220\n",
            "Epoch 21/30\n",
            "63/63 [==============================] - 5s 80ms/step - loss: 0.0743 - accuracy: 0.9700 - val_loss: 1.2952 - val_accuracy: 0.7410\n",
            "Epoch 22/30\n",
            "63/63 [==============================] - 4s 60ms/step - loss: 0.0633 - accuracy: 0.9775 - val_loss: 1.5683 - val_accuracy: 0.7390\n",
            "Epoch 23/30\n",
            "63/63 [==============================] - 6s 93ms/step - loss: 0.0645 - accuracy: 0.9770 - val_loss: 1.7477 - val_accuracy: 0.7290\n",
            "Epoch 24/30\n",
            "63/63 [==============================] - 7s 107ms/step - loss: 0.0727 - accuracy: 0.9770 - val_loss: 1.5731 - val_accuracy: 0.7290\n",
            "Epoch 25/30\n",
            "63/63 [==============================] - 5s 67ms/step - loss: 0.0335 - accuracy: 0.9890 - val_loss: 1.5430 - val_accuracy: 0.7410\n",
            "Epoch 26/30\n",
            "63/63 [==============================] - 4s 59ms/step - loss: 0.0583 - accuracy: 0.9825 - val_loss: 1.6033 - val_accuracy: 0.7450\n",
            "Epoch 27/30\n",
            "63/63 [==============================] - 6s 92ms/step - loss: 0.0729 - accuracy: 0.9775 - val_loss: 1.6549 - val_accuracy: 0.7140\n",
            "Epoch 28/30\n",
            "63/63 [==============================] - 5s 71ms/step - loss: 0.0305 - accuracy: 0.9885 - val_loss: 1.8454 - val_accuracy: 0.7260\n",
            "Epoch 29/30\n",
            "63/63 [==============================] - 4s 60ms/step - loss: 0.0483 - accuracy: 0.9880 - val_loss: 2.0582 - val_accuracy: 0.7240\n",
            "Epoch 30/30\n",
            "63/63 [==============================] - 5s 71ms/step - loss: 0.0410 - accuracy: 0.9850 - val_loss: 2.1318 - val_accuracy: 0.7220\n"
          ]
        }
      ]
    },
    {
      "cell_type": "code",
      "source": [
        "# to test the model\n",
        "test_model = keras.models.load_model(\"convolutionnetwork_from_scratchmodel.keras\")\n",
        "test_loss, test_acc = test_model.evaluate(test_dataset)\n",
        "print(f\"Test accuracy: {test_acc:.3f}\")"
      ],
      "metadata": {
        "colab": {
          "base_uri": "https://localhost:8080/"
        },
        "id": "lHZ5c2WdW70d",
        "outputId": "931b06e1-926f-41a3-a6f0-6e197e66a69d"
      },
      "execution_count": null,
      "outputs": [
        {
          "output_type": "stream",
          "name": "stdout",
          "text": [
            "63/63 [==============================] - 3s 35ms/step - loss: 0.5934 - accuracy: 0.7275\n",
            "Test accuracy: 0.728\n"
          ]
        }
      ]
    },
    {
      "cell_type": "code",
      "source": [
        "# Creating directories and assiging images to training, validation and test directories\n",
        "# Increasing the training sample from 4500 to 5500\n",
        "import os\n",
        "import shutil\n",
        "import pathlib\n",
        "original_dir = pathlib.Path(\"train\")\n",
        "new_base_dir = pathlib.Path(\"cats_vs_dogs_small_OptimalTrainSamples1\")\n",
        "\n",
        "def make_subset(subset_name, start_index, end_index):\n",
        "    for category in (\"cat\", \"dog\"):\n",
        "        dir = new_base_dir / subset_name / category\n",
        "        os.makedirs(dir,exist_ok=True)\n",
        "        fnames = [f\"{category}.{i}.jpg\" for i in range(start_index, end_index)]\n",
        "        for fname in fnames:\n",
        "            shutil.copyfile(src=original_dir / fname, dst=dir / fname)\n",
        "\n",
        "# Training has 1500 samples, test has 1000 samples, and validation has 500 samples\n",
        "\n",
        "make_subset(\"train\", start_index=0, end_index=5500)\n",
        "make_subset(\"validation\", start_index=5500, end_index=6000)\n",
        "make_subset(\"test\", start_index=6000, end_index=7000)"
      ],
      "metadata": {
        "id": "tXyC62hmW9rr"
      },
      "execution_count": null,
      "outputs": []
    },
    {
      "cell_type": "code",
      "source": [
        "# Building the model\n",
        "from tensorflow import keras\n",
        "from tensorflow.keras import layers\n",
        "\n",
        "inputs = keras.Input(shape=(180, 180, 3))\n",
        "x = layers.Rescaling(1./255)(inputs)\n",
        "x = layers.Conv2D(filters=32, kernel_size=3, activation=\"relu\")(x)\n",
        "x = layers.MaxPooling2D(pool_size=2)(x)\n",
        "x = layers.Conv2D(filters=64, kernel_size=3, activation=\"relu\")(x)\n",
        "x = layers.MaxPooling2D(pool_size=2)(x)\n",
        "x = layers.Conv2D(filters=128, kernel_size=3, activation=\"relu\")(x)\n",
        "x = layers.MaxPooling2D(pool_size=2)(x)\n",
        "x = layers.Conv2D(filters=256, kernel_size=3, activation=\"relu\")(x)\n",
        "x = layers.MaxPooling2D(pool_size=2)(x)\n",
        "x = layers.Conv2D(filters=256, kernel_size=3, activation=\"relu\")(x)\n",
        "x = layers.Flatten()(x)\n",
        "outputs = layers.Dense(1, activation=\"sigmoid\")(x)\n",
        "model = keras.Model(inputs=inputs, outputs=outputs)"
      ],
      "metadata": {
        "id": "1oZ4eFYdXEM-"
      },
      "execution_count": null,
      "outputs": []
    },
    {
      "cell_type": "code",
      "source": [
        "#  the model\n",
        "model.compile(loss=\"binary_crossentropy\",\n",
        "              optimizer=\"rmsprop\",\n",
        "              metrics=[\"accuracy\"])"
      ],
      "metadata": {
        "id": "XWssueSdXIyN"
      },
      "execution_count": null,
      "outputs": []
    },
    {
      "cell_type": "code",
      "source": [
        "# to use the callbacks function to monitor validation loss and running the model\n",
        "callbacks = [\n",
        "    keras.callbacks.ModelCheckpoint(\n",
        "        filepath=\"convolutionnetwork_from_scratchmodel.keras\",\n",
        "        save_best_only=True,\n",
        "        monitor=\"val_loss\")\n",
        "]\n",
        "history = model.fit(\n",
        "    train_dataset,\n",
        "    epochs=30,\n",
        "    validation_data=validation_dataset,\n",
        "    callbacks=callbacks)"
      ],
      "metadata": {
        "colab": {
          "base_uri": "https://localhost:8080/"
        },
        "id": "OvnBZsS5XStz",
        "outputId": "89aed53f-5a4c-4180-f4a2-f044070f1f02"
      },
      "execution_count": null,
      "outputs": [
        {
          "output_type": "stream",
          "name": "stdout",
          "text": [
            "Epoch 1/30\n",
            "63/63 [==============================] - 6s 61ms/step - loss: 0.6984 - accuracy: 0.5000 - val_loss: 0.6923 - val_accuracy: 0.5700\n",
            "Epoch 2/30\n",
            "63/63 [==============================] - 7s 115ms/step - loss: 0.6947 - accuracy: 0.5300 - val_loss: 0.6908 - val_accuracy: 0.5150\n",
            "Epoch 3/30\n",
            "63/63 [==============================] - 4s 61ms/step - loss: 0.6917 - accuracy: 0.5570 - val_loss: 0.6843 - val_accuracy: 0.5830\n",
            "Epoch 4/30\n",
            "63/63 [==============================] - 4s 60ms/step - loss: 0.6713 - accuracy: 0.6010 - val_loss: 0.6371 - val_accuracy: 0.6250\n",
            "Epoch 5/30\n",
            "63/63 [==============================] - 6s 94ms/step - loss: 0.6225 - accuracy: 0.6465 - val_loss: 0.6623 - val_accuracy: 0.6130\n",
            "Epoch 6/30\n",
            "63/63 [==============================] - 5s 70ms/step - loss: 0.5998 - accuracy: 0.6765 - val_loss: 0.6212 - val_accuracy: 0.6460\n",
            "Epoch 7/30\n",
            "63/63 [==============================] - 5s 68ms/step - loss: 0.5734 - accuracy: 0.6995 - val_loss: 0.5673 - val_accuracy: 0.7040\n",
            "Epoch 8/30\n",
            "63/63 [==============================] - 7s 109ms/step - loss: 0.5387 - accuracy: 0.7215 - val_loss: 0.6673 - val_accuracy: 0.6730\n",
            "Epoch 9/30\n",
            "63/63 [==============================] - 4s 58ms/step - loss: 0.5010 - accuracy: 0.7540 - val_loss: 0.5880 - val_accuracy: 0.6940\n",
            "Epoch 10/30\n",
            "63/63 [==============================] - 4s 59ms/step - loss: 0.4572 - accuracy: 0.7765 - val_loss: 0.6152 - val_accuracy: 0.6990\n",
            "Epoch 11/30\n",
            "63/63 [==============================] - 6s 96ms/step - loss: 0.4296 - accuracy: 0.8080 - val_loss: 0.5451 - val_accuracy: 0.7480\n",
            "Epoch 12/30\n",
            "63/63 [==============================] - 4s 59ms/step - loss: 0.3654 - accuracy: 0.8285 - val_loss: 0.5717 - val_accuracy: 0.7350\n",
            "Epoch 13/30\n",
            "63/63 [==============================] - 5s 81ms/step - loss: 0.3265 - accuracy: 0.8590 - val_loss: 0.6437 - val_accuracy: 0.7310\n",
            "Epoch 14/30\n",
            "63/63 [==============================] - 6s 84ms/step - loss: 0.2827 - accuracy: 0.8885 - val_loss: 0.6830 - val_accuracy: 0.7270\n",
            "Epoch 15/30\n",
            "63/63 [==============================] - 4s 58ms/step - loss: 0.2348 - accuracy: 0.9135 - val_loss: 0.6904 - val_accuracy: 0.7300\n",
            "Epoch 16/30\n",
            "63/63 [==============================] - 4s 59ms/step - loss: 0.1700 - accuracy: 0.9325 - val_loss: 0.7493 - val_accuracy: 0.7540\n",
            "Epoch 17/30\n",
            "63/63 [==============================] - 7s 98ms/step - loss: 0.1361 - accuracy: 0.9470 - val_loss: 0.9423 - val_accuracy: 0.7430\n",
            "Epoch 18/30\n",
            "63/63 [==============================] - 4s 58ms/step - loss: 0.1369 - accuracy: 0.9465 - val_loss: 1.0074 - val_accuracy: 0.7080\n",
            "Epoch 19/30\n",
            "63/63 [==============================] - 6s 89ms/step - loss: 0.0987 - accuracy: 0.9635 - val_loss: 1.0483 - val_accuracy: 0.7400\n",
            "Epoch 20/30\n",
            "63/63 [==============================] - 5s 73ms/step - loss: 0.0797 - accuracy: 0.9705 - val_loss: 1.1698 - val_accuracy: 0.7370\n",
            "Epoch 21/30\n",
            "63/63 [==============================] - 4s 58ms/step - loss: 0.0633 - accuracy: 0.9765 - val_loss: 1.3378 - val_accuracy: 0.7410\n",
            "Epoch 22/30\n",
            "63/63 [==============================] - 5s 82ms/step - loss: 0.0857 - accuracy: 0.9745 - val_loss: 1.6297 - val_accuracy: 0.6840\n",
            "Epoch 23/30\n",
            "63/63 [==============================] - 4s 59ms/step - loss: 0.0707 - accuracy: 0.9775 - val_loss: 1.4821 - val_accuracy: 0.7330\n",
            "Epoch 24/30\n",
            "63/63 [==============================] - 5s 80ms/step - loss: 0.0446 - accuracy: 0.9855 - val_loss: 1.5041 - val_accuracy: 0.7400\n",
            "Epoch 25/30\n",
            "63/63 [==============================] - 4s 60ms/step - loss: 0.0518 - accuracy: 0.9835 - val_loss: 1.4815 - val_accuracy: 0.7280\n",
            "Epoch 26/30\n",
            "63/63 [==============================] - 6s 96ms/step - loss: 0.0566 - accuracy: 0.9845 - val_loss: 1.7180 - val_accuracy: 0.7350\n",
            "Epoch 27/30\n",
            "63/63 [==============================] - 8s 112ms/step - loss: 0.0368 - accuracy: 0.9860 - val_loss: 1.9591 - val_accuracy: 0.7470\n",
            "Epoch 28/30\n",
            "63/63 [==============================] - 4s 57ms/step - loss: 0.0301 - accuracy: 0.9875 - val_loss: 2.5904 - val_accuracy: 0.7040\n",
            "Epoch 29/30\n",
            "63/63 [==============================] - 4s 60ms/step - loss: 0.0531 - accuracy: 0.9850 - val_loss: 2.0015 - val_accuracy: 0.7280\n",
            "Epoch 30/30\n",
            "63/63 [==============================] - 7s 101ms/step - loss: 0.0434 - accuracy: 0.9830 - val_loss: 2.3592 - val_accuracy: 0.7340\n"
          ]
        }
      ]
    },
    {
      "cell_type": "code",
      "source": [
        "# to test the model\n",
        "test_model = keras.models.load_model(\"convolutionnetwork_from_scratchmodel.keras\")\n",
        "test_loss, test_acc = test_model.evaluate(test_dataset)\n",
        "print(f\"Test accuracy: {test_acc:.3f}\")"
      ],
      "metadata": {
        "colab": {
          "base_uri": "https://localhost:8080/"
        },
        "id": "vZNXWq9HfkPm",
        "outputId": "8832e490-05b1-4e10-b631-a5d995c7f18a"
      },
      "execution_count": null,
      "outputs": [
        {
          "output_type": "stream",
          "name": "stdout",
          "text": [
            "63/63 [==============================] - 3s 40ms/step - loss: 0.5785 - accuracy: 0.7430\n",
            "Test accuracy: 0.743\n"
          ]
        }
      ]
    },
    {
      "cell_type": "markdown",
      "source": [
        "Question 4"
      ],
      "metadata": {
        "id": "ubY4G6sfnlR4"
      }
    },
    {
      "cell_type": "markdown",
      "source": [
        "Pretrained Network\n"
      ],
      "metadata": {
        "id": "LvZq_i2onfxC"
      }
    },
    {
      "cell_type": "code",
      "source": [
        "#creating the directories and assigning the subset of the cat and dog images for the traing validation and testing.\n",
        "import os\n",
        "import shutil\n",
        "import pathlib\n",
        "original_dir = pathlib.Path(\"train\")\n",
        "new_base_dir = pathlib.Path(\"cats_vs_dogs_small_Pretrained\")\n",
        "\n",
        "#shutil.rmtree(\"cats_vs_dogs_small_Pretrained\")\n",
        "\n",
        "def make_subset(subset_name, start_index, end_index):\n",
        "    for category in (\"cat\", \"dog\"):\n",
        "        dir = new_base_dir / subset_name / category\n",
        "        os.makedirs(dir)\n",
        "        fnames = [f\"{category}.{i}.jpg\" for i in range(start_index, end_index)]\n",
        "        for fname in fnames:\n",
        "            shutil.copyfile(src=original_dir / fname, dst=dir / fname)\n",
        "\n",
        "make_subset(\"train\", start_index=0, end_index=1000)\n",
        "make_subset(\"validation\", start_index=1000, end_index=1500)\n",
        "make_subset(\"test\", start_index=1500, end_index=2500)"
      ],
      "metadata": {
        "id": "BLqUMLzOnjKF"
      },
      "execution_count": null,
      "outputs": []
    },
    {
      "cell_type": "code",
      "source": [
        "# Loading  the pretrained weights to VGG16 model.\n",
        "conv_base = keras.applications.vgg16.VGG16(\n",
        "    weights=\"imagenet\",\n",
        "    include_top=False,\n",
        "    input_shape=(180, 180, 3))\n",
        "conv_base.summary()"
      ],
      "metadata": {
        "colab": {
          "base_uri": "https://localhost:8080/"
        },
        "id": "UquTaj8cnvuk",
        "outputId": "4901062c-3f60-46cc-aeac-b5d8a847c0a1"
      },
      "execution_count": null,
      "outputs": [
        {
          "output_type": "stream",
          "name": "stdout",
          "text": [
            "Downloading data from https://storage.googleapis.com/tensorflow/keras-applications/vgg16/vgg16_weights_tf_dim_ordering_tf_kernels_notop.h5\n",
            "58889256/58889256 [==============================] - 2s 0us/step\n",
            "Model: \"vgg16\"\n",
            "_________________________________________________________________\n",
            " Layer (type)                Output Shape              Param #   \n",
            "=================================================================\n",
            " input_7 (InputLayer)        [(None, 180, 180, 3)]     0         \n",
            "                                                                 \n",
            " block1_conv1 (Conv2D)       (None, 180, 180, 64)      1792      \n",
            "                                                                 \n",
            " block1_conv2 (Conv2D)       (None, 180, 180, 64)      36928     \n",
            "                                                                 \n",
            " block1_pool (MaxPooling2D)  (None, 90, 90, 64)        0         \n",
            "                                                                 \n",
            " block2_conv1 (Conv2D)       (None, 90, 90, 128)       73856     \n",
            "                                                                 \n",
            " block2_conv2 (Conv2D)       (None, 90, 90, 128)       147584    \n",
            "                                                                 \n",
            " block2_pool (MaxPooling2D)  (None, 45, 45, 128)       0         \n",
            "                                                                 \n",
            " block3_conv1 (Conv2D)       (None, 45, 45, 256)       295168    \n",
            "                                                                 \n",
            " block3_conv2 (Conv2D)       (None, 45, 45, 256)       590080    \n",
            "                                                                 \n",
            " block3_conv3 (Conv2D)       (None, 45, 45, 256)       590080    \n",
            "                                                                 \n",
            " block3_pool (MaxPooling2D)  (None, 22, 22, 256)       0         \n",
            "                                                                 \n",
            " block4_conv1 (Conv2D)       (None, 22, 22, 512)       1180160   \n",
            "                                                                 \n",
            " block4_conv2 (Conv2D)       (None, 22, 22, 512)       2359808   \n",
            "                                                                 \n",
            " block4_conv3 (Conv2D)       (None, 22, 22, 512)       2359808   \n",
            "                                                                 \n",
            " block4_pool (MaxPooling2D)  (None, 11, 11, 512)       0         \n",
            "                                                                 \n",
            " block5_conv1 (Conv2D)       (None, 11, 11, 512)       2359808   \n",
            "                                                                 \n",
            " block5_conv2 (Conv2D)       (None, 11, 11, 512)       2359808   \n",
            "                                                                 \n",
            " block5_conv3 (Conv2D)       (None, 11, 11, 512)       2359808   \n",
            "                                                                 \n",
            " block5_pool (MaxPooling2D)  (None, 5, 5, 512)         0         \n",
            "                                                                 \n",
            "=================================================================\n",
            "Total params: 14,714,688\n",
            "Trainable params: 14,714,688\n",
            "Non-trainable params: 0\n",
            "_________________________________________________________________\n"
          ]
        }
      ]
    },
    {
      "cell_type": "code",
      "source": [
        "#Extracting the VGG16 features and their corresponding labels.\n",
        "import numpy as np\n",
        "\n",
        "def get_features_and_labels(dataset):\n",
        "    all_features = []\n",
        "    all_labels = []\n",
        "    for images, labels in dataset:\n",
        "        preprocessed_images = keras.applications.vgg16.preprocess_input(images)\n",
        "        features = conv_base.predict(preprocessed_images)\n",
        "        all_features.append(features)\n",
        "        all_labels.append(labels)\n",
        "    return np.concatenate(all_features), np.concatenate(all_labels)\n",
        "\n",
        "train_features, train_labels =  get_features_and_labels(train_dataset)\n",
        "val_features, val_labels =  get_features_and_labels(validation_dataset)\n",
        "test_features, test_labels =  get_features_and_labels(test_dataset)"
      ],
      "metadata": {
        "colab": {
          "base_uri": "https://localhost:8080/"
        },
        "id": "LLzsRpTQn5Pb",
        "outputId": "3c23a542-2ed0-406b-9def-f75acd1512aa"
      },
      "execution_count": null,
      "outputs": [
        {
          "output_type": "stream",
          "name": "stdout",
          "text": [
            "1/1 [==============================] - 2s 2s/step\n",
            "1/1 [==============================] - 0s 35ms/step\n",
            "1/1 [==============================] - 0s 52ms/step\n",
            "1/1 [==============================] - 0s 32ms/step\n",
            "1/1 [==============================] - 0s 39ms/step\n",
            "1/1 [==============================] - 0s 46ms/step\n",
            "1/1 [==============================] - 0s 39ms/step\n",
            "1/1 [==============================] - 0s 38ms/step\n",
            "1/1 [==============================] - 0s 43ms/step\n",
            "1/1 [==============================] - 0s 38ms/step\n",
            "1/1 [==============================] - 0s 39ms/step\n",
            "1/1 [==============================] - 0s 38ms/step\n",
            "1/1 [==============================] - 0s 32ms/step\n",
            "1/1 [==============================] - 0s 36ms/step\n",
            "1/1 [==============================] - 0s 43ms/step\n",
            "1/1 [==============================] - 0s 39ms/step\n",
            "1/1 [==============================] - 0s 36ms/step\n",
            "1/1 [==============================] - 0s 36ms/step\n",
            "1/1 [==============================] - 0s 41ms/step\n",
            "1/1 [==============================] - 0s 35ms/step\n",
            "1/1 [==============================] - 0s 34ms/step\n",
            "1/1 [==============================] - 0s 38ms/step\n",
            "1/1 [==============================] - 0s 31ms/step\n",
            "1/1 [==============================] - 0s 25ms/step\n",
            "1/1 [==============================] - 0s 29ms/step\n",
            "1/1 [==============================] - 0s 25ms/step\n",
            "1/1 [==============================] - 0s 24ms/step\n",
            "1/1 [==============================] - 0s 29ms/step\n",
            "1/1 [==============================] - 0s 25ms/step\n",
            "1/1 [==============================] - 0s 24ms/step\n",
            "1/1 [==============================] - 0s 29ms/step\n",
            "1/1 [==============================] - 0s 30ms/step\n",
            "1/1 [==============================] - 0s 25ms/step\n",
            "1/1 [==============================] - 0s 25ms/step\n",
            "1/1 [==============================] - 0s 25ms/step\n",
            "1/1 [==============================] - 0s 25ms/step\n",
            "1/1 [==============================] - 0s 24ms/step\n",
            "1/1 [==============================] - 0s 30ms/step\n",
            "1/1 [==============================] - 0s 25ms/step\n",
            "1/1 [==============================] - 0s 24ms/step\n",
            "1/1 [==============================] - 0s 25ms/step\n",
            "1/1 [==============================] - 0s 24ms/step\n",
            "1/1 [==============================] - 0s 34ms/step\n",
            "1/1 [==============================] - 0s 27ms/step\n",
            "1/1 [==============================] - 0s 28ms/step\n",
            "1/1 [==============================] - 0s 28ms/step\n",
            "1/1 [==============================] - 0s 30ms/step\n",
            "1/1 [==============================] - 0s 33ms/step\n",
            "1/1 [==============================] - 0s 24ms/step\n",
            "1/1 [==============================] - 0s 32ms/step\n",
            "1/1 [==============================] - 0s 23ms/step\n",
            "1/1 [==============================] - 0s 26ms/step\n",
            "1/1 [==============================] - 0s 28ms/step\n",
            "1/1 [==============================] - 0s 25ms/step\n",
            "1/1 [==============================] - 0s 30ms/step\n",
            "1/1 [==============================] - 0s 25ms/step\n",
            "1/1 [==============================] - 0s 30ms/step\n",
            "1/1 [==============================] - 0s 26ms/step\n",
            "1/1 [==============================] - 0s 33ms/step\n",
            "1/1 [==============================] - 0s 30ms/step\n",
            "1/1 [==============================] - 0s 25ms/step\n",
            "1/1 [==============================] - 0s 26ms/step\n",
            "1/1 [==============================] - 1s 717ms/step\n",
            "1/1 [==============================] - 0s 31ms/step\n",
            "1/1 [==============================] - 0s 28ms/step\n",
            "1/1 [==============================] - 0s 29ms/step\n",
            "1/1 [==============================] - 0s 31ms/step\n",
            "1/1 [==============================] - 0s 24ms/step\n",
            "1/1 [==============================] - 0s 32ms/step\n",
            "1/1 [==============================] - 0s 29ms/step\n",
            "1/1 [==============================] - 0s 29ms/step\n",
            "1/1 [==============================] - 0s 28ms/step\n",
            "1/1 [==============================] - 0s 25ms/step\n",
            "1/1 [==============================] - 0s 31ms/step\n",
            "1/1 [==============================] - 0s 30ms/step\n",
            "1/1 [==============================] - 0s 43ms/step\n",
            "1/1 [==============================] - 0s 26ms/step\n",
            "1/1 [==============================] - 0s 29ms/step\n",
            "1/1 [==============================] - 0s 29ms/step\n",
            "1/1 [==============================] - 0s 30ms/step\n",
            "1/1 [==============================] - 0s 27ms/step\n",
            "1/1 [==============================] - 0s 30ms/step\n",
            "1/1 [==============================] - 0s 26ms/step\n",
            "1/1 [==============================] - 0s 26ms/step\n",
            "1/1 [==============================] - 0s 30ms/step\n",
            "1/1 [==============================] - 0s 26ms/step\n",
            "1/1 [==============================] - 0s 25ms/step\n",
            "1/1 [==============================] - 0s 34ms/step\n",
            "1/1 [==============================] - 0s 24ms/step\n",
            "1/1 [==============================] - 0s 25ms/step\n",
            "1/1 [==============================] - 0s 26ms/step\n",
            "1/1 [==============================] - 0s 29ms/step\n",
            "1/1 [==============================] - 0s 25ms/step\n",
            "1/1 [==============================] - 0s 27ms/step\n",
            "1/1 [==============================] - 0s 386ms/step\n",
            "1/1 [==============================] - 0s 38ms/step\n",
            "1/1 [==============================] - 0s 40ms/step\n",
            "1/1 [==============================] - 0s 38ms/step\n",
            "1/1 [==============================] - 0s 34ms/step\n",
            "1/1 [==============================] - 0s 36ms/step\n",
            "1/1 [==============================] - 0s 37ms/step\n",
            "1/1 [==============================] - 0s 34ms/step\n",
            "1/1 [==============================] - 0s 33ms/step\n",
            "1/1 [==============================] - 0s 38ms/step\n",
            "1/1 [==============================] - 0s 35ms/step\n",
            "1/1 [==============================] - 0s 36ms/step\n",
            "1/1 [==============================] - 0s 37ms/step\n",
            "1/1 [==============================] - 0s 53ms/step\n",
            "1/1 [==============================] - 0s 37ms/step\n",
            "1/1 [==============================] - 0s 36ms/step\n",
            "1/1 [==============================] - 0s 36ms/step\n",
            "1/1 [==============================] - 0s 52ms/step\n",
            "1/1 [==============================] - 0s 33ms/step\n",
            "1/1 [==============================] - 0s 33ms/step\n",
            "1/1 [==============================] - 0s 32ms/step\n",
            "1/1 [==============================] - 0s 43ms/step\n",
            "1/1 [==============================] - 0s 36ms/step\n",
            "1/1 [==============================] - 0s 42ms/step\n",
            "1/1 [==============================] - 0s 35ms/step\n",
            "1/1 [==============================] - 0s 26ms/step\n",
            "1/1 [==============================] - 0s 27ms/step\n",
            "1/1 [==============================] - 0s 25ms/step\n",
            "1/1 [==============================] - 0s 29ms/step\n",
            "1/1 [==============================] - 0s 29ms/step\n",
            "1/1 [==============================] - 0s 33ms/step\n",
            "1/1 [==============================] - 0s 25ms/step\n",
            "1/1 [==============================] - 0s 33ms/step\n",
            "1/1 [==============================] - 0s 26ms/step\n",
            "1/1 [==============================] - 0s 27ms/step\n",
            "1/1 [==============================] - 0s 29ms/step\n",
            "1/1 [==============================] - 0s 28ms/step\n",
            "1/1 [==============================] - 0s 25ms/step\n",
            "1/1 [==============================] - 0s 33ms/step\n",
            "1/1 [==============================] - 0s 28ms/step\n",
            "1/1 [==============================] - 0s 26ms/step\n",
            "1/1 [==============================] - 0s 31ms/step\n",
            "1/1 [==============================] - 0s 30ms/step\n",
            "1/1 [==============================] - 0s 27ms/step\n",
            "1/1 [==============================] - 0s 33ms/step\n",
            "1/1 [==============================] - 0s 27ms/step\n",
            "1/1 [==============================] - 0s 26ms/step\n",
            "1/1 [==============================] - 0s 26ms/step\n",
            "1/1 [==============================] - 0s 32ms/step\n",
            "1/1 [==============================] - 0s 34ms/step\n",
            "1/1 [==============================] - 0s 25ms/step\n",
            "1/1 [==============================] - 0s 35ms/step\n",
            "1/1 [==============================] - 0s 30ms/step\n",
            "1/1 [==============================] - 0s 26ms/step\n",
            "1/1 [==============================] - 0s 28ms/step\n",
            "1/1 [==============================] - 0s 30ms/step\n",
            "1/1 [==============================] - 0s 26ms/step\n",
            "1/1 [==============================] - 0s 25ms/step\n",
            "1/1 [==============================] - 0s 36ms/step\n",
            "1/1 [==============================] - 0s 27ms/step\n",
            "1/1 [==============================] - 0s 30ms/step\n",
            "1/1 [==============================] - 0s 32ms/step\n",
            "1/1 [==============================] - 0s 28ms/step\n",
            "1/1 [==============================] - 0s 28ms/step\n"
          ]
        }
      ]
    },
    {
      "cell_type": "code",
      "source": [
        "train_features.shape\n",
        "test_features.shape"
      ],
      "metadata": {
        "colab": {
          "base_uri": "https://localhost:8080/"
        },
        "id": "wIHuE6ScoF-V",
        "outputId": "80a9ae6d-af55-43b6-f9c9-ceb632c2c4d6"
      },
      "execution_count": null,
      "outputs": [
        {
          "output_type": "execute_result",
          "data": {
            "text/plain": [
              "(2000, 5, 5, 512)"
            ]
          },
          "metadata": {},
          "execution_count": 46
        }
      ]
    },
    {
      "cell_type": "code",
      "source": [
        "#to build the model.\n",
        "inputs = keras.Input(shape=(5, 5, 512))\n",
        "x = layers.Flatten()(inputs)\n",
        "x = layers.Dense(256)(x)\n",
        "x = layers.Dropout(0.5)(x)\n",
        "outputs = layers.Dense(1, activation=\"sigmoid\")(x)\n",
        "model = keras.Model(inputs, outputs)\n",
        "model.compile(loss=\"binary_crossentropy\",\n",
        "              optimizer=\"rmsprop\",\n",
        "              metrics=[\"accuracy\"])\n",
        "\n",
        "callbacks = [\n",
        "    keras.callbacks.ModelCheckpoint(\n",
        "      filepath=\"feature_extractionnetwork.keras\",\n",
        "      save_best_only=True,\n",
        "      monitor=\"val_loss\")\n",
        "]\n",
        "\n",
        "history = model.fit(\n",
        "    train_features, train_labels,\n",
        "    epochs=30,\n",
        "    validation_data=(val_features, val_labels),\n",
        "    callbacks=callbacks)"
      ],
      "metadata": {
        "colab": {
          "base_uri": "https://localhost:8080/"
        },
        "id": "KbxSFjCwoM2c",
        "outputId": "5a4f266c-d656-40cf-e2a9-4d96bfc993ee"
      },
      "execution_count": null,
      "outputs": [
        {
          "output_type": "stream",
          "name": "stdout",
          "text": [
            "Epoch 1/30\n",
            "63/63 [==============================] - 2s 15ms/step - loss: 19.8091 - accuracy: 0.9205 - val_loss: 6.8328 - val_accuracy: 0.9620\n",
            "Epoch 2/30\n",
            "63/63 [==============================] - 1s 10ms/step - loss: 3.6683 - accuracy: 0.9740 - val_loss: 5.3254 - val_accuracy: 0.9630\n",
            "Epoch 3/30\n",
            "63/63 [==============================] - 1s 9ms/step - loss: 2.5225 - accuracy: 0.9815 - val_loss: 4.4000 - val_accuracy: 0.9720\n",
            "Epoch 4/30\n",
            "63/63 [==============================] - 0s 7ms/step - loss: 1.7612 - accuracy: 0.9870 - val_loss: 2.5104 - val_accuracy: 0.9810\n",
            "Epoch 5/30\n",
            "63/63 [==============================] - 0s 7ms/step - loss: 0.8017 - accuracy: 0.9940 - val_loss: 3.2055 - val_accuracy: 0.9770\n",
            "Epoch 6/30\n",
            "63/63 [==============================] - 0s 6ms/step - loss: 0.5556 - accuracy: 0.9940 - val_loss: 4.9154 - val_accuracy: 0.9690\n",
            "Epoch 7/30\n",
            "63/63 [==============================] - 0s 6ms/step - loss: 0.4183 - accuracy: 0.9945 - val_loss: 6.7348 - val_accuracy: 0.9710\n",
            "Epoch 8/30\n",
            "63/63 [==============================] - 0s 6ms/step - loss: 0.0635 - accuracy: 0.9980 - val_loss: 4.9448 - val_accuracy: 0.9710\n",
            "Epoch 9/30\n",
            "63/63 [==============================] - 0s 6ms/step - loss: 0.6356 - accuracy: 0.9960 - val_loss: 3.1695 - val_accuracy: 0.9760\n",
            "Epoch 10/30\n",
            "63/63 [==============================] - 0s 6ms/step - loss: 0.4585 - accuracy: 0.9975 - val_loss: 3.3788 - val_accuracy: 0.9830\n",
            "Epoch 11/30\n",
            "63/63 [==============================] - 0s 7ms/step - loss: 0.5980 - accuracy: 0.9965 - val_loss: 4.1683 - val_accuracy: 0.9770\n",
            "Epoch 12/30\n",
            "63/63 [==============================] - 0s 6ms/step - loss: 0.0455 - accuracy: 0.9990 - val_loss: 4.0008 - val_accuracy: 0.9810\n",
            "Epoch 13/30\n",
            "63/63 [==============================] - 0s 7ms/step - loss: 0.7349 - accuracy: 0.9955 - val_loss: 6.6029 - val_accuracy: 0.9760\n",
            "Epoch 14/30\n",
            "63/63 [==============================] - 0s 7ms/step - loss: 0.0439 - accuracy: 0.9995 - val_loss: 4.6922 - val_accuracy: 0.9740\n",
            "Epoch 15/30\n",
            "63/63 [==============================] - 0s 7ms/step - loss: 1.0712e-24 - accuracy: 1.0000 - val_loss: 4.6922 - val_accuracy: 0.9740\n",
            "Epoch 16/30\n",
            "63/63 [==============================] - 0s 5ms/step - loss: 0.0165 - accuracy: 0.9995 - val_loss: 5.2724 - val_accuracy: 0.9730\n",
            "Epoch 17/30\n",
            "63/63 [==============================] - 0s 7ms/step - loss: 0.0296 - accuracy: 0.9995 - val_loss: 6.2010 - val_accuracy: 0.9770\n",
            "Epoch 18/30\n",
            "63/63 [==============================] - 0s 7ms/step - loss: 0.1166 - accuracy: 0.9985 - val_loss: 5.6465 - val_accuracy: 0.9760\n",
            "Epoch 19/30\n",
            "63/63 [==============================] - 0s 7ms/step - loss: 0.1363 - accuracy: 0.9975 - val_loss: 9.5794 - val_accuracy: 0.9690\n",
            "Epoch 20/30\n",
            "63/63 [==============================] - 0s 6ms/step - loss: 0.3556 - accuracy: 0.9975 - val_loss: 5.1165 - val_accuracy: 0.9780\n",
            "Epoch 21/30\n",
            "63/63 [==============================] - 0s 7ms/step - loss: 7.9434e-18 - accuracy: 1.0000 - val_loss: 5.1165 - val_accuracy: 0.9780\n",
            "Epoch 22/30\n",
            "63/63 [==============================] - 0s 6ms/step - loss: 0.0484 - accuracy: 0.9995 - val_loss: 8.9653 - val_accuracy: 0.9690\n",
            "Epoch 23/30\n",
            "63/63 [==============================] - 0s 7ms/step - loss: 0.1085 - accuracy: 0.9995 - val_loss: 4.9552 - val_accuracy: 0.9790\n",
            "Epoch 24/30\n",
            "63/63 [==============================] - 0s 7ms/step - loss: 0.0905 - accuracy: 0.9985 - val_loss: 5.5334 - val_accuracy: 0.9720\n",
            "Epoch 25/30\n",
            "63/63 [==============================] - 1s 9ms/step - loss: 0.0504 - accuracy: 0.9995 - val_loss: 5.3238 - val_accuracy: 0.9780\n",
            "Epoch 26/30\n",
            "63/63 [==============================] - 1s 9ms/step - loss: 0.0744 - accuracy: 0.9995 - val_loss: 4.5375 - val_accuracy: 0.9790\n",
            "Epoch 27/30\n",
            "63/63 [==============================] - 1s 9ms/step - loss: 6.4587e-21 - accuracy: 1.0000 - val_loss: 4.5375 - val_accuracy: 0.9790\n",
            "Epoch 28/30\n",
            "63/63 [==============================] - 1s 9ms/step - loss: 0.0280 - accuracy: 0.9990 - val_loss: 5.2682 - val_accuracy: 0.9780\n",
            "Epoch 29/30\n",
            "63/63 [==============================] - 1s 9ms/step - loss: 0.1496 - accuracy: 0.9980 - val_loss: 5.1565 - val_accuracy: 0.9770\n",
            "Epoch 30/30\n",
            "63/63 [==============================] - 1s 13ms/step - loss: 0.0470 - accuracy: 0.9990 - val_loss: 5.6601 - val_accuracy: 0.9760\n"
          ]
        }
      ]
    },
    {
      "cell_type": "code",
      "source": [
        "#to test the model\n",
        "test_model = keras.models.load_model(\"feature_extractionnetwork.keras\")\n",
        "test_loss, test_acc = test_model.evaluate(test_features, test_labels)\n",
        "print(f\"Test accuracy: {test_acc:.3f}\")"
      ],
      "metadata": {
        "colab": {
          "base_uri": "https://localhost:8080/"
        },
        "id": "A182-FcuobNd",
        "outputId": "7687c458-ecd3-4bde-e399-00ae296f9245"
      },
      "execution_count": null,
      "outputs": [
        {
          "output_type": "stream",
          "name": "stdout",
          "text": [
            "63/63 [==============================] - 0s 3ms/step - loss: 5.6168 - accuracy: 0.9715\n",
            "Test accuracy: 0.971\n"
          ]
        }
      ]
    },
    {
      "cell_type": "code",
      "source": [
        "#to load the pre-trained weights to the VGG16 model\n",
        "conv_base  = keras.applications.vgg16.VGG16(\n",
        "    weights=\"imagenet\",\n",
        "    include_top=False)\n",
        "conv_base.trainable = False\n",
        "# Freezing the layers of the pretrained CNN and printing the list of trainable weights.\n",
        "conv_base.trainable = True\n",
        "print(\"number of trainable weights \"\n",
        "      \"before freezing the conv base:\", len(conv_base.trainable_weights))\n",
        "#UnFreezing the layers of the pretrained CNN and printing the list of trainable weights.\n",
        "conv_base.trainable = False\n",
        "print(\"number of trainable weights \"\n",
        "      \"after freezing the conv base:\", len(conv_base.trainable_weights))"
      ],
      "metadata": {
        "colab": {
          "base_uri": "https://localhost:8080/"
        },
        "id": "pPgSZyXgojci",
        "outputId": "85b7f6ee-c98d-4370-f3e6-f36dc23ba57b"
      },
      "execution_count": null,
      "outputs": [
        {
          "output_type": "stream",
          "name": "stdout",
          "text": [
            "number of trainable weights before freezing the conv base: 26\n",
            "number of trainable weights after freezing the conv base: 0\n"
          ]
        }
      ]
    },
    {
      "cell_type": "markdown",
      "source": [
        "pre-trained model with data augmentation:"
      ],
      "metadata": {
        "id": "r0dnip5Vo5tB"
      }
    },
    {
      "cell_type": "code",
      "source": [
        "#Adding a data augumentation stage.\n",
        "data_augmentation = keras.Sequential(\n",
        "    [\n",
        "        layers.RandomFlip(\"horizontal\"),\n",
        "        layers.RandomRotation(0.1),\n",
        "        layers.RandomZoom(0.2),\n",
        "    ]\n",
        ")\n",
        "\n",
        "inputs = keras.Input(shape=(180, 180, 3))\n",
        "x = data_augmentation(inputs)\n",
        "x = keras.applications.vgg16.preprocess_input(x)\n",
        "x = conv_base(x)\n",
        "x = layers.Flatten()(x)\n",
        "x = layers.Dense(256)(x)\n",
        "x = layers.Dropout(0.5)(x)\n",
        "outputs = layers.Dense(1, activation=\"sigmoid\")(x)\n",
        "model = keras.Model(inputs, outputs)\n",
        "model.compile(loss=\"binary_crossentropy\",\n",
        "              optimizer=\"rmsprop\",\n",
        "              metrics=[\"accuracy\"])"
      ],
      "metadata": {
        "id": "AE6ei5v-pFAb"
      },
      "execution_count": null,
      "outputs": []
    },
    {
      "cell_type": "code",
      "source": [
        "callbacks = [\n",
        "    keras.callbacks.ModelCheckpoint(\n",
        "        filepath=\"feature_extractionnetwork_with_data_augmentation.keras\",\n",
        "        save_best_only=True,\n",
        "        monitor=\"val_loss\")\n",
        "    ]"
      ],
      "metadata": {
        "id": "B8roY-dDpKDn"
      },
      "execution_count": null,
      "outputs": []
    },
    {
      "cell_type": "code",
      "source": [
        "history = model.fit(\n",
        "    train_dataset,\n",
        "    epochs=60,\n",
        "    validation_data=validation_dataset,\n",
        "    callbacks=callbacks)"
      ],
      "metadata": {
        "colab": {
          "base_uri": "https://localhost:8080/"
        },
        "id": "gC9uIybqpRDR",
        "outputId": "d6c0cae4-6b75-4b5d-d3ca-4df6761d8915"
      },
      "execution_count": null,
      "outputs": [
        {
          "output_type": "stream",
          "name": "stdout",
          "text": [
            "Epoch 1/60\n",
            "63/63 [==============================] - 7s 74ms/step - loss: 18.6928 - accuracy: 0.9025 - val_loss: 15.1838 - val_accuracy: 0.9150\n",
            "Epoch 2/60\n",
            "63/63 [==============================] - 8s 116ms/step - loss: 7.3713 - accuracy: 0.9420 - val_loss: 6.2073 - val_accuracy: 0.9690\n",
            "Epoch 3/60\n",
            "63/63 [==============================] - 4s 67ms/step - loss: 6.0998 - accuracy: 0.9570 - val_loss: 6.2218 - val_accuracy: 0.9720\n",
            "Epoch 4/60\n",
            "63/63 [==============================] - 5s 70ms/step - loss: 5.2707 - accuracy: 0.9595 - val_loss: 4.6060 - val_accuracy: 0.9750\n",
            "Epoch 5/60\n",
            "63/63 [==============================] - 8s 112ms/step - loss: 4.6422 - accuracy: 0.9650 - val_loss: 6.3310 - val_accuracy: 0.9680\n",
            "Epoch 6/60\n",
            "63/63 [==============================] - 5s 67ms/step - loss: 4.1801 - accuracy: 0.9705 - val_loss: 6.5650 - val_accuracy: 0.9660\n",
            "Epoch 7/60\n",
            "63/63 [==============================] - 5s 70ms/step - loss: 3.2799 - accuracy: 0.9690 - val_loss: 3.8085 - val_accuracy: 0.9740\n",
            "Epoch 8/60\n",
            "63/63 [==============================] - 7s 114ms/step - loss: 4.3720 - accuracy: 0.9630 - val_loss: 5.4238 - val_accuracy: 0.9710\n",
            "Epoch 9/60\n",
            "63/63 [==============================] - 5s 68ms/step - loss: 3.1398 - accuracy: 0.9720 - val_loss: 4.7407 - val_accuracy: 0.9740\n",
            "Epoch 10/60\n",
            "63/63 [==============================] - 5s 68ms/step - loss: 2.3561 - accuracy: 0.9750 - val_loss: 4.4207 - val_accuracy: 0.9760\n",
            "Epoch 11/60\n",
            "63/63 [==============================] - 7s 113ms/step - loss: 2.6054 - accuracy: 0.9770 - val_loss: 4.1065 - val_accuracy: 0.9760\n",
            "Epoch 12/60\n",
            "63/63 [==============================] - 5s 72ms/step - loss: 2.0576 - accuracy: 0.9780 - val_loss: 3.5545 - val_accuracy: 0.9800\n",
            "Epoch 13/60\n",
            "63/63 [==============================] - 5s 71ms/step - loss: 2.4720 - accuracy: 0.9775 - val_loss: 3.3638 - val_accuracy: 0.9760\n",
            "Epoch 14/60\n",
            "63/63 [==============================] - 8s 119ms/step - loss: 2.3721 - accuracy: 0.9745 - val_loss: 3.0865 - val_accuracy: 0.9760\n",
            "Epoch 15/60\n",
            "63/63 [==============================] - 6s 92ms/step - loss: 2.2820 - accuracy: 0.9740 - val_loss: 3.2527 - val_accuracy: 0.9820\n",
            "Epoch 16/60\n",
            "63/63 [==============================] - 9s 129ms/step - loss: 1.4787 - accuracy: 0.9815 - val_loss: 2.6357 - val_accuracy: 0.9850\n",
            "Epoch 17/60\n",
            "63/63 [==============================] - 5s 68ms/step - loss: 1.3527 - accuracy: 0.9830 - val_loss: 2.6558 - val_accuracy: 0.9790\n",
            "Epoch 18/60\n",
            "63/63 [==============================] - 6s 87ms/step - loss: 1.0173 - accuracy: 0.9855 - val_loss: 3.1172 - val_accuracy: 0.9770\n",
            "Epoch 19/60\n",
            "63/63 [==============================] - 7s 102ms/step - loss: 1.6195 - accuracy: 0.9800 - val_loss: 1.8922 - val_accuracy: 0.9830\n",
            "Epoch 20/60\n",
            "63/63 [==============================] - 6s 86ms/step - loss: 1.2671 - accuracy: 0.9850 - val_loss: 2.3711 - val_accuracy: 0.9810\n",
            "Epoch 21/60\n",
            "63/63 [==============================] - 6s 86ms/step - loss: 1.4069 - accuracy: 0.9860 - val_loss: 2.4820 - val_accuracy: 0.9820\n",
            "Epoch 22/60\n",
            "63/63 [==============================] - 4s 66ms/step - loss: 1.0435 - accuracy: 0.9845 - val_loss: 2.6594 - val_accuracy: 0.9780\n",
            "Epoch 23/60\n",
            "63/63 [==============================] - 6s 85ms/step - loss: 1.6837 - accuracy: 0.9820 - val_loss: 4.1085 - val_accuracy: 0.9730\n",
            "Epoch 24/60\n",
            "63/63 [==============================] - 5s 67ms/step - loss: 1.1867 - accuracy: 0.9825 - val_loss: 2.6606 - val_accuracy: 0.9780\n",
            "Epoch 25/60\n",
            "63/63 [==============================] - 5s 81ms/step - loss: 1.2215 - accuracy: 0.9810 - val_loss: 1.9805 - val_accuracy: 0.9780\n",
            "Epoch 26/60\n",
            "63/63 [==============================] - 5s 67ms/step - loss: 0.8280 - accuracy: 0.9890 - val_loss: 1.9077 - val_accuracy: 0.9810\n",
            "Epoch 27/60\n",
            "63/63 [==============================] - 6s 89ms/step - loss: 0.8062 - accuracy: 0.9870 - val_loss: 1.8208 - val_accuracy: 0.9800\n",
            "Epoch 28/60\n",
            "63/63 [==============================] - 8s 118ms/step - loss: 0.7888 - accuracy: 0.9870 - val_loss: 2.3838 - val_accuracy: 0.9740\n",
            "Epoch 29/60\n",
            "63/63 [==============================] - 6s 88ms/step - loss: 0.4861 - accuracy: 0.9885 - val_loss: 1.8546 - val_accuracy: 0.9810\n",
            "Epoch 30/60\n",
            "63/63 [==============================] - 6s 85ms/step - loss: 1.0831 - accuracy: 0.9850 - val_loss: 3.0155 - val_accuracy: 0.9780\n",
            "Epoch 31/60\n",
            "63/63 [==============================] - 6s 94ms/step - loss: 0.5077 - accuracy: 0.9855 - val_loss: 2.4671 - val_accuracy: 0.9780\n",
            "Epoch 32/60\n",
            "63/63 [==============================] - 5s 69ms/step - loss: 0.7948 - accuracy: 0.9905 - val_loss: 2.0990 - val_accuracy: 0.9790\n",
            "Epoch 33/60\n",
            "63/63 [==============================] - 6s 86ms/step - loss: 1.0650 - accuracy: 0.9830 - val_loss: 2.0858 - val_accuracy: 0.9750\n",
            "Epoch 34/60\n",
            "63/63 [==============================] - 6s 94ms/step - loss: 0.6263 - accuracy: 0.9865 - val_loss: 2.0205 - val_accuracy: 0.9790\n",
            "Epoch 35/60\n",
            "63/63 [==============================] - 5s 69ms/step - loss: 0.9595 - accuracy: 0.9835 - val_loss: 3.0654 - val_accuracy: 0.9700\n",
            "Epoch 36/60\n",
            "63/63 [==============================] - 6s 84ms/step - loss: 0.9254 - accuracy: 0.9815 - val_loss: 2.4179 - val_accuracy: 0.9740\n",
            "Epoch 37/60\n",
            "63/63 [==============================] - 5s 69ms/step - loss: 0.6940 - accuracy: 0.9905 - val_loss: 1.9613 - val_accuracy: 0.9790\n",
            "Epoch 38/60\n",
            "63/63 [==============================] - 6s 89ms/step - loss: 0.7203 - accuracy: 0.9845 - val_loss: 1.7381 - val_accuracy: 0.9790\n",
            "Epoch 39/60\n",
            "63/63 [==============================] - 5s 70ms/step - loss: 0.6497 - accuracy: 0.9865 - val_loss: 1.3205 - val_accuracy: 0.9800\n",
            "Epoch 40/60\n",
            "63/63 [==============================] - 6s 86ms/step - loss: 0.3898 - accuracy: 0.9895 - val_loss: 1.4264 - val_accuracy: 0.9810\n",
            "Epoch 41/60\n",
            "63/63 [==============================] - 6s 94ms/step - loss: 0.3744 - accuracy: 0.9875 - val_loss: 1.9520 - val_accuracy: 0.9800\n",
            "Epoch 42/60\n",
            "63/63 [==============================] - 5s 69ms/step - loss: 0.5247 - accuracy: 0.9855 - val_loss: 1.8968 - val_accuracy: 0.9820\n",
            "Epoch 43/60\n",
            "63/63 [==============================] - 6s 85ms/step - loss: 0.7934 - accuracy: 0.9845 - val_loss: 1.8017 - val_accuracy: 0.9810\n",
            "Epoch 44/60\n",
            "63/63 [==============================] - 5s 69ms/step - loss: 0.3647 - accuracy: 0.9905 - val_loss: 1.9548 - val_accuracy: 0.9820\n",
            "Epoch 45/60\n",
            "63/63 [==============================] - 6s 86ms/step - loss: 0.6282 - accuracy: 0.9860 - val_loss: 1.8476 - val_accuracy: 0.9820\n",
            "Epoch 46/60\n",
            "63/63 [==============================] - 8s 114ms/step - loss: 0.2803 - accuracy: 0.9935 - val_loss: 1.6523 - val_accuracy: 0.9800\n",
            "Epoch 47/60\n",
            "63/63 [==============================] - 6s 84ms/step - loss: 0.6037 - accuracy: 0.9890 - val_loss: 2.7547 - val_accuracy: 0.9690\n",
            "Epoch 48/60\n",
            "63/63 [==============================] - 8s 113ms/step - loss: 0.4812 - accuracy: 0.9865 - val_loss: 1.9621 - val_accuracy: 0.9780\n",
            "Epoch 49/60\n",
            "63/63 [==============================] - 5s 69ms/step - loss: 0.4356 - accuracy: 0.9915 - val_loss: 1.7537 - val_accuracy: 0.9780\n",
            "Epoch 50/60\n",
            "63/63 [==============================] - 7s 107ms/step - loss: 0.4384 - accuracy: 0.9895 - val_loss: 1.7928 - val_accuracy: 0.9800\n",
            "Epoch 51/60\n",
            "63/63 [==============================] - 5s 68ms/step - loss: 0.5784 - accuracy: 0.9855 - val_loss: 2.3640 - val_accuracy: 0.9750\n",
            "Epoch 52/60\n",
            "63/63 [==============================] - 6s 99ms/step - loss: 0.5408 - accuracy: 0.9870 - val_loss: 2.1297 - val_accuracy: 0.9810\n",
            "Epoch 53/60\n",
            "63/63 [==============================] - 5s 68ms/step - loss: 0.5106 - accuracy: 0.9875 - val_loss: 2.3152 - val_accuracy: 0.9760\n",
            "Epoch 54/60\n",
            "63/63 [==============================] - 6s 84ms/step - loss: 0.3560 - accuracy: 0.9900 - val_loss: 1.6117 - val_accuracy: 0.9800\n",
            "Epoch 55/60\n",
            "63/63 [==============================] - 6s 94ms/step - loss: 0.4742 - accuracy: 0.9905 - val_loss: 1.5031 - val_accuracy: 0.9780\n",
            "Epoch 56/60\n",
            "63/63 [==============================] - 4s 66ms/step - loss: 0.1903 - accuracy: 0.9940 - val_loss: 1.6623 - val_accuracy: 0.9790\n",
            "Epoch 57/60\n",
            "63/63 [==============================] - 6s 86ms/step - loss: 0.4624 - accuracy: 0.9875 - val_loss: 1.4817 - val_accuracy: 0.9800\n",
            "Epoch 58/60\n",
            "63/63 [==============================] - 5s 70ms/step - loss: 0.4027 - accuracy: 0.9895 - val_loss: 1.5056 - val_accuracy: 0.9840\n",
            "Epoch 59/60\n",
            "63/63 [==============================] - 5s 82ms/step - loss: 0.4275 - accuracy: 0.9885 - val_loss: 2.1088 - val_accuracy: 0.9800\n",
            "Epoch 60/60\n",
            "63/63 [==============================] - 7s 111ms/step - loss: 0.6214 - accuracy: 0.9850 - val_loss: 3.6410 - val_accuracy: 0.9750\n"
          ]
        }
      ]
    },
    {
      "cell_type": "code",
      "source": [
        "#to test the model accuracy.\n",
        "test_model = keras.models.load_model(\n",
        "    \"feature_extractionnetwork_with_data_augmentation.keras\")\n",
        "test_loss, test_acc = test_model.evaluate(test_dataset)\n",
        "print(f\"Test accuracy: {test_acc:.3f}\")"
      ],
      "metadata": {
        "colab": {
          "base_uri": "https://localhost:8080/"
        },
        "id": "FszMOctMq7v8",
        "outputId": "422d079d-6408-430c-8c92-907653a5e01c"
      },
      "execution_count": null,
      "outputs": [
        {
          "output_type": "stream",
          "name": "stdout",
          "text": [
            "63/63 [==============================] - 4s 53ms/step - loss: 1.6289 - accuracy: 0.9795\n",
            "Test accuracy: 0.979\n"
          ]
        }
      ]
    },
    {
      "cell_type": "markdown",
      "source": [
        "3500 Sample Size for Pre_Trained Model"
      ],
      "metadata": {
        "id": "VyNmP2rqrKdY"
      }
    },
    {
      "cell_type": "code",
      "source": [
        "#Increasing the pretrained training sample.\n",
        "import os, shutil, pathlib\n",
        "\n",
        "original_dir = pathlib.Path(\"train\")\n",
        "new_base_dir = pathlib.Path(\"cats_vs_dogs_small_PretrainedIncreased_trainsample\")\n",
        "\n",
        "def make_subset(subset_name, start_index, end_index):\n",
        "    for category in (\"cat\", \"dog\"):\n",
        "        dir = new_base_dir / subset_name / category\n",
        "        os.makedirs(dir,exist_ok=True)\n",
        "        fnames = [f\"{category}.{i}.jpg\" for i in range(start_index, end_index)]\n",
        "        for fname in fnames:\n",
        "            shutil.copyfile(src=original_dir / fname,\n",
        "                            dst=dir / fname)\n",
        "make_subset(\"train\", start_index=0, end_index=3500)\n",
        "make_subset(\"validation\", start_index=3500, end_index=4000)\n",
        "make_subset(\"test\", start_index=4000, end_index=5000)"
      ],
      "metadata": {
        "id": "XHiRUlyErQAu"
      },
      "execution_count": null,
      "outputs": []
    },
    {
      "cell_type": "code",
      "source": [
        "#to load pre-trained weights to the VGG16 model\n",
        "conv_base  = keras.applications.vgg16.VGG16(\n",
        "    weights=\"imagenet\",\n",
        "    include_top=False,\n",
        "    input_shape=(180, 180, 3))\n",
        "conv_base.trainable = False"
      ],
      "metadata": {
        "id": "s5HS4B6brdDY"
      },
      "execution_count": null,
      "outputs": []
    },
    {
      "cell_type": "code",
      "source": [
        "#to build the model.\n",
        "inputs = keras.Input(shape=(5, 5, 512))\n",
        "x = layers.Flatten()(inputs)\n",
        "x = layers.Dense(256)(x)\n",
        "x = layers.Dropout(0.5)(x)\n",
        "outputs = layers.Dense(1, activation=\"sigmoid\")(x)\n",
        "model = keras.Model(inputs, outputs)\n",
        "model.compile(loss=\"binary_crossentropy\",\n",
        "              optimizer=\"rmsprop\",\n",
        "              metrics=[\"accuracy\"])\n",
        "\n",
        "callbacks = [\n",
        "    keras.callbacks.ModelCheckpoint(\n",
        "      filepath=\"feature_extractionnetwork3500.keras\",\n",
        "      save_best_only=True,\n",
        "      monitor=\"val_loss\")\n",
        "]\n",
        "history = model.fit(\n",
        "    train_features, train_labels,\n",
        "    epochs=30,\n",
        "    validation_data=(val_features, val_labels),\n",
        "    callbacks=callbacks)"
      ],
      "metadata": {
        "colab": {
          "base_uri": "https://localhost:8080/"
        },
        "id": "FdkQHk4Yrish",
        "outputId": "def69b77-2e6a-42d1-d74a-87505de8881f"
      },
      "execution_count": null,
      "outputs": [
        {
          "output_type": "stream",
          "name": "stdout",
          "text": [
            "Epoch 1/30\n",
            "63/63 [==============================] - 2s 11ms/step - loss: 14.4641 - accuracy: 0.9285 - val_loss: 9.4139 - val_accuracy: 0.9400\n",
            "Epoch 2/30\n",
            "63/63 [==============================] - 0s 7ms/step - loss: 5.1981 - accuracy: 0.9685 - val_loss: 4.6096 - val_accuracy: 0.9670\n",
            "Epoch 3/30\n",
            "63/63 [==============================] - 0s 7ms/step - loss: 0.8244 - accuracy: 0.9900 - val_loss: 5.1961 - val_accuracy: 0.9720\n",
            "Epoch 4/30\n",
            "63/63 [==============================] - 0s 7ms/step - loss: 1.2892 - accuracy: 0.9890 - val_loss: 7.7549 - val_accuracy: 0.9640\n",
            "Epoch 5/30\n",
            "63/63 [==============================] - 0s 6ms/step - loss: 1.5731 - accuracy: 0.9905 - val_loss: 3.8728 - val_accuracy: 0.9730\n",
            "Epoch 6/30\n",
            "63/63 [==============================] - 0s 6ms/step - loss: 0.3039 - accuracy: 0.9945 - val_loss: 5.7615 - val_accuracy: 0.9700\n",
            "Epoch 7/30\n",
            "63/63 [==============================] - 0s 7ms/step - loss: 0.4758 - accuracy: 0.9960 - val_loss: 5.9197 - val_accuracy: 0.9740\n",
            "Epoch 8/30\n",
            "63/63 [==============================] - 0s 7ms/step - loss: 0.4150 - accuracy: 0.9970 - val_loss: 4.8464 - val_accuracy: 0.9770\n",
            "Epoch 9/30\n",
            "63/63 [==============================] - 0s 6ms/step - loss: 0.1599 - accuracy: 0.9990 - val_loss: 4.3672 - val_accuracy: 0.9770\n",
            "Epoch 10/30\n",
            "63/63 [==============================] - 1s 8ms/step - loss: 0.1058 - accuracy: 0.9980 - val_loss: 5.6487 - val_accuracy: 0.9720\n",
            "Epoch 11/30\n",
            "63/63 [==============================] - 0s 7ms/step - loss: 0.0745 - accuracy: 0.9985 - val_loss: 5.4776 - val_accuracy: 0.9700\n",
            "Epoch 12/30\n",
            "63/63 [==============================] - 0s 8ms/step - loss: 0.4201 - accuracy: 0.9970 - val_loss: 5.2825 - val_accuracy: 0.9750\n",
            "Epoch 13/30\n",
            "63/63 [==============================] - 1s 8ms/step - loss: 0.1139 - accuracy: 0.9990 - val_loss: 5.0853 - val_accuracy: 0.9770\n",
            "Epoch 14/30\n",
            "63/63 [==============================] - 1s 8ms/step - loss: 0.2790 - accuracy: 0.9980 - val_loss: 5.6536 - val_accuracy: 0.9730\n",
            "Epoch 15/30\n",
            "63/63 [==============================] - 1s 8ms/step - loss: 0.3876 - accuracy: 0.9960 - val_loss: 5.6967 - val_accuracy: 0.9690\n",
            "Epoch 16/30\n",
            "63/63 [==============================] - 1s 9ms/step - loss: 0.2512 - accuracy: 0.9975 - val_loss: 4.4979 - val_accuracy: 0.9800\n",
            "Epoch 17/30\n",
            "63/63 [==============================] - 1s 8ms/step - loss: 0.1269 - accuracy: 0.9975 - val_loss: 4.1712 - val_accuracy: 0.9770\n",
            "Epoch 18/30\n",
            "63/63 [==============================] - 1s 9ms/step - loss: 0.0660 - accuracy: 0.9990 - val_loss: 4.8252 - val_accuracy: 0.9760\n",
            "Epoch 19/30\n",
            "63/63 [==============================] - 1s 9ms/step - loss: 4.9410e-16 - accuracy: 1.0000 - val_loss: 4.8252 - val_accuracy: 0.9760\n",
            "Epoch 20/30\n",
            "63/63 [==============================] - 1s 9ms/step - loss: 3.2270e-28 - accuracy: 1.0000 - val_loss: 4.8252 - val_accuracy: 0.9760\n",
            "Epoch 21/30\n",
            "63/63 [==============================] - 1s 9ms/step - loss: 1.6170e-25 - accuracy: 1.0000 - val_loss: 4.8252 - val_accuracy: 0.9760\n",
            "Epoch 22/30\n",
            "63/63 [==============================] - 0s 7ms/step - loss: 0.0699 - accuracy: 0.9985 - val_loss: 4.2834 - val_accuracy: 0.9800\n",
            "Epoch 23/30\n",
            "63/63 [==============================] - 0s 8ms/step - loss: 6.6436e-33 - accuracy: 1.0000 - val_loss: 4.2834 - val_accuracy: 0.9800\n",
            "Epoch 24/30\n",
            "63/63 [==============================] - 0s 6ms/step - loss: 0.0242 - accuracy: 0.9995 - val_loss: 7.7598 - val_accuracy: 0.9660\n",
            "Epoch 25/30\n",
            "63/63 [==============================] - 0s 6ms/step - loss: 0.0108 - accuracy: 0.9995 - val_loss: 4.1628 - val_accuracy: 0.9810\n",
            "Epoch 26/30\n",
            "63/63 [==============================] - 0s 7ms/step - loss: 0.0842 - accuracy: 0.9985 - val_loss: 7.0138 - val_accuracy: 0.9720\n",
            "Epoch 27/30\n",
            "63/63 [==============================] - 0s 6ms/step - loss: 0.1031 - accuracy: 0.9995 - val_loss: 4.8853 - val_accuracy: 0.9790\n",
            "Epoch 28/30\n",
            "63/63 [==============================] - 0s 7ms/step - loss: 0.1596 - accuracy: 0.9990 - val_loss: 4.8236 - val_accuracy: 0.9770\n",
            "Epoch 29/30\n",
            "63/63 [==============================] - 0s 6ms/step - loss: 0.0019 - accuracy: 0.9995 - val_loss: 7.6180 - val_accuracy: 0.9720\n",
            "Epoch 30/30\n",
            "63/63 [==============================] - 0s 6ms/step - loss: 0.4661 - accuracy: 0.9975 - val_loss: 5.2602 - val_accuracy: 0.9760\n"
          ]
        }
      ]
    },
    {
      "cell_type": "code",
      "source": [
        "#to test the accuracy of the model.\n",
        "test_model = keras.models.load_model(\"feature_extractionnetwork3500.keras\")\n",
        "\n",
        "test_loss, test1_acc = test_model.evaluate(test_features, test_labels)\n",
        "print(f\"Test accuracy: {test1_acc:.3f}\")"
      ],
      "metadata": {
        "colab": {
          "base_uri": "https://localhost:8080/"
        },
        "id": "bQ2K2HJXr64w",
        "outputId": "ed652cc9-869f-4499-8ba0-068c1c23d42c"
      },
      "execution_count": null,
      "outputs": [
        {
          "output_type": "stream",
          "name": "stdout",
          "text": [
            "63/63 [==============================] - 0s 3ms/step - loss: 5.3882 - accuracy: 0.9735\n",
            "Test accuracy: 0.974\n"
          ]
        }
      ]
    },
    {
      "cell_type": "markdown",
      "source": [
        "4500 Sample Size for Pre_Trained Model"
      ],
      "metadata": {
        "id": "bSna2f0osX9d"
      }
    },
    {
      "cell_type": "code",
      "source": [
        "#creating the directories and assigning the subset of the cat and dog images for the traing validation and testing.\n",
        "import os, shutil, pathlib\n",
        "\n",
        "original_dir = pathlib.Path(\"train\")\n",
        "new_base_dir = pathlib.Path(\"cats_vs_dogs_small_Pretrained_optimal_trainsample\")\n",
        "\n",
        "def make_subset(subset_name, start_index, end_index):\n",
        "    for category in (\"cat\", \"dog\"):\n",
        "        dir = new_base_dir / subset_name / category\n",
        "        os.makedirs(dir,exist_ok=True)\n",
        "        fnames = [f\"{category}.{i}.jpg\" for i in range(start_index, end_index)]\n",
        "        for fname in fnames:\n",
        "            shutil.copyfile(src=original_dir / fname,\n",
        "                            dst=dir / fname)\n",
        "make_subset(\"train\", start_index=0, end_index=4500)\n",
        "make_subset(\"validation\", start_index=4500, end_index=5000)\n",
        "make_subset(\"test\", start_index=5000, end_index=6000)"
      ],
      "metadata": {
        "id": "IJ0DPzySsavr"
      },
      "execution_count": null,
      "outputs": []
    },
    {
      "cell_type": "code",
      "source": [
        "#to load the pre-trained weights to the VGG16 model\n",
        "conv_base  = keras.applications.vgg16.VGG16(\n",
        "    weights=\"imagenet\",\n",
        "    include_top=False)\n",
        "conv_base.trainable = False"
      ],
      "metadata": {
        "id": "H4_X2er3szPQ"
      },
      "execution_count": null,
      "outputs": []
    },
    {
      "cell_type": "code",
      "source": [
        "#to build the model.\n",
        "inputs = keras.Input(shape=(5, 5, 512))\n",
        "x = layers.Flatten()(inputs)\n",
        "x = layers.Dense(256)(x)\n",
        "x = layers.Dropout(0.5)(x)\n",
        "outputs = layers.Dense(1, activation=\"sigmoid\")(x)\n",
        "model = keras.Model(inputs, outputs)\n",
        "model.compile(loss=\"binary_crossentropy\",\n",
        "              optimizer=\"rmsprop\",\n",
        "              metrics=[\"accuracy\"])\n",
        "\n",
        "callbacks = [\n",
        "    keras.callbacks.ModelCheckpoint(\n",
        "      filepath=\"feature_extractionnetwork4500.keras\",\n",
        "      save_best_only=True,\n",
        "      monitor=\"val_loss\")\n",
        "]\n",
        "history = model.fit(\n",
        "    train_features, train_labels,\n",
        "    epochs=30,\n",
        "    validation_data=(val_features, val_labels),\n",
        "    callbacks=callbacks)"
      ],
      "metadata": {
        "colab": {
          "base_uri": "https://localhost:8080/"
        },
        "id": "-7urhnXws8_V",
        "outputId": "27a2976c-279f-4aa3-b834-d1093fcb9252"
      },
      "execution_count": null,
      "outputs": [
        {
          "output_type": "stream",
          "name": "stdout",
          "text": [
            "Epoch 1/30\n",
            "63/63 [==============================] - 1s 11ms/step - loss: 14.9457 - accuracy: 0.9275 - val_loss: 2.2906 - val_accuracy: 0.9750\n",
            "Epoch 2/30\n",
            "63/63 [==============================] - 0s 7ms/step - loss: 3.2042 - accuracy: 0.9770 - val_loss: 5.2615 - val_accuracy: 0.9670\n",
            "Epoch 3/30\n",
            "63/63 [==============================] - 1s 9ms/step - loss: 1.6613 - accuracy: 0.9870 - val_loss: 6.4300 - val_accuracy: 0.9700\n",
            "Epoch 4/30\n",
            "63/63 [==============================] - 0s 7ms/step - loss: 1.2133 - accuracy: 0.9905 - val_loss: 4.0209 - val_accuracy: 0.9780\n",
            "Epoch 5/30\n",
            "63/63 [==============================] - 0s 6ms/step - loss: 1.0237 - accuracy: 0.9900 - val_loss: 6.0484 - val_accuracy: 0.9680\n",
            "Epoch 6/30\n",
            "63/63 [==============================] - 0s 7ms/step - loss: 1.2145 - accuracy: 0.9930 - val_loss: 4.7777 - val_accuracy: 0.9770\n",
            "Epoch 7/30\n",
            "63/63 [==============================] - 0s 6ms/step - loss: 0.4275 - accuracy: 0.9940 - val_loss: 4.2021 - val_accuracy: 0.9780\n",
            "Epoch 8/30\n",
            "63/63 [==============================] - 0s 7ms/step - loss: 0.9251 - accuracy: 0.9920 - val_loss: 6.5059 - val_accuracy: 0.9750\n",
            "Epoch 9/30\n",
            "63/63 [==============================] - 0s 7ms/step - loss: 0.5198 - accuracy: 0.9965 - val_loss: 7.9269 - val_accuracy: 0.9740\n",
            "Epoch 10/30\n",
            "63/63 [==============================] - 0s 6ms/step - loss: 0.2176 - accuracy: 0.9985 - val_loss: 8.1513 - val_accuracy: 0.9760\n",
            "Epoch 11/30\n",
            "63/63 [==============================] - 0s 7ms/step - loss: 0.3635 - accuracy: 0.9965 - val_loss: 7.7425 - val_accuracy: 0.9730\n",
            "Epoch 12/30\n",
            "63/63 [==============================] - 0s 7ms/step - loss: 0.0498 - accuracy: 0.9990 - val_loss: 7.2823 - val_accuracy: 0.9760\n",
            "Epoch 13/30\n",
            "63/63 [==============================] - 0s 7ms/step - loss: 0.1883 - accuracy: 0.9980 - val_loss: 6.3548 - val_accuracy: 0.9780\n",
            "Epoch 14/30\n",
            "63/63 [==============================] - 1s 9ms/step - loss: 0.4163 - accuracy: 0.9960 - val_loss: 5.8514 - val_accuracy: 0.9810\n",
            "Epoch 15/30\n",
            "63/63 [==============================] - 1s 9ms/step - loss: 1.1717e-17 - accuracy: 1.0000 - val_loss: 5.8514 - val_accuracy: 0.9810\n",
            "Epoch 16/30\n",
            "63/63 [==============================] - 1s 8ms/step - loss: 4.9847e-16 - accuracy: 1.0000 - val_loss: 5.8514 - val_accuracy: 0.9810\n",
            "Epoch 17/30\n",
            "63/63 [==============================] - 1s 9ms/step - loss: 0.1240 - accuracy: 0.9990 - val_loss: 5.9296 - val_accuracy: 0.9800\n",
            "Epoch 18/30\n",
            "63/63 [==============================] - 1s 9ms/step - loss: 3.4759e-17 - accuracy: 1.0000 - val_loss: 5.9296 - val_accuracy: 0.9800\n",
            "Epoch 19/30\n",
            "63/63 [==============================] - 1s 9ms/step - loss: 6.6566e-16 - accuracy: 1.0000 - val_loss: 5.9296 - val_accuracy: 0.9800\n",
            "Epoch 20/30\n",
            "63/63 [==============================] - 1s 9ms/step - loss: 0.1102 - accuracy: 0.9980 - val_loss: 6.7750 - val_accuracy: 0.9730\n",
            "Epoch 21/30\n",
            "63/63 [==============================] - 1s 9ms/step - loss: 0.0944 - accuracy: 0.9990 - val_loss: 6.8925 - val_accuracy: 0.9750\n",
            "Epoch 22/30\n",
            "63/63 [==============================] - 1s 14ms/step - loss: 0.2399 - accuracy: 0.9980 - val_loss: 5.5375 - val_accuracy: 0.9760\n",
            "Epoch 23/30\n",
            "63/63 [==============================] - 1s 9ms/step - loss: 0.1235 - accuracy: 0.9990 - val_loss: 4.8457 - val_accuracy: 0.9840\n",
            "Epoch 24/30\n",
            "63/63 [==============================] - 1s 9ms/step - loss: 0.0991 - accuracy: 0.9985 - val_loss: 6.0734 - val_accuracy: 0.9710\n",
            "Epoch 25/30\n",
            "63/63 [==============================] - 1s 9ms/step - loss: 0.0603 - accuracy: 0.9995 - val_loss: 7.5859 - val_accuracy: 0.9730\n",
            "Epoch 26/30\n",
            "63/63 [==============================] - 0s 7ms/step - loss: 0.0164 - accuracy: 0.9995 - val_loss: 5.5797 - val_accuracy: 0.9760\n",
            "Epoch 27/30\n",
            "63/63 [==============================] - 0s 7ms/step - loss: 0.0390 - accuracy: 0.9990 - val_loss: 5.9532 - val_accuracy: 0.9790\n",
            "Epoch 28/30\n",
            "63/63 [==============================] - 0s 7ms/step - loss: 3.1008e-15 - accuracy: 1.0000 - val_loss: 5.9532 - val_accuracy: 0.9790\n",
            "Epoch 29/30\n",
            "63/63 [==============================] - 0s 7ms/step - loss: 1.2843e-23 - accuracy: 1.0000 - val_loss: 5.9532 - val_accuracy: 0.9790\n",
            "Epoch 30/30\n",
            "63/63 [==============================] - 0s 6ms/step - loss: 0.0000e+00 - accuracy: 1.0000 - val_loss: 5.9532 - val_accuracy: 0.9790\n"
          ]
        }
      ]
    },
    {
      "cell_type": "code",
      "source": [
        "#to test the accuracy of teh model.\n",
        "test_model = keras.models.load_model(\n",
        "    \"feature_extractionnetwork4500.keras\")\n",
        "test_loss, test1_acc = test_model.evaluate(test_features, test_labels)\n",
        "print(f\"Test accuracy: {test1_acc:.3f}\")"
      ],
      "metadata": {
        "colab": {
          "base_uri": "https://localhost:8080/"
        },
        "id": "hHjLOH5FtNYx",
        "outputId": "83d1f170-6cc6-44c7-aa6c-847c29305dec"
      },
      "execution_count": null,
      "outputs": [
        {
          "output_type": "stream",
          "name": "stdout",
          "text": [
            "63/63 [==============================] - 0s 3ms/step - loss: 3.6258 - accuracy: 0.9730\n",
            "Test accuracy: 0.973\n"
          ]
        }
      ]
    },
    {
      "cell_type": "markdown",
      "source": [
        "5500 Sample Size for Pre_Trained Model"
      ],
      "metadata": {
        "id": "znL6cqGktf7z"
      }
    },
    {
      "cell_type": "code",
      "source": [
        "#creating the directories and assigning the subset of the cat and dog images for the traing validation and testing.\n",
        "import os, shutil, pathlib\n",
        "\n",
        "original_dir = pathlib.Path(\"train\")\n",
        "new_base_dir = pathlib.Path(\"cats_vs_dogs_small_Pretrained_optimal_trainsample\")\n",
        "\n",
        "def make_subset(subset_name, start_index, end_index):\n",
        "    for category in (\"cat\", \"dog\"):\n",
        "        dir = new_base_dir / subset_name / category\n",
        "        os.makedirs(dir,exist_ok=True)\n",
        "        fnames = [f\"{category}.{i}.jpg\" for i in range(start_index, end_index)]\n",
        "        for fname in fnames:\n",
        "            shutil.copyfile(src=original_dir / fname,\n",
        "                            dst=dir / fname)\n",
        "make_subset(\"train\", start_index=0, end_index=5500)\n",
        "make_subset(\"validation\", start_index=5500, end_index=6000)\n",
        "make_subset(\"test\", start_index=6000, end_index=7000)"
      ],
      "metadata": {
        "id": "_zH5rwR3tia2"
      },
      "execution_count": null,
      "outputs": []
    },
    {
      "cell_type": "code",
      "source": [
        "#to load the pre-trained weights to the VGG16 model\n",
        "conv_base  = keras.applications.vgg16.VGG16(\n",
        "    weights=\"imagenet\",\n",
        "    include_top=False)\n",
        "conv_base.trainable = False"
      ],
      "metadata": {
        "id": "2Nxi4WJmtuGx"
      },
      "execution_count": null,
      "outputs": []
    },
    {
      "cell_type": "code",
      "source": [
        "#to build the model.\n",
        "inputs = keras.Input(shape=(5, 5, 512))\n",
        "x = layers.Flatten()(inputs)\n",
        "x = layers.Dense(256)(x)\n",
        "x = layers.Dropout(0.5)(x)\n",
        "outputs = layers.Dense(1, activation=\"sigmoid\")(x)\n",
        "model = keras.Model(inputs, outputs)\n",
        "model.compile(loss=\"binary_crossentropy\",\n",
        "              optimizer=\"rmsprop\",\n",
        "              metrics=[\"accuracy\"])\n",
        "\n",
        "callbacks = [\n",
        "    keras.callbacks.ModelCheckpoint(\n",
        "      filepath=\"feature_extractionnetwork5500.keras\",\n",
        "      save_best_only=True,\n",
        "      monitor=\"val_loss\")\n",
        "]\n",
        "history = model.fit(\n",
        "    train_features, train_labels,\n",
        "    epochs=30,\n",
        "    validation_data=(val_features, val_labels),\n",
        "    callbacks=callbacks)"
      ],
      "metadata": {
        "colab": {
          "base_uri": "https://localhost:8080/"
        },
        "id": "Zaaze8lutzkd",
        "outputId": "275b113f-5ff4-404b-919a-7d93f66037c0"
      },
      "execution_count": null,
      "outputs": [
        {
          "output_type": "stream",
          "name": "stdout",
          "text": [
            "Epoch 1/30\n",
            "63/63 [==============================] - 2s 15ms/step - loss: 19.9010 - accuracy: 0.9260 - val_loss: 8.3927 - val_accuracy: 0.9450\n",
            "Epoch 2/30\n",
            "63/63 [==============================] - 1s 8ms/step - loss: 5.0461 - accuracy: 0.9720 - val_loss: 5.8604 - val_accuracy: 0.9730\n",
            "Epoch 3/30\n",
            "63/63 [==============================] - 0s 8ms/step - loss: 1.5571 - accuracy: 0.9890 - val_loss: 5.7901 - val_accuracy: 0.9740\n",
            "Epoch 4/30\n",
            "63/63 [==============================] - 0s 6ms/step - loss: 1.7982 - accuracy: 0.9875 - val_loss: 6.4720 - val_accuracy: 0.9750\n",
            "Epoch 5/30\n",
            "63/63 [==============================] - 0s 7ms/step - loss: 1.3147 - accuracy: 0.9905 - val_loss: 6.9188 - val_accuracy: 0.9750\n",
            "Epoch 6/30\n",
            "63/63 [==============================] - 0s 8ms/step - loss: 0.1358 - accuracy: 0.9970 - val_loss: 4.6977 - val_accuracy: 0.9780\n",
            "Epoch 7/30\n",
            "63/63 [==============================] - 0s 7ms/step - loss: 0.5261 - accuracy: 0.9960 - val_loss: 5.4951 - val_accuracy: 0.9810\n",
            "Epoch 8/30\n",
            "63/63 [==============================] - 0s 6ms/step - loss: 0.7177 - accuracy: 0.9960 - val_loss: 4.7768 - val_accuracy: 0.9820\n",
            "Epoch 9/30\n",
            "63/63 [==============================] - 0s 6ms/step - loss: 0.8436 - accuracy: 0.9940 - val_loss: 4.8990 - val_accuracy: 0.9800\n",
            "Epoch 10/30\n",
            "63/63 [==============================] - 0s 6ms/step - loss: 0.2993 - accuracy: 0.9960 - val_loss: 5.2170 - val_accuracy: 0.9790\n",
            "Epoch 11/30\n",
            "63/63 [==============================] - 0s 7ms/step - loss: 0.0011 - accuracy: 0.9995 - val_loss: 4.3664 - val_accuracy: 0.9850\n",
            "Epoch 12/30\n",
            "63/63 [==============================] - 0s 6ms/step - loss: 0.2501 - accuracy: 0.9970 - val_loss: 5.4424 - val_accuracy: 0.9770\n",
            "Epoch 13/30\n",
            "63/63 [==============================] - 0s 7ms/step - loss: 0.4580 - accuracy: 0.9970 - val_loss: 5.9851 - val_accuracy: 0.9750\n",
            "Epoch 14/30\n",
            "63/63 [==============================] - 0s 6ms/step - loss: 0.7121 - accuracy: 0.9930 - val_loss: 5.2111 - val_accuracy: 0.9760\n",
            "Epoch 15/30\n",
            "63/63 [==============================] - 0s 6ms/step - loss: 0.2455 - accuracy: 0.9985 - val_loss: 7.7278 - val_accuracy: 0.9780\n",
            "Epoch 16/30\n",
            "63/63 [==============================] - 0s 7ms/step - loss: 0.0976 - accuracy: 0.9975 - val_loss: 5.7226 - val_accuracy: 0.9760\n",
            "Epoch 17/30\n",
            "63/63 [==============================] - 0s 7ms/step - loss: 0.1471 - accuracy: 0.9975 - val_loss: 7.2816 - val_accuracy: 0.9790\n",
            "Epoch 18/30\n",
            "63/63 [==============================] - 0s 6ms/step - loss: 0.0969 - accuracy: 0.9990 - val_loss: 6.8981 - val_accuracy: 0.9720\n",
            "Epoch 19/30\n",
            "63/63 [==============================] - 0s 6ms/step - loss: 0.2535 - accuracy: 0.9990 - val_loss: 7.1174 - val_accuracy: 0.9770\n",
            "Epoch 20/30\n",
            "63/63 [==============================] - 0s 6ms/step - loss: 0.2021 - accuracy: 0.9990 - val_loss: 6.3318 - val_accuracy: 0.9760\n",
            "Epoch 21/30\n",
            "63/63 [==============================] - 0s 6ms/step - loss: 0.0000e+00 - accuracy: 1.0000 - val_loss: 6.3318 - val_accuracy: 0.9760\n",
            "Epoch 22/30\n",
            "63/63 [==============================] - 0s 6ms/step - loss: 0.0000e+00 - accuracy: 1.0000 - val_loss: 6.3318 - val_accuracy: 0.9760\n",
            "Epoch 23/30\n",
            "63/63 [==============================] - 0s 7ms/step - loss: 9.3073e-31 - accuracy: 1.0000 - val_loss: 6.3318 - val_accuracy: 0.9760\n",
            "Epoch 24/30\n",
            "63/63 [==============================] - 0s 7ms/step - loss: 0.0528 - accuracy: 0.9990 - val_loss: 5.6166 - val_accuracy: 0.9780\n",
            "Epoch 25/30\n",
            "63/63 [==============================] - 0s 6ms/step - loss: 0.4439 - accuracy: 0.9985 - val_loss: 8.7218 - val_accuracy: 0.9710\n",
            "Epoch 26/30\n",
            "63/63 [==============================] - 1s 8ms/step - loss: 3.4966e-04 - accuracy: 0.9995 - val_loss: 5.6281 - val_accuracy: 0.9770\n",
            "Epoch 27/30\n",
            "63/63 [==============================] - 1s 8ms/step - loss: 0.0251 - accuracy: 0.9985 - val_loss: 7.2159 - val_accuracy: 0.9770\n",
            "Epoch 28/30\n",
            "63/63 [==============================] - 1s 9ms/step - loss: 0.0214 - accuracy: 0.9995 - val_loss: 5.6989 - val_accuracy: 0.9790\n",
            "Epoch 29/30\n",
            "63/63 [==============================] - 1s 10ms/step - loss: 2.8576e-11 - accuracy: 1.0000 - val_loss: 5.6989 - val_accuracy: 0.9790\n",
            "Epoch 30/30\n",
            "63/63 [==============================] - 1s 11ms/step - loss: 0.0000e+00 - accuracy: 1.0000 - val_loss: 5.6989 - val_accuracy: 0.9790\n"
          ]
        }
      ]
    },
    {
      "cell_type": "code",
      "source": [
        "#to test the accuracy of teh model.\n",
        "test_model = keras.models.load_model(\n",
        "    \"feature_extractionnetwork5500.keras\")\n",
        "test_loss, test1_acc = test_model.evaluate(test_features, test_labels)\n",
        "print(f\"Test accuracy: {test1_acc:.3f}\")"
      ],
      "metadata": {
        "colab": {
          "base_uri": "https://localhost:8080/"
        },
        "id": "Rx1lgT7yt9g8",
        "outputId": "5337e21d-20ac-4bed-ea0d-188775c189ed"
      },
      "execution_count": null,
      "outputs": [
        {
          "output_type": "stream",
          "name": "stdout",
          "text": [
            "63/63 [==============================] - 0s 3ms/step - loss: 6.2642 - accuracy: 0.9705\n",
            "Test accuracy: 0.970\n"
          ]
        }
      ]
    },
    {
      "cell_type": "markdown",
      "source": [
        "CNN built from Scratch:"
      ],
      "metadata": {
        "id": "uAvgcP2Qz06x"
      }
    },
    {
      "cell_type": "code",
      "source": [
        "import matplotlib.pyplot as plt\n",
        "\n",
        "# Define the data\n",
        "training_sizes = [1000, 2000, 3500, 4500, 5500]\n",
        "accuracy = [0.717, 0.826, 0.674, 0.728, 0.743]\n",
        "validation_loss = [0.5667, 0.493, 0.606, 0.593, 0.578]\n",
        "\n",
        "# Create a line graph for accuracy\n",
        "plt.plot(training_sizes, accuracy, marker='o', label='Accuracy', linestyle='-', color='b')\n",
        "plt.xlabel('Training Size')\n",
        "plt.ylabel('Accuracy')\n",
        "plt.title('Accuracy vs. Training Size')\n",
        "plt.legend(loc='best')\n",
        "plt.grid()\n",
        "\n",
        "# Show the graph\n",
        "plt.show()"
      ],
      "metadata": {
        "colab": {
          "base_uri": "https://localhost:8080/",
          "height": 472
        },
        "id": "jRfOVIw1zBpY",
        "outputId": "c31bbd5d-463f-4483-e83d-2a7b6bb2be5e"
      },
      "execution_count": 1,
      "outputs": [
        {
          "output_type": "display_data",
          "data": {
            "text/plain": [
              "<Figure size 640x480 with 1 Axes>"
            ],
            "image/png": "[encoded data removed]"
          },
          "metadata": {}
        }
      ]
    },
    {
      "cell_type": "markdown",
      "source": [
        "CNN models built using Pre-trained Model:"
      ],
      "metadata": {
        "id": "CVntB51Ezv8_"
      }
    },
    {
      "cell_type": "code",
      "source": [
        "import matplotlib.pyplot as plt\n",
        "\n",
        "# Define the data\n",
        "training_sizes = [1000, 2000, 3500, 4500, 5500]\n",
        "accuracy = [0.971, 0.979, 0.974, 0.973, 0.970]\n",
        "validation_loss = [5.618, 1.628, 5.388, 3.625, 6.264]\n",
        "\n",
        "# Create a line graph for accuracy\n",
        "plt.plot(training_sizes, accuracy, marker='o', label='Accuracy', linestyle='-', color='b')\n",
        "plt.xlabel('Training Size')\n",
        "plt.ylabel('Accuracy')\n",
        "plt.title('Accuracy vs. Training Size (Pretrained Model)')\n",
        "plt.legend(loc='best')\n",
        "plt.grid()\n",
        "\n",
        "# Show the graph\n",
        "plt.show()\n",
        "\n"
      ],
      "metadata": {
        "colab": {
          "base_uri": "https://localhost:8080/",
          "height": 472
        },
        "id": "9Dm9WusezryQ",
        "outputId": "5e888981-3508-48b7-f515-7711ce1d89e1"
      },
      "execution_count": 2,
      "outputs": [
        {
          "output_type": "display_data",
          "data": {
            "text/plain": [
              "<Figure size 640x480 with 1 Axes>"
            ],
            "image/png": "[encoded data removed]"
          },
          "metadata": {}
        }
      ]
    }
  ]
}