{
  "nbformat": 4,
  "nbformat_minor": 0,
  "metadata": {
    "colab": {
      "provenance": [],
      "gpuType": "V100"
    },
    "kernelspec": {
      "name": "python3",
      "display_name": "Python 3"
    },
    "language_info": {
      "name": "python"
    },
    "accelerator": "GPU"
  },
  "cells": [
    {
      "cell_type": "markdown",
      "source": [
        "#A temp-forecasting eg:- to data uploading from Amazon Web Services (AWS) /keras"
      ],
      "metadata": {
        "id": "HJdWrga8fHoA"
      }
    },
    {
      "cell_type": "code",
      "source": [
        "!wget https://s3.amazonaws.com/keras-datasets/jena_climate_2009_2016.csv.zip\n",
        "!unzip jena_climate_2009_2016.csv.zip"
      ],
      "metadata": {
        "colab": {
          "base_uri": "https://localhost:8080/"
        },
        "id": "GZqA8KMXbHnn",
        "outputId": "5089d669-208d-4e49-bc32-9bc8f2a783a5"
      },
      "execution_count": 1,
      "outputs": [
        {
          "output_type": "stream",
          "name": "stdout",
          "text": [
            "--2023-11-05 21:30:59--  https://s3.amazonaws.com/keras-datasets/jena_climate_2009_2016.csv.zip\n",
            "Resolving s3.amazonaws.com (s3.amazonaws.com)... 16.182.40.248, 52.217.132.32, 52.216.245.254, ...\n",
            "Connecting to s3.amazonaws.com (s3.amazonaws.com)|16.182.40.248|:443... connected.\n",
            "HTTP request sent, awaiting response... 200 OK\n",
            "Length: 13565642 (13M) [application/zip]\n",
            "Saving to: ‘jena_climate_2009_2016.csv.zip’\n",
            "\n",
            "jena_climate_2009_2 100%[===================>]  12.94M  48.9MB/s    in 0.3s    \n",
            "\n",
            "2023-11-05 21:31:00 (48.9 MB/s) - ‘jena_climate_2009_2016.csv.zip’ saved [13565642/13565642]\n",
            "\n",
            "Archive:  jena_climate_2009_2016.csv.zip\n",
            "  inflating: jena_climate_2009_2016.csv  \n",
            "  inflating: __MACOSX/._jena_climate_2009_2016.csv  \n"
          ]
        }
      ]
    },
    {
      "cell_type": "code",
      "source": [
        "!pip install tensorflow==2.12"
      ],
      "metadata": {
        "colab": {
          "base_uri": "https://localhost:8080/"
        },
        "id": "ADhQicw9bqQg",
        "outputId": "2ef28073-2f22-4acd-d8d9-e64100d3dda7"
      },
      "execution_count": 4,
      "outputs": [
        {
          "output_type": "stream",
          "name": "stdout",
          "text": [
            "Collecting tensorflow==2.12\n",
            "  Downloading tensorflow-2.12.0-cp310-cp310-manylinux_2_17_x86_64.manylinux2014_x86_64.whl (585.9 MB)\n",
            "\u001b[2K     \u001b[90m━━━━━━━━━━━━━━━━━━━━━━━━━━━━━━━━━━━━━━━━\u001b[0m \u001b[32m585.9/585.9 MB\u001b[0m \u001b[31m3.0 MB/s\u001b[0m eta \u001b[36m0:00:00\u001b[0m\n",
            "\u001b[?25hRequirement already satisfied: absl-py>=1.0.0 in /usr/local/lib/python3.10/dist-packages (from tensorflow==2.12) (1.4.0)\n",
            "Requirement already satisfied: astunparse>=1.6.0 in /usr/local/lib/python3.10/dist-packages (from tensorflow==2.12) (1.6.3)\n",
            "Requirement already satisfied: flatbuffers>=2.0 in /usr/local/lib/python3.10/dist-packages (from tensorflow==2.12) (23.5.26)\n",
            "Collecting gast<=0.4.0,>=0.2.1 (from tensorflow==2.12)\n",
            "  Downloading gast-0.4.0-py3-none-any.whl (9.8 kB)\n",
            "Requirement already satisfied: google-pasta>=0.1.1 in /usr/local/lib/python3.10/dist-packages (from tensorflow==2.12) (0.2.0)\n",
            "Requirement already satisfied: grpcio<2.0,>=1.24.3 in /usr/local/lib/python3.10/dist-packages (from tensorflow==2.12) (1.59.0)\n",
            "Requirement already satisfied: h5py>=2.9.0 in /usr/local/lib/python3.10/dist-packages (from tensorflow==2.12) (3.9.0)\n",
            "Requirement already satisfied: jax>=0.3.15 in /usr/local/lib/python3.10/dist-packages (from tensorflow==2.12) (0.4.16)\n",
            "Collecting keras<2.13,>=2.12.0 (from tensorflow==2.12)\n",
            "  Downloading keras-2.12.0-py2.py3-none-any.whl (1.7 MB)\n",
            "\u001b[2K     \u001b[90m━━━━━━━━━━━━━━━━━━━━━━━━━━━━━━━━━━━━━━━━\u001b[0m \u001b[32m1.7/1.7 MB\u001b[0m \u001b[31m89.1 MB/s\u001b[0m eta \u001b[36m0:00:00\u001b[0m\n",
            "\u001b[?25hRequirement already satisfied: libclang>=13.0.0 in /usr/local/lib/python3.10/dist-packages (from tensorflow==2.12) (16.0.6)\n",
            "Requirement already satisfied: numpy<1.24,>=1.22 in /usr/local/lib/python3.10/dist-packages (from tensorflow==2.12) (1.23.5)\n",
            "Requirement already satisfied: opt-einsum>=2.3.2 in /usr/local/lib/python3.10/dist-packages (from tensorflow==2.12) (3.3.0)\n",
            "Requirement already satisfied: packaging in /usr/local/lib/python3.10/dist-packages (from tensorflow==2.12) (23.2)\n",
            "Requirement already satisfied: protobuf!=4.21.0,!=4.21.1,!=4.21.2,!=4.21.3,!=4.21.4,!=4.21.5,<5.0.0dev,>=3.20.3 in /usr/local/lib/python3.10/dist-packages (from tensorflow==2.12) (3.20.3)\n",
            "Requirement already satisfied: setuptools in /usr/local/lib/python3.10/dist-packages (from tensorflow==2.12) (67.7.2)\n",
            "Requirement already satisfied: six>=1.12.0 in /usr/local/lib/python3.10/dist-packages (from tensorflow==2.12) (1.16.0)\n",
            "Collecting tensorboard<2.13,>=2.12 (from tensorflow==2.12)\n",
            "  Downloading tensorboard-2.12.3-py3-none-any.whl (5.6 MB)\n",
            "\u001b[2K     \u001b[90m━━━━━━━━━━━━━━━━━━━━━━━━━━━━━━━━━━━━━━━━\u001b[0m \u001b[32m5.6/5.6 MB\u001b[0m \u001b[31m99.2 MB/s\u001b[0m eta \u001b[36m0:00:00\u001b[0m\n",
            "\u001b[?25hCollecting tensorflow-estimator<2.13,>=2.12.0 (from tensorflow==2.12)\n",
            "  Downloading tensorflow_estimator-2.12.0-py2.py3-none-any.whl (440 kB)\n",
            "\u001b[2K     \u001b[90m━━━━━━━━━━━━━━━━━━━━━━━━━━━━━━━━━━━━━━━━\u001b[0m \u001b[32m440.7/440.7 kB\u001b[0m \u001b[31m42.3 MB/s\u001b[0m eta \u001b[36m0:00:00\u001b[0m\n",
            "\u001b[?25hRequirement already satisfied: termcolor>=1.1.0 in /usr/local/lib/python3.10/dist-packages (from tensorflow==2.12) (2.3.0)\n",
            "Requirement already satisfied: typing-extensions>=3.6.6 in /usr/local/lib/python3.10/dist-packages (from tensorflow==2.12) (4.5.0)\n",
            "Requirement already satisfied: wrapt<1.15,>=1.11.0 in /usr/local/lib/python3.10/dist-packages (from tensorflow==2.12) (1.14.1)\n",
            "Requirement already satisfied: tensorflow-io-gcs-filesystem>=0.23.1 in /usr/local/lib/python3.10/dist-packages (from tensorflow==2.12) (0.34.0)\n",
            "Requirement already satisfied: wheel<1.0,>=0.23.0 in /usr/local/lib/python3.10/dist-packages (from astunparse>=1.6.0->tensorflow==2.12) (0.41.2)\n",
            "Requirement already satisfied: ml-dtypes>=0.2.0 in /usr/local/lib/python3.10/dist-packages (from jax>=0.3.15->tensorflow==2.12) (0.2.0)\n",
            "Requirement already satisfied: scipy>=1.7 in /usr/local/lib/python3.10/dist-packages (from jax>=0.3.15->tensorflow==2.12) (1.11.3)\n",
            "Requirement already satisfied: google-auth<3,>=1.6.3 in /usr/local/lib/python3.10/dist-packages (from tensorboard<2.13,>=2.12->tensorflow==2.12) (2.17.3)\n",
            "Requirement already satisfied: google-auth-oauthlib<1.1,>=0.5 in /usr/local/lib/python3.10/dist-packages (from tensorboard<2.13,>=2.12->tensorflow==2.12) (1.0.0)\n",
            "Requirement already satisfied: markdown>=2.6.8 in /usr/local/lib/python3.10/dist-packages (from tensorboard<2.13,>=2.12->tensorflow==2.12) (3.5)\n",
            "Requirement already satisfied: requests<3,>=2.21.0 in /usr/local/lib/python3.10/dist-packages (from tensorboard<2.13,>=2.12->tensorflow==2.12) (2.31.0)\n",
            "Requirement already satisfied: tensorboard-data-server<0.8.0,>=0.7.0 in /usr/local/lib/python3.10/dist-packages (from tensorboard<2.13,>=2.12->tensorflow==2.12) (0.7.2)\n",
            "Requirement already satisfied: werkzeug>=1.0.1 in /usr/local/lib/python3.10/dist-packages (from tensorboard<2.13,>=2.12->tensorflow==2.12) (3.0.1)\n",
            "Requirement already satisfied: cachetools<6.0,>=2.0.0 in /usr/local/lib/python3.10/dist-packages (from google-auth<3,>=1.6.3->tensorboard<2.13,>=2.12->tensorflow==2.12) (5.3.2)\n",
            "Requirement already satisfied: pyasn1-modules>=0.2.1 in /usr/local/lib/python3.10/dist-packages (from google-auth<3,>=1.6.3->tensorboard<2.13,>=2.12->tensorflow==2.12) (0.3.0)\n",
            "Requirement already satisfied: rsa<5,>=3.1.4 in /usr/local/lib/python3.10/dist-packages (from google-auth<3,>=1.6.3->tensorboard<2.13,>=2.12->tensorflow==2.12) (4.9)\n",
            "Requirement already satisfied: requests-oauthlib>=0.7.0 in /usr/local/lib/python3.10/dist-packages (from google-auth-oauthlib<1.1,>=0.5->tensorboard<2.13,>=2.12->tensorflow==2.12) (1.3.1)\n",
            "Requirement already satisfied: charset-normalizer<4,>=2 in /usr/local/lib/python3.10/dist-packages (from requests<3,>=2.21.0->tensorboard<2.13,>=2.12->tensorflow==2.12) (3.3.1)\n",
            "Requirement already satisfied: idna<4,>=2.5 in /usr/local/lib/python3.10/dist-packages (from requests<3,>=2.21.0->tensorboard<2.13,>=2.12->tensorflow==2.12) (3.4)\n",
            "Requirement already satisfied: urllib3<3,>=1.21.1 in /usr/local/lib/python3.10/dist-packages (from requests<3,>=2.21.0->tensorboard<2.13,>=2.12->tensorflow==2.12) (2.0.7)\n",
            "Requirement already satisfied: certifi>=2017.4.17 in /usr/local/lib/python3.10/dist-packages (from requests<3,>=2.21.0->tensorboard<2.13,>=2.12->tensorflow==2.12) (2023.7.22)\n",
            "Requirement already satisfied: MarkupSafe>=2.1.1 in /usr/local/lib/python3.10/dist-packages (from werkzeug>=1.0.1->tensorboard<2.13,>=2.12->tensorflow==2.12) (2.1.3)\n",
            "Requirement already satisfied: pyasn1<0.6.0,>=0.4.6 in /usr/local/lib/python3.10/dist-packages (from pyasn1-modules>=0.2.1->google-auth<3,>=1.6.3->tensorboard<2.13,>=2.12->tensorflow==2.12) (0.5.0)\n",
            "Requirement already satisfied: oauthlib>=3.0.0 in /usr/local/lib/python3.10/dist-packages (from requests-oauthlib>=0.7.0->google-auth-oauthlib<1.1,>=0.5->tensorboard<2.13,>=2.12->tensorflow==2.12) (3.2.2)\n",
            "Installing collected packages: tensorflow-estimator, keras, gast, tensorboard, tensorflow\n",
            "  Attempting uninstall: tensorflow-estimator\n",
            "    Found existing installation: tensorflow-estimator 2.14.0\n",
            "    Uninstalling tensorflow-estimator-2.14.0:\n",
            "      Successfully uninstalled tensorflow-estimator-2.14.0\n",
            "  Attempting uninstall: keras\n",
            "    Found existing installation: keras 2.14.0\n",
            "    Uninstalling keras-2.14.0:\n",
            "      Successfully uninstalled keras-2.14.0\n",
            "  Attempting uninstall: gast\n",
            "    Found existing installation: gast 0.5.4\n",
            "    Uninstalling gast-0.5.4:\n",
            "      Successfully uninstalled gast-0.5.4\n",
            "  Attempting uninstall: tensorboard\n",
            "    Found existing installation: tensorboard 2.14.1\n",
            "    Uninstalling tensorboard-2.14.1:\n",
            "      Successfully uninstalled tensorboard-2.14.1\n",
            "  Attempting uninstall: tensorflow\n",
            "    Found existing installation: tensorflow 2.14.0\n",
            "    Uninstalling tensorflow-2.14.0:\n",
            "      Successfully uninstalled tensorflow-2.14.0\n",
            "Successfully installed gast-0.4.0 keras-2.12.0 tensorboard-2.12.3 tensorflow-2.12.0 tensorflow-estimator-2.12.0\n"
          ]
        }
      ]
    },
    {
      "cell_type": "markdown",
      "source": [
        "#Inspect the data of the Jena Weather Dataset"
      ],
      "metadata": {
        "id": "BkB6278hfFzM"
      }
    },
    {
      "cell_type": "code",
      "source": [
        "import os\n",
        "fname = os.path.join(\"jena_climate_2009_2016.csv\")\n",
        "\n",
        "with open(fname) as f:\n",
        "    data = f.read()\n",
        "\n",
        "lines = data.split(\"\\n\")\n",
        "header = lines[0].split(\",\")\n",
        "lines = lines[1:]\n",
        "print(header)\n",
        "print(len(lines))\n",
        "\n",
        "numberof_variables = len(header)\n",
        "print(\"Number_of_Variables:\", numberof_variables)\n",
        "numberof_rows = len(lines)\n",
        "print(\"Number_of_Rows:\", numberof_rows)"
      ],
      "metadata": {
        "colab": {
          "base_uri": "https://localhost:8080/"
        },
        "id": "CMBPm2xUcGmS",
        "outputId": "2c19a32f-c31c-4055-9e2d-9fbc1af862de"
      },
      "execution_count": 7,
      "outputs": [
        {
          "output_type": "stream",
          "name": "stdout",
          "text": [
            "['\"Date Time\"', '\"p (mbar)\"', '\"T (degC)\"', '\"Tpot (K)\"', '\"Tdew (degC)\"', '\"rh (%)\"', '\"VPmax (mbar)\"', '\"VPact (mbar)\"', '\"VPdef (mbar)\"', '\"sh (g/kg)\"', '\"H2OC (mmol/mol)\"', '\"rho (g/m**3)\"', '\"wv (m/s)\"', '\"max. wv (m/s)\"', '\"wd (deg)\"']\n",
            "420451\n",
            "Number_of_Variables: 15\n",
            "Number_of_Rows: 420451\n"
          ]
        }
      ]
    },
    {
      "cell_type": "markdown",
      "source": [
        "#Parsing and Storing the Data"
      ],
      "metadata": {
        "id": "9CkhJ-Ucig0n"
      }
    },
    {
      "cell_type": "code",
      "source": [
        "import numpy as np\n",
        "temperature = np.zeros((len(lines),))\n",
        "raw_data = np.zeros((len(lines), len(header) - 1))\n",
        "for i, line in enumerate(lines):\n",
        "    values = [float(x) for x in line.split(\",\")[1:]]\n",
        "    temperature[i] = values[1]\n",
        "    raw_data[i, :] = values[:]"
      ],
      "metadata": {
        "id": "zkWq0t_ZcOQu"
      },
      "execution_count": 9,
      "outputs": []
    },
    {
      "cell_type": "markdown",
      "source": [
        "#to plot the temperature time-series"
      ],
      "metadata": {
        "id": "jNtC4VUgiyHw"
      }
    },
    {
      "cell_type": "code",
      "source": [
        "from matplotlib import pyplot as plt\n",
        "plt.plot(range(len(temperature)), temperature)\n",
        "plt.xlabel('DP')\n",
        "plt.ylabel('Temp')"
      ],
      "metadata": {
        "colab": {
          "base_uri": "https://localhost:8080/",
          "height": 470
        },
        "id": "7kZQxyRocR9o",
        "outputId": "a107148a-2b87-4e24-d835-a4efe0e5b455"
      },
      "execution_count": 10,
      "outputs": [
        {
          "output_type": "execute_result",
          "data": {
            "text/plain": [
              "Text(0, 0.5, 'Temp')"
            ]
          },
          "metadata": {},
          "execution_count": 10
        },
        {
          "output_type": "display_data",
          "data": {
            "text/plain": [
              "<Figure size 640x480 with 1 Axes>"
            ],
            "image/png": "[encoded data removed]"
          },
          "metadata": {}
        }
      ]
    },
    {
      "cell_type": "markdown",
      "source": [
        "#plot the first 10 days of temp time-series"
      ],
      "metadata": {
        "id": "M1mPJ1ThjcpX"
      }
    },
    {
      "cell_type": "code",
      "source": [
        "plt.plot(range(1440), temperature[:1440])\n",
        "plt.xlabel('DP')\n",
        "plt.ylabel('Temp')"
      ],
      "metadata": {
        "colab": {
          "base_uri": "https://localhost:8080/",
          "height": 466
        },
        "id": "1xrHEbWQcVgM",
        "outputId": "9124d023-b2d2-42a8-f885-366bc0587136"
      },
      "execution_count": 11,
      "outputs": [
        {
          "output_type": "execute_result",
          "data": {
            "text/plain": [
              "Text(0, 0.5, 'Temp')"
            ]
          },
          "metadata": {},
          "execution_count": 11
        },
        {
          "output_type": "display_data",
          "data": {
            "text/plain": [
              "<Figure size 640x480 with 1 Axes>"
            ],
            "image/png": "[encoded data removed]"
          },
          "metadata": {}
        }
      ]
    },
    {
      "cell_type": "markdown",
      "source": [
        "#To compute the number of samples which we'll use for each data split"
      ],
      "metadata": {
        "id": "T9sQbOfMjwRg"
      }
    },
    {
      "cell_type": "code",
      "source": [
        "numberof_training_samples = int(0.5 * len(raw_data))\n",
        "numberof_validation_samples = int(0.25 * len(raw_data))\n",
        "numberof_testing_samples = len(raw_data) - numberof_training_samples - numberof_validation_samples\n",
        "print(\"numberof_training_samples:\", numberof_training_samples)\n",
        "print(\"numberof_validation_samples:\", numberof_validation_samples)\n",
        "print(\"numberof_testing_samples:\", numberof_testing_samples)"
      ],
      "metadata": {
        "colab": {
          "base_uri": "https://localhost:8080/"
        },
        "id": "AXq_oXTwch5X",
        "outputId": "bc232f0a-b57a-4abd-f941-b1ae7b242ed7"
      },
      "execution_count": 12,
      "outputs": [
        {
          "output_type": "stream",
          "name": "stdout",
          "text": [
            "numberof_training_samples: 210225\n",
            "numberof_validation_samples: 105112\n",
            "numberof_testing_samples: 105114\n"
          ]
        }
      ]
    },
    {
      "cell_type": "markdown",
      "source": [
        "#Preparing the Data"
      ],
      "metadata": {
        "id": "EXM_x0vWj7B6"
      }
    },
    {
      "cell_type": "markdown",
      "source": [
        "Normalizing the Data"
      ],
      "metadata": {
        "id": "9Frxwud1j-io"
      }
    },
    {
      "cell_type": "code",
      "source": [
        "mean = raw_data[:numberof_training_samples].mean(axis=0)\n",
        "raw_data -= mean\n",
        "std = raw_data[:numberof_training_samples].std(axis=0)\n",
        "raw_data /= std"
      ],
      "metadata": {
        "id": "STp3X-5ccnyz"
      },
      "execution_count": 13,
      "outputs": []
    },
    {
      "cell_type": "code",
      "source": [
        "import numpy as np\n",
        "from tensorflow import keras\n",
        "int_sequence = np.arange(10)\n",
        "dummy_dataset = keras.utils.timeseries_dataset_from_array(\n",
        "    data=int_sequence[:-3],\n",
        "    targets=int_sequence[3:],\n",
        "    sequence_length=3,\n",
        "    batch_size=2,\n",
        ")\n",
        "\n",
        "for inputs, targets in dummy_dataset:\n",
        "    for i in range(inputs.shape[0]):\n",
        "        print([int(x) for x in inputs[i]], int(targets[i]))"
      ],
      "metadata": {
        "colab": {
          "base_uri": "https://localhost:8080/"
        },
        "id": "1qe1v9qbcpUM",
        "outputId": "4ec0592d-f4d2-457a-83e6-d340f03ab963"
      },
      "execution_count": 14,
      "outputs": [
        {
          "output_type": "stream",
          "name": "stdout",
          "text": [
            "[0, 1, 2] 3\n",
            "[1, 2, 3] 4\n",
            "[2, 3, 4] 5\n",
            "[3, 4, 5] 6\n",
            "[4, 5, 6] 7\n"
          ]
        }
      ]
    },
    {
      "cell_type": "markdown",
      "source": [
        "#To Instantiating datasets for training, validation, and testing sets"
      ],
      "metadata": {
        "id": "J1syA7K0kJ79"
      }
    },
    {
      "cell_type": "code",
      "source": [
        "sampling_rate = 6\n",
        "sequence_length = 120\n",
        "delay = sampling_rate * (sequence_length + 24 - 1)\n",
        "batch_size = 1024\n",
        "\n",
        "train_dataset = keras.utils.timeseries_dataset_from_array(\n",
        "    raw_data[:-delay],\n",
        "    targets=temperature[delay:],\n",
        "    sampling_rate=sampling_rate,\n",
        "    sequence_length=sequence_length,\n",
        "    shuffle=True,\n",
        "    batch_size=batch_size,\n",
        "    start_index=0,\n",
        "    end_index=numberof_training_samples)\n",
        "\n",
        "val_dataset = keras.utils.timeseries_dataset_from_array(\n",
        "    raw_data[:-delay],\n",
        "    targets=temperature[delay:],\n",
        "    sampling_rate=sampling_rate,\n",
        "    sequence_length=sequence_length,\n",
        "    shuffle=True,\n",
        "    batch_size=batch_size,\n",
        "    start_index=numberof_training_samples,\n",
        "    end_index=numberof_training_samples + numberof_validation_samples)\n",
        "\n",
        "test_dataset = keras.utils.timeseries_dataset_from_array(\n",
        "    raw_data[:-delay],\n",
        "    targets=temperature[delay:],\n",
        "    sampling_rate=sampling_rate,\n",
        "    sequence_length=sequence_length,\n",
        "    shuffle=True,\n",
        "    batch_size=batch_size,\n",
        "    start_index=numberof_training_samples + numberof_validation_samples)"
      ],
      "metadata": {
        "id": "3RBqb6nyct1M"
      },
      "execution_count": 15,
      "outputs": []
    },
    {
      "cell_type": "markdown",
      "source": [
        "#To inspect the output of one of our datasets"
      ],
      "metadata": {
        "id": "eq5aCdNSkZRn"
      }
    },
    {
      "cell_type": "code",
      "source": [
        "for samples, targets in train_dataset:\n",
        "    print(\"samples shape:\", samples.shape)\n",
        "    print(\"targets shape:\", targets.shape)\n",
        "    break"
      ],
      "metadata": {
        "colab": {
          "base_uri": "https://localhost:8080/"
        },
        "id": "cPvyv1dIczR1",
        "outputId": "8eb6f28e-741d-430e-eac6-d9dcd193ee4d"
      },
      "execution_count": 16,
      "outputs": [
        {
          "output_type": "stream",
          "name": "stdout",
          "text": [
            "samples shape: (1024, 120, 14)\n",
            "targets shape: (1024,)\n"
          ]
        }
      ]
    },
    {
      "cell_type": "markdown",
      "source": [
        "#A common-sense, non-machine-learning baseline"
      ],
      "metadata": {
        "id": "aFx3yEEEki-1"
      }
    },
    {
      "cell_type": "markdown",
      "source": [
        "Computing the common-sense basline MAE by using the evaluate_naive_method."
      ],
      "metadata": {
        "id": "NRgMTG3bkzTM"
      }
    },
    {
      "cell_type": "code",
      "source": [
        "def evaluate_naive_method(dataset):\n",
        "    total_abs_err = 0.\n",
        "    samples_seen = 0\n",
        "    for samples, targets in dataset:\n",
        "        preds = samples[:, -1, 1] * std[1] + mean[1]\n",
        "        total_abs_err += np.sum(np.abs(preds - targets))\n",
        "        samples_seen += samples.shape[0]\n",
        "    return total_abs_err / samples_seen\n",
        "\n",
        "print(f\"Validation MAE: {evaluate_naive_method(val_dataset):.2f}\")\n",
        "print(f\"Test MAE: {evaluate_naive_method(test_dataset):.2f}\")"
      ],
      "metadata": {
        "colab": {
          "base_uri": "https://localhost:8080/"
        },
        "id": "B9iYhpeSc20P",
        "outputId": "79a51e9f-fea1-4510-de81-b6af88f2c4c2"
      },
      "execution_count": 17,
      "outputs": [
        {
          "output_type": "stream",
          "name": "stdout",
          "text": [
            "Validation MAE: 2.44\n",
            "Test MAE: 2.62\n"
          ]
        }
      ]
    },
    {
      "cell_type": "markdown",
      "source": [
        " a result of this simple baseline, the validation MAE is 2.44 deg Cel, and the test MAE is 2.62 deg cel.\n",
        "Therefore, an average deviation of approximately two and a half degrees would result if the temperature in the future remains the same as the current temperature."
      ],
      "metadata": {
        "id": "H0PMnMkGlql_"
      }
    },
    {
      "cell_type": "markdown",
      "source": [
        "#Trying a basic ML model"
      ],
      "metadata": {
        "id": "9vjCMc6cm2uh"
      }
    },
    {
      "cell_type": "markdown",
      "source": [
        "training and evaluating a densely connected model"
      ],
      "metadata": {
        "id": "csr8gO6um_cQ"
      }
    },
    {
      "cell_type": "code",
      "source": [
        "from tensorflow import keras\n",
        "from tensorflow.keras import layers\n",
        "\n",
        "inputs = keras.Input(shape=(sequence_length, raw_data.shape[-1]))\n",
        "x = layers.Flatten()(inputs)\n",
        "x = layers.Dense(16, activation=\"relu\")(x)\n",
        "outputs = layers.Dense(1)(x)\n",
        "model = keras.Model(inputs, outputs)\n",
        "\n",
        "callbacks = [\n",
        "    keras.callbacks.ModelCheckpoint(\"jena_dense.keras\",\n",
        "                                    save_best_only=True)\n",
        "]\n",
        "model.compile(optimizer=\"rmsprop\", loss=\"mse\", metrics=[\"mae\"])\n",
        "history = model.fit(train_dataset,\n",
        "                    epochs=10,\n",
        "                    validation_data=val_dataset,\n",
        "                    callbacks=callbacks)\n",
        "\n",
        "model = keras.models.load_model(\"jena_dense.keras\")\n",
        "print(f\"Test MAE: {model.evaluate(test_dataset)[1]:.2f}\")"
      ],
      "metadata": {
        "colab": {
          "base_uri": "https://localhost:8080/"
        },
        "id": "QPOehCfSdGLE",
        "outputId": "f7999fd4-7d52-416e-a3a0-4efb0ac9ed7b"
      },
      "execution_count": 19,
      "outputs": [
        {
          "output_type": "stream",
          "name": "stdout",
          "text": [
            "Epoch 1/10\n",
            "205/205 [==============================] - 47s 222ms/step - loss: 18.6927 - mae: 3.3228 - val_loss: 18.2607 - val_mae: 3.4270\n",
            "Epoch 2/10\n",
            "205/205 [==============================] - 46s 218ms/step - loss: 11.4304 - mae: 2.6614 - val_loss: 13.8671 - val_mae: 2.9699\n",
            "Epoch 3/10\n",
            "205/205 [==============================] - 54s 259ms/step - loss: 10.3437 - mae: 2.5318 - val_loss: 10.7459 - val_mae: 2.5852\n",
            "Epoch 4/10\n",
            "205/205 [==============================] - 45s 215ms/step - loss: 9.7237 - mae: 2.4514 - val_loss: 10.8294 - val_mae: 2.5977\n",
            "Epoch 5/10\n",
            "205/205 [==============================] - 45s 217ms/step - loss: 9.2884 - mae: 2.3961 - val_loss: 12.0660 - val_mae: 2.7598\n",
            "Epoch 6/10\n",
            "205/205 [==============================] - 52s 247ms/step - loss: 9.0337 - mae: 2.3619 - val_loss: 10.5843 - val_mae: 2.5740\n",
            "Epoch 7/10\n",
            "205/205 [==============================] - 45s 215ms/step - loss: 8.7742 - mae: 2.3297 - val_loss: 10.2788 - val_mae: 2.5332\n",
            "Epoch 8/10\n",
            "205/205 [==============================] - 45s 214ms/step - loss: 8.5556 - mae: 2.3003 - val_loss: 11.8531 - val_mae: 2.7411\n",
            "Epoch 9/10\n",
            "205/205 [==============================] - 46s 218ms/step - loss: 8.4138 - mae: 2.2835 - val_loss: 11.6089 - val_mae: 2.7036\n",
            "Epoch 10/10\n",
            "205/205 [==============================] - 46s 217ms/step - loss: 8.2259 - mae: 2.2556 - val_loss: 10.6911 - val_mae: 2.5916\n",
            "102/102 [==============================] - 15s 138ms/step - loss: 11.6743 - mae: 2.6779\n",
            "Test MAE: 2.68\n"
          ]
        }
      ]
    },
    {
      "cell_type": "markdown",
      "source": [
        "#To Plot the results"
      ],
      "metadata": {
        "id": "nIldMyyrqaAG"
      }
    },
    {
      "cell_type": "code",
      "source": [
        "import matplotlib.pyplot as plt\n",
        "loss = history.history[\"mae\"]\n",
        "val_loss = history.history[\"val_mae\"]\n",
        "epochs = range(1, len(loss) + 1)\n",
        "plt.figure()\n",
        "plt.plot(epochs, loss, \"bo\", label=\"Training MAE\")\n",
        "plt.plot(epochs, val_loss, \"b\", label=\"Validation MAE\")\n",
        "plt.title(\"Training and validation MAE\")\n",
        "plt.legend()\n",
        "plt.show()"
      ],
      "metadata": {
        "colab": {
          "base_uri": "https://localhost:8080/",
          "height": 452
        },
        "id": "u7HWA8CagAOm",
        "outputId": "baeec599-8a61-4095-f017-9612f9409b1a"
      },
      "execution_count": 20,
      "outputs": [
        {
          "output_type": "display_data",
          "data": {
            "text/plain": [
              "<Figure size 640x480 with 1 Axes>"
            ],
            "image/png": "[encoded data removed]"
          },
          "metadata": {}
        }
      ]
    },
    {
      "cell_type": "markdown",
      "source": [
        "# Trying a 1D Convolutional model"
      ],
      "metadata": {
        "id": "3Rqu72uZq2L7"
      }
    },
    {
      "cell_type": "code",
      "source": [
        "inputs = keras.Input(shape=(sequence_length, raw_data.shape[-1]))\n",
        "x = layers.Conv1D(8, 24, activation=\"relu\")(inputs)\n",
        "x = layers.MaxPooling1D(2)(x)\n",
        "x = layers.Conv1D(8, 12, activation=\"relu\")(x)\n",
        "x = layers.MaxPooling1D(2)(x)\n",
        "x = layers.Conv1D(8, 6, activation=\"relu\")(x)\n",
        "x = layers.GlobalAveragePooling1D()(x)\n",
        "outputs = layers.Dense(1)(x)\n",
        "model = keras.Model(inputs, outputs)\n",
        "\n",
        "callbacks = [\n",
        "    keras.callbacks.ModelCheckpoint(\"jena_conv.keras\",\n",
        "                                    save_best_only=True)\n",
        "]\n",
        "model.compile(optimizer=\"rmsprop\", loss=\"mse\", metrics=[\"mae\"])\n",
        "history = model.fit(train_dataset,\n",
        "                    epochs=10,\n",
        "                    validation_data=val_dataset,\n",
        "                    callbacks=callbacks)\n",
        "\n",
        "model = keras.models.load_model(\"jena_conv.keras\")\n",
        "print(f\"Test MAE: {model.evaluate(test_dataset)[1]:.2f}\")"
      ],
      "metadata": {
        "colab": {
          "base_uri": "https://localhost:8080/"
        },
        "id": "bWpPey2Jgg0T",
        "outputId": "53670f9f-2f4d-4f0f-8752-3974e61a3d16"
      },
      "execution_count": 21,
      "outputs": [
        {
          "output_type": "stream",
          "name": "stdout",
          "text": [
            "Epoch 1/10\n",
            "205/205 [==============================] - 58s 249ms/step - loss: 46.6447 - mae: 5.2001 - val_loss: 24.6105 - val_mae: 3.9523\n",
            "Epoch 2/10\n",
            "205/205 [==============================] - 53s 253ms/step - loss: 22.2474 - mae: 3.7538 - val_loss: 18.7776 - val_mae: 3.4042\n",
            "Epoch 3/10\n",
            "205/205 [==============================] - 55s 262ms/step - loss: 19.3654 - mae: 3.4962 - val_loss: 16.4387 - val_mae: 3.1878\n",
            "Epoch 4/10\n",
            "205/205 [==============================] - 46s 220ms/step - loss: 17.3623 - mae: 3.3120 - val_loss: 15.0624 - val_mae: 3.0637\n",
            "Epoch 5/10\n",
            "205/205 [==============================] - 48s 230ms/step - loss: 16.3335 - mae: 3.2095 - val_loss: 14.9796 - val_mae: 3.0513\n",
            "Epoch 6/10\n",
            "205/205 [==============================] - 52s 250ms/step - loss: 15.7251 - mae: 3.1488 - val_loss: 17.1020 - val_mae: 3.2922\n",
            "Epoch 7/10\n",
            "205/205 [==============================] - 54s 258ms/step - loss: 15.2788 - mae: 3.0990 - val_loss: 15.8442 - val_mae: 3.1662\n",
            "Epoch 8/10\n",
            "205/205 [==============================] - 55s 264ms/step - loss: 14.8728 - mae: 3.0515 - val_loss: 15.3879 - val_mae: 3.0899\n",
            "Epoch 9/10\n",
            "205/205 [==============================] - 48s 227ms/step - loss: 14.5983 - mae: 3.0201 - val_loss: 14.8229 - val_mae: 3.0433\n",
            "Epoch 10/10\n",
            "205/205 [==============================] - 47s 223ms/step - loss: 14.2928 - mae: 2.9856 - val_loss: 15.0174 - val_mae: 3.0711\n",
            "102/102 [==============================] - 16s 145ms/step - loss: 16.6415 - mae: 3.2509\n",
            "Test MAE: 3.25\n"
          ]
        }
      ]
    },
    {
      "cell_type": "code",
      "source": [
        "import matplotlib.pyplot as plt\n",
        "loss = history.history[\"mae\"]\n",
        "val_loss = history.history[\"val_mae\"]\n",
        "epochs = range(1, len(loss) + 1)\n",
        "plt.figure()\n",
        "plt.plot(epochs, loss, \"bo\", label=\"Training MAE\")\n",
        "plt.plot(epochs, val_loss, \"b\", label=\"Validation MAE\")\n",
        "plt.title(\"Training and validation MAE\")\n",
        "plt.xlabel('Epochs')\n",
        "plt.ylabel('MAE')\n",
        "plt.legend()\n",
        "plt.show()"
      ],
      "metadata": {
        "colab": {
          "base_uri": "https://localhost:8080/",
          "height": 472
        },
        "id": "ucpyqfWmu0z9",
        "outputId": "bd4c4872-bd1f-4eb1-a07e-998a9cf638e3"
      },
      "execution_count": 26,
      "outputs": [
        {
          "output_type": "display_data",
          "data": {
            "text/plain": [
              "<Figure size 640x480 with 1 Axes>"
            ],
            "image/png": "[encoded data removed]"
          },
          "metadata": {}
        }
      ]
    },
    {
      "cell_type": "markdown",
      "source": [
        "#First recurrent baseline"
      ],
      "metadata": {
        "id": "ARVssN-_vOeA"
      }
    },
    {
      "cell_type": "markdown",
      "source": [
        "A Simple LSTM model"
      ],
      "metadata": {
        "id": "3HAdARlUz6j4"
      }
    },
    {
      "cell_type": "code",
      "source": [
        "inputs = keras.Input(shape=(sequence_length, raw_data.shape[-1]))\n",
        "x = layers.LSTM(64)(inputs)\n",
        "outputs = layers.Dense(1)(x)\n",
        "model = keras.Model(inputs, outputs)\n",
        "\n",
        "callbacks = [\n",
        "    keras.callbacks.ModelCheckpoint(\"jena_lstm.keras\",\n",
        "                                    save_best_only=True)\n",
        "]\n",
        "model.compile(optimizer=\"rmsprop\", loss=\"mse\", metrics=[\"mae\"])\n",
        "history = model.fit(train_dataset,\n",
        "                    epochs=10,\n",
        "                    validation_data=val_dataset,\n",
        "                    callbacks=callbacks)\n",
        "\n",
        "model = keras.models.load_model(\"jena_lstm.keras\")\n",
        "print(f\"Test MAE: {model.evaluate(test_dataset)[1]:.2f}\")"
      ],
      "metadata": {
        "colab": {
          "base_uri": "https://localhost:8080/"
        },
        "id": "VXHmaOJFmJLW",
        "outputId": "ce2fe4ac-db77-4741-90c7-52a9bde6f536"
      },
      "execution_count": 23,
      "outputs": [
        {
          "output_type": "stream",
          "name": "stdout",
          "text": [
            "Epoch 1/10\n",
            "205/205 [==============================] - 52s 233ms/step - loss: 29.0026 - mae: 3.8934 - val_loss: 11.1892 - val_mae: 2.5903\n",
            "Epoch 2/10\n",
            "205/205 [==============================] - 52s 248ms/step - loss: 10.2399 - mae: 2.4995 - val_loss: 9.9665 - val_mae: 2.4568\n",
            "Epoch 3/10\n",
            "205/205 [==============================] - 53s 253ms/step - loss: 8.8343 - mae: 2.3194 - val_loss: 9.9453 - val_mae: 2.4528\n",
            "Epoch 4/10\n",
            "205/205 [==============================] - 53s 254ms/step - loss: 7.7248 - mae: 2.1656 - val_loss: 10.1932 - val_mae: 2.4939\n",
            "Epoch 5/10\n",
            "205/205 [==============================] - 46s 221ms/step - loss: 6.9057 - mae: 2.0447 - val_loss: 10.7975 - val_mae: 2.5632\n",
            "Epoch 6/10\n",
            "205/205 [==============================] - 46s 219ms/step - loss: 6.2834 - mae: 1.9480 - val_loss: 11.2349 - val_mae: 2.6105\n",
            "Epoch 7/10\n",
            "205/205 [==============================] - 52s 251ms/step - loss: 5.7632 - mae: 1.8648 - val_loss: 11.5530 - val_mae: 2.6563\n",
            "Epoch 8/10\n",
            "205/205 [==============================] - 53s 254ms/step - loss: 5.2338 - mae: 1.7747 - val_loss: 12.8483 - val_mae: 2.7684\n",
            "Epoch 9/10\n",
            "205/205 [==============================] - 52s 251ms/step - loss: 4.7801 - mae: 1.6927 - val_loss: 12.6840 - val_mae: 2.7547\n",
            "Epoch 10/10\n",
            "205/205 [==============================] - 46s 222ms/step - loss: 4.4361 - mae: 1.6268 - val_loss: 12.6389 - val_mae: 2.7767\n",
            "102/102 [==============================] - 15s 138ms/step - loss: 10.7230 - mae: 2.5873\n",
            "Test MAE: 2.59\n"
          ]
        }
      ]
    },
    {
      "cell_type": "markdown",
      "source": [
        "An RNN layer that process sequences of any length"
      ],
      "metadata": {
        "id": "ZgmX3uf40ZVs"
      }
    },
    {
      "cell_type": "code",
      "source": [
        "num_features = 14\n",
        "inputs = keras.Input(shape=(None, num_features))\n",
        "outputs = layers.SimpleRNN(16)(inputs)\n",
        "model = keras.Model(inputs, outputs)\n",
        "\n",
        "callbacks = [\n",
        "    keras.callbacks.ModelCheckpoint(\"jena_SimRNN.keras\",\n",
        "                                    save_best_only=True)\n",
        "]\n",
        "model.compile(optimizer=\"rmsprop\", loss=\"mse\", metrics=[\"mae\"])\n",
        "history = model.fit(train_dataset,\n",
        "                    epochs=10,\n",
        "                    validation_data=val_dataset,\n",
        "                    callbacks=callbacks)\n",
        "\n",
        "model = keras.models.load_model(\"jena_SimRNN.keras\")\n",
        "print(f\"Test MAE: {model.evaluate(test_dataset)[1]:.2f}\")"
      ],
      "metadata": {
        "colab": {
          "base_uri": "https://localhost:8080/"
        },
        "id": "I58qFagyr1OE",
        "outputId": "893815de-0457-4ed4-a165-f6da830636ef"
      },
      "execution_count": 25,
      "outputs": [
        {
          "output_type": "stream",
          "name": "stdout",
          "text": [
            "Epoch 1/10\n",
            "205/205 [==============================] - 68s 321ms/step - loss: 144.7155 - mae: 9.9519 - val_loss: 145.5553 - val_mae: 9.9908\n",
            "Epoch 2/10\n",
            "205/205 [==============================] - 68s 329ms/step - loss: 137.3362 - mae: 9.6347 - val_loss: 144.4618 - val_mae: 9.9461\n",
            "Epoch 3/10\n",
            "205/205 [==============================] - 75s 356ms/step - loss: 136.6546 - mae: 9.5811 - val_loss: 143.9700 - val_mae: 9.8951\n",
            "Epoch 4/10\n",
            "205/205 [==============================] - 64s 309ms/step - loss: 136.4651 - mae: 9.5653 - val_loss: 143.9545 - val_mae: 9.8951\n",
            "Epoch 5/10\n",
            "205/205 [==============================] - 63s 302ms/step - loss: 136.3547 - mae: 9.5563 - val_loss: 143.7788 - val_mae: 9.8767\n",
            "Epoch 6/10\n",
            "205/205 [==============================] - 63s 304ms/step - loss: 136.2554 - mae: 9.5489 - val_loss: 143.7160 - val_mae: 9.8704\n",
            "Epoch 7/10\n",
            "205/205 [==============================] - 65s 308ms/step - loss: 136.1721 - mae: 9.5405 - val_loss: 143.6836 - val_mae: 9.8681\n",
            "Epoch 8/10\n",
            "205/205 [==============================] - 65s 308ms/step - loss: 136.1524 - mae: 9.5392 - val_loss: 143.6924 - val_mae: 9.8710\n",
            "Epoch 9/10\n",
            "205/205 [==============================] - 63s 303ms/step - loss: 136.1566 - mae: 9.5400 - val_loss: 143.6639 - val_mae: 9.8681\n",
            "Epoch 10/10\n",
            "205/205 [==============================] - 64s 306ms/step - loss: 136.1674 - mae: 9.5413 - val_loss: 143.6483 - val_mae: 9.8661\n",
            "102/102 [==============================] - 18s 169ms/step - loss: 151.5029 - mae: 9.9445\n",
            "Test MAE: 9.94\n"
          ]
        }
      ]
    },
    {
      "cell_type": "markdown",
      "source": [
        "Simple RNN- Stacking RNN Layers"
      ],
      "metadata": {
        "id": "-jp6i1MB39ev"
      }
    },
    {
      "cell_type": "code",
      "source": [
        "num_features = 14\n",
        "steps = 120\n",
        "inputs = keras.Input(shape=(steps, num_features))\n",
        "x = layers.SimpleRNN(16, return_sequences=True)(inputs)\n",
        "x = layers.SimpleRNN(16, return_sequences=True)(x)\n",
        "outputs = layers.SimpleRNN(16)(x)\n",
        "outputs = layers.SimpleRNN(16)(x)\n",
        "model = keras.Model(inputs, outputs)\n",
        "\n",
        "callbacks = [\n",
        "    keras.callbacks.ModelCheckpoint(\"jena_SRNN2.keras\",\n",
        "                                    save_best_only=True)\n",
        "]\n",
        "model.compile(optimizer=\"rmsprop\", loss=\"mse\", metrics=[\"mae\"])\n",
        "history = model.fit(train_dataset,\n",
        "                    epochs=10,\n",
        "                    validation_data=val_dataset,\n",
        "                    callbacks=callbacks)\n",
        "\n",
        "model = keras.models.load_model(\"jena_SRNN2.keras\")\n",
        "print(f\"Test MAE: {model.evaluate(test_dataset)[1]:.2f}\")"
      ],
      "metadata": {
        "colab": {
          "base_uri": "https://localhost:8080/"
        },
        "id": "QfAWWabj3zBx",
        "outputId": "1456ce16-7049-45d8-f0e7-6fd70f8a8dd1"
      },
      "execution_count": 28,
      "outputs": [
        {
          "output_type": "stream",
          "name": "stdout",
          "text": [
            "Epoch 1/10\n",
            "205/205 [==============================] - 136s 647ms/step - loss: 138.8146 - mae: 9.6750 - val_loss: 143.5005 - val_mae: 9.8470\n",
            "Epoch 2/10\n",
            "205/205 [==============================] - 131s 628ms/step - loss: 135.9968 - mae: 9.5210 - val_loss: 143.4920 - val_mae: 9.8479\n",
            "Epoch 3/10\n",
            "205/205 [==============================] - 131s 629ms/step - loss: 135.9488 - mae: 9.5152 - val_loss: 143.5099 - val_mae: 9.8484\n",
            "Epoch 4/10\n",
            "205/205 [==============================] - 133s 646ms/step - loss: 135.9293 - mae: 9.5127 - val_loss: 143.5014 - val_mae: 9.8471\n",
            "Epoch 5/10\n",
            "205/205 [==============================] - 133s 646ms/step - loss: 135.8980 - mae: 9.5083 - val_loss: 143.5090 - val_mae: 9.8499\n",
            "Epoch 6/10\n",
            "205/205 [==============================] - 130s 629ms/step - loss: 135.8947 - mae: 9.5076 - val_loss: 143.5031 - val_mae: 9.8469\n",
            "Epoch 7/10\n",
            "205/205 [==============================] - 129s 626ms/step - loss: 135.8911 - mae: 9.5072 - val_loss: 143.4991 - val_mae: 9.8497\n",
            "Epoch 8/10\n",
            "205/205 [==============================] - 134s 649ms/step - loss: 135.8873 - mae: 9.5056 - val_loss: 143.4950 - val_mae: 9.8464\n",
            "Epoch 9/10\n",
            "205/205 [==============================] - 130s 627ms/step - loss: 135.8757 - mae: 9.5042 - val_loss: 143.4839 - val_mae: 9.8469\n",
            "Epoch 10/10\n",
            "205/205 [==============================] - 130s 628ms/step - loss: 135.8701 - mae: 9.5028 - val_loss: 143.4968 - val_mae: 9.8454\n",
            "102/102 [==============================] - 19s 170ms/step - loss: 151.3376 - mae: 9.9343\n",
            "Test MAE: 9.93\n"
          ]
        }
      ]
    },
    {
      "cell_type": "markdown",
      "source": [
        "#Simple LSTM Model"
      ],
      "metadata": {
        "id": "C8FURLRp91y4"
      }
    },
    {
      "cell_type": "code",
      "source": [
        "inputs = keras.Input(shape=(sequence_length, raw_data.shape[-1]))\n",
        "x = layers.LSTM(16)(inputs)\n",
        "outputs = layers.Dense(1)(x)\n",
        "model = keras.Model(inputs, outputs)\n",
        "\n",
        "callbacks = [\n",
        "    keras.callbacks.ModelCheckpoint(\"jena_lstm.keras\",\n",
        "                                    save_best_only=True)\n",
        "]\n",
        "model.compile(optimizer=\"rmsprop\", loss=\"mse\", metrics=[\"mae\"])\n",
        "history = model.fit(train_dataset,\n",
        "                    epochs=10,\n",
        "                    validation_data=val_dataset,\n",
        "                    callbacks=callbacks)\n",
        "\n",
        "model = keras.models.load_model(\"jena_lstm.keras\")\n",
        "print(f\"Test MAE: {model.evaluate(test_dataset)[1]:.2f}\")"
      ],
      "metadata": {
        "colab": {
          "base_uri": "https://localhost:8080/"
        },
        "id": "Qp-hM8-G98NO",
        "outputId": "db1fecd1-a4e3-4b9e-fb81-ac72e4268c5f"
      },
      "execution_count": 29,
      "outputs": [
        {
          "output_type": "stream",
          "name": "stdout",
          "text": [
            "Epoch 1/10\n",
            "205/205 [==============================] - 55s 251ms/step - loss: 90.3342 - mae: 7.5567 - val_loss: 57.5448 - val_mae: 5.8182\n",
            "Epoch 2/10\n",
            "205/205 [==============================] - 45s 218ms/step - loss: 43.9222 - mae: 4.9729 - val_loss: 32.1168 - val_mae: 4.1961\n",
            "Epoch 3/10\n",
            "205/205 [==============================] - 53s 253ms/step - loss: 25.1036 - mae: 3.6923 - val_loss: 18.8101 - val_mae: 3.2014\n",
            "Epoch 4/10\n",
            "205/205 [==============================] - 45s 217ms/step - loss: 15.7683 - mae: 2.9776 - val_loss: 12.7534 - val_mae: 2.6961\n",
            "Epoch 5/10\n",
            "205/205 [==============================] - 54s 262ms/step - loss: 11.8975 - mae: 2.6533 - val_loss: 10.4684 - val_mae: 2.4913\n",
            "Epoch 6/10\n",
            "205/205 [==============================] - 51s 247ms/step - loss: 10.5628 - mae: 2.5257 - val_loss: 9.7140 - val_mae: 2.4196\n",
            "Epoch 7/10\n",
            "205/205 [==============================] - 44s 209ms/step - loss: 10.1501 - mae: 2.4801 - val_loss: 9.5196 - val_mae: 2.3970\n",
            "Epoch 8/10\n",
            "205/205 [==============================] - 45s 210ms/step - loss: 9.9567 - mae: 2.4537 - val_loss: 9.3608 - val_mae: 2.3708\n",
            "Epoch 9/10\n",
            "205/205 [==============================] - 52s 249ms/step - loss: 9.7304 - mae: 2.4199 - val_loss: 9.3822 - val_mae: 2.3749\n",
            "Epoch 10/10\n",
            "205/205 [==============================] - 51s 246ms/step - loss: 9.5937 - mae: 2.4004 - val_loss: 9.5022 - val_mae: 2.3860\n",
            "102/102 [==============================] - 15s 138ms/step - loss: 10.8722 - mae: 2.5741\n",
            "Test MAE: 2.57\n"
          ]
        }
      ]
    },
    {
      "cell_type": "code",
      "source": [
        "import matplotlib.pyplot as plt\n",
        "loss = history.history[\"mae\"]\n",
        "val_loss = history.history[\"val_mae\"]\n",
        "\n",
        "epochs = range(1, len(loss) + 1)\n",
        "plt.figure()\n",
        "plt.plot(epochs, loss, \"bo\", label=\"Training MAE\")\n",
        "plt.plot(epochs, loss, \"b\", label=\"Validation MAE\")\n",
        "plt.title(\"Training and validation MAE\")\n",
        "plt.xlabel(\"Epochs\")\n",
        "plt.ylabel(\"MAE\")\n",
        "plt.legend()\n",
        "plt.show()\n"
      ],
      "metadata": {
        "colab": {
          "base_uri": "https://localhost:8080/",
          "height": 472
        },
        "id": "-VwNI0L1Au7J",
        "outputId": "7b65614c-0773-477e-a4b3-986c98ba729f"
      },
      "execution_count": 30,
      "outputs": [
        {
          "output_type": "display_data",
          "data": {
            "text/plain": [
              "<Figure size 640x480 with 1 Axes>"
            ],
            "image/png": "[encoded data removed]"
          },
          "metadata": {}
        }
      ]
    },
    {
      "cell_type": "markdown",
      "source": [
        "#LSTM - Droupout Regularization"
      ],
      "metadata": {
        "id": "ljW4uI5jBGTL"
      }
    },
    {
      "cell_type": "code",
      "source": [
        "inputs = keras.Input(shape=(sequence_length, raw_data.shape[-1]))\n",
        "x = layers.LSTM(16, recurrent_dropout=0.25)(inputs)\n",
        "x = layers.Dropout(0.5)(x)\n",
        "outputs = layers.Dense(1)(x)\n",
        "model = keras.Model(inputs, outputs)\n",
        "\n",
        "callbacks = [\n",
        "    keras.callbacks.ModelCheckpoint(\"jena_lstm_dropout.keras\",\n",
        "                                    save_best_only=True)\n",
        "]\n",
        "model.compile(optimizer=\"rmsprop\", loss=\"mse\", metrics=[\"mae\"])\n",
        "history = model.fit(train_dataset,\n",
        "                    epochs=10,\n",
        "                    validation_data=val_dataset,\n",
        "                    callbacks=callbacks)\n",
        "\n",
        "model = keras.models.load_model(\"jena_lstm_dropout.keras\")\n",
        "print(f\"Test MAE: {model.evaluate(test_dataset)[1]:.2f}\")"
      ],
      "metadata": {
        "colab": {
          "base_uri": "https://localhost:8080/"
        },
        "id": "YL3yk4YSBW_1",
        "outputId": "56f1054f-6a17-4895-f1fb-c577c08c4f25"
      },
      "execution_count": 32,
      "outputs": [
        {
          "output_type": "stream",
          "name": "stderr",
          "text": [
            "WARNING:tensorflow:Layer lstm_3 will not use cuDNN kernels since it doesn't meet the criteria. It will use a generic GPU kernel as fallback when running on GPU.\n"
          ]
        },
        {
          "output_type": "stream",
          "name": "stdout",
          "text": [
            "Epoch 1/10\n",
            "205/205 [==============================] - 154s 729ms/step - loss: 87.2080 - mae: 7.3753 - val_loss: 55.0431 - val_mae: 5.6715\n",
            "Epoch 2/10\n",
            "205/205 [==============================] - 153s 744ms/step - loss: 46.3870 - mae: 5.1390 - val_loss: 31.0872 - val_mae: 4.1320\n",
            "Epoch 3/10\n",
            "205/205 [==============================] - 155s 754ms/step - loss: 31.1077 - mae: 4.1886 - val_loss: 18.4561 - val_mae: 3.1826\n",
            "Epoch 4/10\n",
            "205/205 [==============================] - 153s 737ms/step - loss: 23.7306 - mae: 3.7015 - val_loss: 12.8879 - val_mae: 2.7171\n",
            "Epoch 5/10\n",
            "205/205 [==============================] - 150s 721ms/step - loss: 20.8829 - mae: 3.5004 - val_loss: 10.8942 - val_mae: 2.5464\n",
            "Epoch 6/10\n",
            "205/205 [==============================] - 146s 710ms/step - loss: 19.6415 - mae: 3.4030 - val_loss: 10.2321 - val_mae: 2.4836\n",
            "Epoch 7/10\n",
            "205/205 [==============================] - 152s 733ms/step - loss: 18.8010 - mae: 3.3338 - val_loss: 10.0157 - val_mae: 2.4660\n",
            "Epoch 8/10\n",
            "205/205 [==============================] - 152s 736ms/step - loss: 18.3034 - mae: 3.2901 - val_loss: 10.0184 - val_mae: 2.4674\n",
            "Epoch 9/10\n",
            "205/205 [==============================] - 152s 736ms/step - loss: 18.0283 - mae: 3.2624 - val_loss: 9.7060 - val_mae: 2.4288\n",
            "Epoch 10/10\n",
            "205/205 [==============================] - 152s 736ms/step - loss: 17.7637 - mae: 3.2376 - val_loss: 9.5381 - val_mae: 2.4112\n"
          ]
        },
        {
          "output_type": "stream",
          "name": "stderr",
          "text": [
            "WARNING:tensorflow:Layer lstm_3 will not use cuDNN kernels since it doesn't meet the criteria. It will use a generic GPU kernel as fallback when running on GPU.\n"
          ]
        },
        {
          "output_type": "stream",
          "name": "stdout",
          "text": [
            "102/102 [==============================] - 20s 179ms/step - loss: 10.9122 - mae: 2.5794\n",
            "Test MAE: 2.58\n"
          ]
        }
      ]
    },
    {
      "cell_type": "code",
      "source": [
        "import matplotlib.pyplot as plt\n",
        "loss = history.history[\"mae\"]\n",
        "val_loss = history.history[\"val_mae\"]\n",
        "\n",
        "epochs = range(1, len(loss) + 1)\n",
        "plt.figure()\n",
        "plt.plot(epochs, loss, \"bo\", label=\"Training MAE\")\n",
        "plt.plot(epochs, loss, \"b\", label=\"Validation MAE\")\n",
        "plt.title(\"Training and validation MAE\")\n",
        "plt.xlabel(\"Epochs\")\n",
        "plt.ylabel(\"MAE\")\n",
        "plt.legend()\n",
        "plt.show()"
      ],
      "metadata": {
        "colab": {
          "base_uri": "https://localhost:8080/",
          "height": 472
        },
        "id": "U--MQnTDIePb",
        "outputId": "74fd0b93-ce94-46bd-b33c-8e74b1a94123"
      },
      "execution_count": 33,
      "outputs": [
        {
          "output_type": "display_data",
          "data": {
            "text/plain": [
              "<Figure size 640x480 with 1 Axes>"
            ],
            "image/png": "[encoded data removed]"
          },
          "metadata": {}
        }
      ]
    },
    {
      "cell_type": "markdown",
      "source": [
        "#LSTM - Stacked setup with 16 units"
      ],
      "metadata": {
        "id": "qZEvo_8nKGt2"
      }
    },
    {
      "cell_type": "code",
      "source": [
        "inputs = keras.Input(shape=(sequence_length, raw_data.shape[-1]))\n",
        "x = layers.LSTM(16, return_sequences=True)(inputs)\n",
        "x = layers.LSTM(16)(x)\n",
        "outputs = layers.Dense(1)(x)\n",
        "model = keras.Model(inputs, outputs)\n",
        "\n",
        "callbacks = [\n",
        "    keras.callbacks.ModelCheckpoint(\"jena_LSTM_stacked1.keras\",\n",
        "                                    save_best_only=True)\n",
        "]\n",
        "model.compile(optimizer=\"rmsprop\", loss=\"mse\", metrics=[\"mae\"])\n",
        "history = model.fit(train_dataset,\n",
        "                    epochs=10,\n",
        "                    validation_data=val_dataset,\n",
        "                    callbacks=callbacks)\n",
        "model = keras.models.load_model(\"jena_LSTM_stacked1.keras\")\n",
        "print(f\"Test MAE: {model.evaluate(test_dataset)[1]:.2f}\")\n"
      ],
      "metadata": {
        "colab": {
          "base_uri": "https://localhost:8080/"
        },
        "id": "PubfDWvTI0n6",
        "outputId": "09ae5d3c-98ad-465e-a1c5-e6220c33b066"
      },
      "execution_count": 34,
      "outputs": [
        {
          "output_type": "stream",
          "name": "stdout",
          "text": [
            "Epoch 1/10\n",
            "205/205 [==============================] - 55s 240ms/step - loss: 80.3320 - mae: 7.0092 - val_loss: 53.2698 - val_mae: 5.5571\n",
            "Epoch 2/10\n",
            "205/205 [==============================] - 47s 223ms/step - loss: 40.0402 - mae: 4.7290 - val_loss: 29.8833 - val_mae: 4.0145\n",
            "Epoch 3/10\n",
            "205/205 [==============================] - 54s 256ms/step - loss: 22.5596 - mae: 3.4950 - val_loss: 17.9445 - val_mae: 3.1238\n",
            "Epoch 4/10\n",
            "205/205 [==============================] - 49s 236ms/step - loss: 14.3859 - mae: 2.8480 - val_loss: 12.5796 - val_mae: 2.6900\n",
            "Epoch 5/10\n",
            "205/205 [==============================] - 53s 256ms/step - loss: 10.9289 - mae: 2.5460 - val_loss: 10.5087 - val_mae: 2.5039\n",
            "Epoch 6/10\n",
            "205/205 [==============================] - 53s 253ms/step - loss: 9.6283 - mae: 2.4142 - val_loss: 10.1949 - val_mae: 2.4744\n",
            "Epoch 7/10\n",
            "205/205 [==============================] - 48s 228ms/step - loss: 9.1310 - mae: 2.3543 - val_loss: 9.9462 - val_mae: 2.4592\n",
            "Epoch 8/10\n",
            "205/205 [==============================] - 53s 252ms/step - loss: 8.9000 - mae: 2.3235 - val_loss: 10.1121 - val_mae: 2.4850\n",
            "Epoch 9/10\n",
            "205/205 [==============================] - 54s 260ms/step - loss: 8.5575 - mae: 2.2837 - val_loss: 10.2393 - val_mae: 2.5049\n",
            "Epoch 10/10\n",
            "205/205 [==============================] - 52s 251ms/step - loss: 8.3984 - mae: 2.2629 - val_loss: 9.9970 - val_mae: 2.4807\n",
            "102/102 [==============================] - 16s 142ms/step - loss: 11.1705 - mae: 2.6236\n",
            "Test MAE: 2.62\n"
          ]
        }
      ]
    },
    {
      "cell_type": "markdown",
      "source": [
        "#LSTM- Stacked with 32 Units"
      ],
      "metadata": {
        "id": "X80pAxnsLuTF"
      }
    },
    {
      "cell_type": "code",
      "source": [
        "inputs = keras.Input(shape=(sequence_length, raw_data.shape[-1]))\n",
        "x = layers.LSTM(32, return_sequences=True)(inputs)\n",
        "x = layers.LSTM(32)(x)\n",
        "outputs = layers.Dense(1)(x)\n",
        "model = keras.Model(inputs, outputs)\n",
        "\n",
        "callbacks = [\n",
        "    keras.callbacks.ModelCheckpoint(\"jena_LSTM_stacked2.keras\",\n",
        "                                    save_best_only=True)\n",
        "]\n",
        "model.compile(optimizer=\"rmsprop\", loss=\"mse\", metrics=[\"mae\"])\n",
        "history = model.fit(train_dataset,\n",
        "                    epochs=10,\n",
        "                    validation_data=val_dataset,\n",
        "                    callbacks=callbacks)\n",
        "model = keras.models.load_model(\"jena_LSTM_stacked2.keras\")\n",
        "print(f\"Test MAE: {model.evaluate(test_dataset)[1]:.2f}\")\n"
      ],
      "metadata": {
        "colab": {
          "base_uri": "https://localhost:8080/"
        },
        "id": "d8VWVkuEJGCk",
        "outputId": "31c1f6fd-ea69-429b-c33a-15a477ce4cd2"
      },
      "execution_count": 35,
      "outputs": [
        {
          "output_type": "stream",
          "name": "stdout",
          "text": [
            "Epoch 1/10\n",
            "205/205 [==============================] - 52s 228ms/step - loss: 46.5327 - mae: 5.0786 - val_loss: 22.2084 - val_mae: 3.5234\n",
            "Epoch 2/10\n",
            "205/205 [==============================] - 47s 226ms/step - loss: 15.1256 - mae: 2.9279 - val_loss: 11.8952 - val_mae: 2.6509\n",
            "Epoch 3/10\n",
            "205/205 [==============================] - 53s 253ms/step - loss: 10.0541 - mae: 2.4587 - val_loss: 10.2539 - val_mae: 2.4788\n",
            "Epoch 4/10\n",
            "205/205 [==============================] - 53s 250ms/step - loss: 8.8673 - mae: 2.3181 - val_loss: 10.3981 - val_mae: 2.5257\n",
            "Epoch 5/10\n",
            "205/205 [==============================] - 53s 254ms/step - loss: 8.3186 - mae: 2.2466 - val_loss: 10.2665 - val_mae: 2.5226\n",
            "Epoch 6/10\n",
            "205/205 [==============================] - 54s 256ms/step - loss: 7.7670 - mae: 2.1698 - val_loss: 10.3861 - val_mae: 2.5213\n",
            "Epoch 7/10\n",
            "205/205 [==============================] - 56s 268ms/step - loss: 7.3058 - mae: 2.1035 - val_loss: 11.1924 - val_mae: 2.6370\n",
            "Epoch 8/10\n",
            "205/205 [==============================] - 53s 251ms/step - loss: 6.9138 - mae: 2.0422 - val_loss: 10.9966 - val_mae: 2.6131\n",
            "Epoch 9/10\n",
            "205/205 [==============================] - 53s 255ms/step - loss: 6.5205 - mae: 1.9797 - val_loss: 10.6453 - val_mae: 2.5614\n",
            "Epoch 10/10\n",
            "205/205 [==============================] - 47s 224ms/step - loss: 6.1168 - mae: 1.9146 - val_loss: 11.4798 - val_mae: 2.6713\n",
            "102/102 [==============================] - 16s 141ms/step - loss: 11.7714 - mae: 2.6810\n",
            "Test MAE: 2.68\n"
          ]
        }
      ]
    },
    {
      "cell_type": "markdown",
      "source": [
        "#LSTM - Stacked setup with 8 units"
      ],
      "metadata": {
        "id": "lnCxwirNQhIm"
      }
    },
    {
      "cell_type": "code",
      "source": [
        "inputs = keras.Input(shape=(sequence_length, raw_data.shape[-1]))\n",
        "x = layers.LSTM(8, return_sequences=True)(inputs)\n",
        "x = layers.LSTM(8)(x)\n",
        "outputs = layers.Dense(1)(x)\n",
        "model = keras.Model(inputs, outputs)\n",
        "\n",
        "callbacks = [\n",
        "    keras.callbacks.ModelCheckpoint(\"jena_LSTM_stacked3.keras\",\n",
        "                                    save_best_only=True)\n",
        "]\n",
        "model.compile(optimizer=\"rmsprop\", loss=\"mse\", metrics=[\"mae\"])\n",
        "history = model.fit(train_dataset,\n",
        "                    epochs=10,\n",
        "                    validation_data=val_dataset,\n",
        "                    callbacks=callbacks)\n",
        "model = keras.models.load_model(\"jena_LSTM_stacked3.keras\")\n",
        "print(f\"Test MAE: {model.evaluate(test_dataset)[1]:.2f}\")\n"
      ],
      "metadata": {
        "colab": {
          "base_uri": "https://localhost:8080/"
        },
        "id": "i5jnQemiQZKq",
        "outputId": "11720500-0f13-4331-e0ce-c7f65464e6fd"
      },
      "execution_count": 36,
      "outputs": [
        {
          "output_type": "stream",
          "name": "stdout",
          "text": [
            "Epoch 1/10\n",
            "205/205 [==============================] - 53s 231ms/step - loss: 116.5204 - mae: 8.7642 - val_loss: 95.0688 - val_mae: 7.7425\n",
            "Epoch 2/10\n",
            "205/205 [==============================] - 54s 258ms/step - loss: 74.4601 - mae: 6.6987 - val_loss: 63.4511 - val_mae: 6.1277\n",
            "Epoch 3/10\n",
            "205/205 [==============================] - 53s 253ms/step - loss: 53.4849 - mae: 5.5437 - val_loss: 46.4403 - val_mae: 5.1214\n",
            "Epoch 4/10\n",
            "205/205 [==============================] - 53s 253ms/step - loss: 39.4217 - mae: 4.6783 - val_loss: 33.9440 - val_mae: 4.2922\n",
            "Epoch 5/10\n",
            "205/205 [==============================] - 54s 259ms/step - loss: 29.0905 - mae: 3.9761 - val_loss: 25.0743 - val_mae: 3.6531\n",
            "Epoch 6/10\n",
            "205/205 [==============================] - 53s 254ms/step - loss: 21.8696 - mae: 3.4470 - val_loss: 19.0321 - val_mae: 3.2024\n",
            "Epoch 7/10\n",
            "205/205 [==============================] - 49s 234ms/step - loss: 17.0642 - mae: 3.0783 - val_loss: 15.1288 - val_mae: 2.8963\n",
            "Epoch 8/10\n",
            "205/205 [==============================] - 52s 252ms/step - loss: 13.9593 - mae: 2.8218 - val_loss: 12.4160 - val_mae: 2.6676\n",
            "Epoch 9/10\n",
            "205/205 [==============================] - 48s 229ms/step - loss: 12.0420 - mae: 2.6553 - val_loss: 10.8573 - val_mae: 2.5336\n",
            "Epoch 10/10\n",
            "205/205 [==============================] - 54s 255ms/step - loss: 10.9293 - mae: 2.5533 - val_loss: 10.0657 - val_mae: 2.4547\n",
            "102/102 [==============================] - 16s 140ms/step - loss: 12.0420 - mae: 2.6530\n",
            "Test MAE: 2.65\n"
          ]
        }
      ]
    },
    {
      "cell_type": "markdown",
      "source": [
        "#LSTM - Stacked setup with 64 units"
      ],
      "metadata": {
        "id": "8SMTIljYTXdx"
      }
    },
    {
      "cell_type": "code",
      "source": [
        "inputs = keras.Input(shape=(sequence_length, raw_data.shape[-1]))\n",
        "x = layers.LSTM(64, return_sequences=True)(inputs)\n",
        "x = layers.LSTM(64)(x)\n",
        "outputs = layers.Dense(1)(x)\n",
        "model = keras.Model(inputs, outputs)\n",
        "\n",
        "callbacks = [\n",
        "    keras.callbacks.ModelCheckpoint(\"jena_LSTM_stacked3.keras\",\n",
        "                                    save_best_only=True)\n",
        "]\n",
        "model.compile(optimizer=\"rmsprop\", loss=\"mse\", metrics=[\"mae\"])\n",
        "history = model.fit(train_dataset,\n",
        "                    epochs=10,\n",
        "                    validation_data=val_dataset,\n",
        "                    callbacks=callbacks)\n",
        "model = keras.models.load_model(\"jena_LSTM_stacked3.keras\")\n",
        "print(f\"Test MAE: {model.evaluate(test_dataset)[1]:.2f}\")"
      ],
      "metadata": {
        "colab": {
          "base_uri": "https://localhost:8080/"
        },
        "id": "Z_6crxlsTYPx",
        "outputId": "1d329475-bd44-4809-b2e6-e040c2c12a68"
      },
      "execution_count": 37,
      "outputs": [
        {
          "output_type": "stream",
          "name": "stdout",
          "text": [
            "Epoch 1/10\n",
            "205/205 [==============================] - 57s 258ms/step - loss: 24.8355 - mae: 3.6535 - val_loss: 10.7096 - val_mae: 2.5204\n",
            "Epoch 2/10\n",
            "205/205 [==============================] - 47s 224ms/step - loss: 9.3756 - mae: 2.3783 - val_loss: 10.1107 - val_mae: 2.4605\n",
            "Epoch 3/10\n",
            "205/205 [==============================] - 53s 250ms/step - loss: 6.9185 - mae: 2.0383 - val_loss: 11.0878 - val_mae: 2.6055\n",
            "Epoch 4/10\n",
            "205/205 [==============================] - 48s 228ms/step - loss: 5.2966 - mae: 1.7799 - val_loss: 11.8634 - val_mae: 2.7018\n",
            "Epoch 5/10\n",
            "205/205 [==============================] - 49s 237ms/step - loss: 4.2717 - mae: 1.5934 - val_loss: 12.5148 - val_mae: 2.7578\n",
            "Epoch 6/10\n",
            "205/205 [==============================] - 47s 226ms/step - loss: 3.5482 - mae: 1.4469 - val_loss: 12.9007 - val_mae: 2.7941\n",
            "Epoch 7/10\n",
            "205/205 [==============================] - 48s 227ms/step - loss: 3.1270 - mae: 1.3517 - val_loss: 13.0907 - val_mae: 2.8316\n",
            "Epoch 8/10\n",
            "205/205 [==============================] - 50s 239ms/step - loss: 2.7581 - mae: 1.2676 - val_loss: 12.8663 - val_mae: 2.7974\n",
            "Epoch 9/10\n",
            "205/205 [==============================] - 49s 233ms/step - loss: 2.3813 - mae: 1.1760 - val_loss: 13.4969 - val_mae: 2.8787\n",
            "Epoch 10/10\n",
            "205/205 [==============================] - 48s 227ms/step - loss: 2.2522 - mae: 1.1308 - val_loss: 14.2694 - val_mae: 2.9411\n",
            "102/102 [==============================] - 17s 142ms/step - loss: 11.9042 - mae: 2.7051\n",
            "Test MAE: 2.71\n"
          ]
        }
      ]
    },
    {
      "cell_type": "markdown",
      "source": [
        "#LSTM - dropout-regularized, stacked model"
      ],
      "metadata": {
        "id": "rvpcj32sWMNR"
      }
    },
    {
      "cell_type": "code",
      "source": [
        "inputs = keras.Input(shape=(sequence_length, raw_data.shape[-1]))\n",
        "x = layers.LSTM(8, recurrent_dropout=0.5, return_sequences=True)(inputs)\n",
        "x = layers.LSTM(8, recurrent_dropout=0.5)(x)\n",
        "x = layers.Dropout(0.5)(x)\n",
        "outputs = layers.Dense(1)(x)\n",
        "model = keras.Model(inputs, outputs)\n",
        "\n",
        "callbacks = [\n",
        "    keras.callbacks.ModelCheckpoint(\"jena_stacked_LSTM_dropout.keras\",\n",
        "                                    save_best_only=True)\n",
        "]\n",
        "model.compile(optimizer=\"rmsprop\", loss=\"mse\", metrics=[\"mae\"])\n",
        "history = model.fit(train_dataset,\n",
        "                    epochs=10,\n",
        "                    validation_data=val_dataset,\n",
        "                    callbacks=callbacks)\n",
        "model = keras.models.load_model(\"jena_stacked_LSTM_dropout.keras\")\n",
        "print(f\"Test MAE: {model.evaluate(test_dataset)[1]:.2f}\")\n"
      ],
      "metadata": {
        "colab": {
          "base_uri": "https://localhost:8080/"
        },
        "id": "KYucWYOlWGge",
        "outputId": "4d33cc66-15d7-4ecc-cb44-3c5c5f9d5212"
      },
      "execution_count": 38,
      "outputs": [
        {
          "output_type": "stream",
          "name": "stderr",
          "text": [
            "WARNING:tensorflow:Layer lstm_12 will not use cuDNN kernels since it doesn't meet the criteria. It will use a generic GPU kernel as fallback when running on GPU.\n",
            "WARNING:tensorflow:Layer lstm_13 will not use cuDNN kernels since it doesn't meet the criteria. It will use a generic GPU kernel as fallback when running on GPU.\n"
          ]
        },
        {
          "output_type": "stream",
          "name": "stdout",
          "text": [
            "Epoch 1/10\n",
            "205/205 [==============================] - 293s 1s/step - loss: 116.5308 - mae: 8.7244 - val_loss: 93.0583 - val_mae: 7.6621\n",
            "Epoch 2/10\n",
            "205/205 [==============================] - 265s 1s/step - loss: 80.3152 - mae: 6.9825 - val_loss: 69.0285 - val_mae: 6.4586\n",
            "Epoch 3/10\n",
            "205/205 [==============================] - 267s 1s/step - loss: 62.5883 - mae: 6.0290 - val_loss: 51.3997 - val_mae: 5.4521\n",
            "Epoch 4/10\n",
            "205/205 [==============================] - 267s 1s/step - loss: 49.2088 - mae: 5.2590 - val_loss: 38.0234 - val_mae: 4.6020\n",
            "Epoch 5/10\n",
            "205/205 [==============================] - 287s 1s/step - loss: 39.6878 - mae: 4.6826 - val_loss: 28.0526 - val_mae: 3.8926\n",
            "Epoch 6/10\n",
            "205/205 [==============================] - 265s 1s/step - loss: 33.0105 - mae: 4.2772 - val_loss: 20.9693 - val_mae: 3.3490\n",
            "Epoch 7/10\n",
            "205/205 [==============================] - 266s 1s/step - loss: 29.0108 - mae: 4.0268 - val_loss: 16.4045 - val_mae: 2.9803\n",
            "Epoch 8/10\n",
            "205/205 [==============================] - 268s 1s/step - loss: 26.5132 - mae: 3.8630 - val_loss: 13.5393 - val_mae: 2.7386\n",
            "Epoch 9/10\n",
            "205/205 [==============================] - 269s 1s/step - loss: 24.9208 - mae: 3.7621 - val_loss: 12.0630 - val_mae: 2.6169\n",
            "Epoch 10/10\n",
            "205/205 [==============================] - 283s 1s/step - loss: 23.9524 - mae: 3.6964 - val_loss: 11.2550 - val_mae: 2.5461\n"
          ]
        },
        {
          "output_type": "stream",
          "name": "stderr",
          "text": [
            "WARNING:tensorflow:Layer lstm_12 will not use cuDNN kernels since it doesn't meet the criteria. It will use a generic GPU kernel as fallback when running on GPU.\n",
            "WARNING:tensorflow:Layer lstm_13 will not use cuDNN kernels since it doesn't meet the criteria. It will use a generic GPU kernel as fallback when running on GPU.\n"
          ]
        },
        {
          "output_type": "stream",
          "name": "stdout",
          "text": [
            "102/102 [==============================] - 24s 224ms/step - loss: 13.5812 - mae: 2.7810\n",
            "Test MAE: 2.78\n"
          ]
        }
      ]
    },
    {
      "cell_type": "markdown",
      "source": [],
      "metadata": {
        "id": "U6DPiblrhjXB"
      }
    },
    {
      "cell_type": "code",
      "source": [
        "inputs = keras.Input(shape=(sequence_length, raw_data.shape[-1]))\n",
        "x = layers.Conv1D(64, 3, activation='relu')(inputs)\n",
        "x = layers.MaxPooling1D(3)(x)\n",
        "x = layers.Conv1D(128, 3, activation='relu')(x)\n",
        "x = layers.GlobalMaxPooling1D()(x)\n",
        "x = layers.Reshape((-1, 128))(x)  # Reshape the data to be 3D\n",
        "x = layers.LSTM(16)(x)\n",
        "outputs = layers.Dense(1)(x)\n",
        "model = keras.Model(inputs, outputs)\n",
        "\n",
        "model.compile(optimizer=\"rmsprop\", loss=\"mse\", metrics=[\"mae\"])\n",
        "\n",
        "callbacks = [\n",
        "    keras.callbacks.ModelCheckpoint(\"jena_Conv_LSTM.keras\", save_best_only=True)\n",
        "]\n",
        "\n",
        "history = model.fit(train_dataset, epochs=10, validation_data=val_dataset, callbacks=callbacks)\n",
        "\n",
        "model = keras.models.load_model(\"jena_Conv_LSTM.keras\")\n",
        "print(f\"Test MAE: {model.evaluate(test_dataset)[1]:.2f}\")"
      ],
      "metadata": {
        "colab": {
          "base_uri": "https://localhost:8080/"
        },
        "id": "1OB2VkE8hi9c",
        "outputId": "65e6c9e5-4457-413b-af55-620e0e121747"
      },
      "execution_count": 39,
      "outputs": [
        {
          "output_type": "stream",
          "name": "stdout",
          "text": [
            "Epoch 1/10\n",
            "205/205 [==============================] - 52s 227ms/step - loss: 102.6194 - mae: 8.0656 - val_loss: 90.6711 - val_mae: 7.5773\n",
            "Epoch 2/10\n",
            "205/205 [==============================] - 46s 221ms/step - loss: 72.1187 - mae: 6.5495 - val_loss: 64.5680 - val_mae: 6.2812\n",
            "Epoch 3/10\n",
            "205/205 [==============================] - 46s 221ms/step - loss: 50.4535 - mae: 5.3552 - val_loss: 46.0417 - val_mae: 5.2283\n",
            "Epoch 4/10\n",
            "205/205 [==============================] - 48s 232ms/step - loss: 35.0856 - mae: 4.4162 - val_loss: 34.5312 - val_mae: 4.5269\n",
            "Epoch 5/10\n",
            "205/205 [==============================] - 46s 221ms/step - loss: 25.2080 - mae: 3.7607 - val_loss: 27.1399 - val_mae: 4.0286\n",
            "Epoch 6/10\n",
            "205/205 [==============================] - 52s 247ms/step - loss: 19.6171 - mae: 3.3600 - val_loss: 25.4956 - val_mae: 4.0186\n",
            "Epoch 7/10\n",
            "205/205 [==============================] - 52s 248ms/step - loss: 17.0496 - mae: 3.1715 - val_loss: 22.6922 - val_mae: 3.7773\n",
            "Epoch 8/10\n",
            "205/205 [==============================] - 52s 250ms/step - loss: 15.7802 - mae: 3.0627 - val_loss: 21.8259 - val_mae: 3.7065\n",
            "Epoch 9/10\n",
            "205/205 [==============================] - 54s 259ms/step - loss: 14.9829 - mae: 2.9921 - val_loss: 22.7657 - val_mae: 3.7791\n",
            "Epoch 10/10\n",
            "205/205 [==============================] - 45s 214ms/step - loss: 14.3781 - mae: 2.9321 - val_loss: 22.2050 - val_mae: 3.7772\n",
            "102/102 [==============================] - 16s 140ms/step - loss: 24.0098 - mae: 3.8525\n",
            "Test MAE: 3.85\n"
          ]
        }
      ]
    },
    {
      "cell_type": "code",
      "source": [
        "import matplotlib.pyplot as plt\n",
        "\n",
        "Models = (\"1\",\"2\",\"3\",\"4\",\"5\",\"6\",\"7\",\"8\",\"9\",\"10\",\"11\",\"12\",\"13\")\n",
        "Mae = (2.62,2.68,3.25,9.94,9.93,2.57,2.83,2.62,2.68,2.65,2.71,2.78,3.85)\n",
        "\n",
        "# MAE Evaluation\n",
        "plt.scatter(Models, Mae, color=\"red\")\n",
        "plt.title(\"MAE Evaluation\")\n",
        "plt.xlabel(\"Model Number\")\n",
        "plt.ylabel(\"MAE\")\n",
        "\n",
        "for (xi, yi) in zip(Models, Mae):\n",
        "    plt.text(xi, yi, yi, va='bottom', ha='center')\n",
        "\n",
        "plt.show()\n"
      ],
      "metadata": {
        "colab": {
          "base_uri": "https://localhost:8080/",
          "height": 472
        },
        "id": "ykIjUmEPm5qC",
        "outputId": "94795768-81a3-4f38-c871-bd29f30937c1"
      },
      "execution_count": 3,
      "outputs": [
        {
          "output_type": "display_data",
          "data": {
            "text/plain": [
              "<Figure size 640x480 with 1 Axes>"
            ],
            "image/png": "[encoded data removed]"
          },
          "metadata": {}
        }
      ]
    }
  ]
}